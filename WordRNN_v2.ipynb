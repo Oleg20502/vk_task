{
  "cells": [
    {
      "cell_type": "code",
      "execution_count": 1,
      "metadata": {
        "colab": {
          "base_uri": "https://localhost:8080/"
        },
        "id": "YlEdzxt7Tt1d",
        "outputId": "e801b8c0-a711-4184-8f15-3ecb89cfc657"
      },
      "outputs": [
        {
          "output_type": "stream",
          "name": "stdout",
          "text": [
            "Collecting unidecode\n",
            "  Downloading Unidecode-1.3.8-py3-none-any.whl (235 kB)\n",
            "\u001b[?25l     \u001b[90m━━━━━━━━━━━━━━━━━━━━━━━━━━━━━━━━━━━━━━━━\u001b[0m \u001b[32m0.0/235.5 kB\u001b[0m \u001b[31m?\u001b[0m eta \u001b[36m-:--:--\u001b[0m\r\u001b[2K     \u001b[91m━━━━━━━━━━━━\u001b[0m\u001b[90m╺\u001b[0m\u001b[90m━━━━━━━━━━━━━━━━━━━━━━━━━━━\u001b[0m \u001b[32m71.7/235.5 kB\u001b[0m \u001b[31m1.9 MB/s\u001b[0m eta \u001b[36m0:00:01\u001b[0m\r\u001b[2K     \u001b[90m━━━━━━━━━━━━━━━━━━━━━━━━━━━━━━━━━━━━━━━━\u001b[0m \u001b[32m235.5/235.5 kB\u001b[0m \u001b[31m4.1 MB/s\u001b[0m eta \u001b[36m0:00:00\u001b[0m\n",
            "\u001b[?25hInstalling collected packages: unidecode\n",
            "Successfully installed unidecode-1.3.8\n",
            "Collecting emoji\n",
            "  Downloading emoji-2.11.1-py2.py3-none-any.whl (433 kB)\n",
            "\u001b[2K     \u001b[90m━━━━━━━━━━━━━━━━━━━━━━━━━━━━━━━━━━━━━━━━\u001b[0m \u001b[32m433.8/433.8 kB\u001b[0m \u001b[31m4.4 MB/s\u001b[0m eta \u001b[36m0:00:00\u001b[0m\n",
            "\u001b[?25hInstalling collected packages: emoji\n",
            "Successfully installed emoji-2.11.1\n"
          ]
        }
      ],
      "source": [
        "### Для запуска на colab\n",
        "\n",
        "!pip install unidecode\n",
        "!pip install emoji"
      ]
    },
    {
      "cell_type": "code",
      "execution_count": 43,
      "metadata": {
        "id": "1qK8qE0KTkHG"
      },
      "outputs": [],
      "source": [
        "import numpy as np\n",
        "import pandas as pd\n",
        "import matplotlib.pyplot as plt\n",
        "from IPython.display import clear_output\n",
        "import tqdm\n",
        "import time\n",
        "\n",
        "import re\n",
        "import string\n",
        "from unidecode import unidecode\n",
        "import emoji\n",
        "\n",
        "from sklearn.model_selection import train_test_split\n",
        "from sklearn.metrics import accuracy_score, precision_score, recall_score, f1_score\n",
        "from sklearn.metrics import roc_auc_score, roc_curve, auc\n",
        "\n",
        "import torch\n",
        "import torch.nn as nn\n",
        "import torch.nn.functional as F\n",
        "from torch.optim.lr_scheduler import ExponentialLR\n",
        "from torch.utils.data import Dataset, DataLoader\n",
        "from torch.nn.utils.rnn import pad_sequence\n",
        "import torchtext.vocab\n",
        "\n",
        "from collections import Counter\n",
        "\n",
        "import nltk\n",
        "from nltk.tokenize import word_tokenize, TweetTokenizer\n",
        "from nltk.corpus import stopwords\n",
        "from nltk.stem import PorterStemmer\n",
        "from nltk.stem import WordNetLemmatizer"
      ]
    },
    {
      "cell_type": "code",
      "execution_count": 4,
      "metadata": {
        "colab": {
          "base_uri": "https://localhost:8080/"
        },
        "id": "lPMwvLeaVGDi",
        "outputId": "1dd38527-8784-4cbb-db90-8cc7aa2649d2"
      },
      "outputs": [
        {
          "output_type": "stream",
          "name": "stderr",
          "text": [
            "[nltk_data] Downloading package punkt to /root/nltk_data...\n",
            "[nltk_data]   Unzipping tokenizers/punkt.zip.\n",
            "[nltk_data] Downloading package stopwords to /root/nltk_data...\n",
            "[nltk_data]   Unzipping corpora/stopwords.zip.\n",
            "[nltk_data] Downloading package wordnet to /root/nltk_data...\n"
          ]
        },
        {
          "output_type": "execute_result",
          "data": {
            "text/plain": [
              "True"
            ]
          },
          "metadata": {},
          "execution_count": 4
        }
      ],
      "source": [
        "nltk.download('punkt')\n",
        "nltk.download('stopwords')\n",
        "nltk.download('wordnet')"
      ]
    },
    {
      "cell_type": "markdown",
      "metadata": {
        "id": "DwhXA88mTkHH"
      },
      "source": [
        "## Data loading"
      ]
    },
    {
      "cell_type": "code",
      "execution_count": 7,
      "metadata": {
        "id": "czYz-IQOTkHH"
      },
      "outputs": [],
      "source": [
        "file_train = 'train_spam.csv'\n",
        "\n",
        "data_train_all = pd.read_csv(file_train)"
      ]
    },
    {
      "cell_type": "code",
      "execution_count": 8,
      "metadata": {
        "id": "05YBojiYTkHI"
      },
      "outputs": [],
      "source": [
        "texts_train_all = data_train_all['text']\n",
        "labels_all = data_train_all['text_type']\n",
        "target_all = pd.Categorical(labels_all, categories=['ham', 'spam']).codes"
      ]
    },
    {
      "cell_type": "markdown",
      "metadata": {
        "id": "TyolFVtTTkHI"
      },
      "source": [
        "## Preprocessing"
      ]
    },
    {
      "cell_type": "markdown",
      "metadata": {
        "id": "sJOb-ROATkHI"
      },
      "source": [
        "Словарь строится на основе тренировочных дынных"
      ]
    },
    {
      "cell_type": "code",
      "execution_count": 9,
      "metadata": {
        "id": "Qzho-s5QTkHI"
      },
      "outputs": [],
      "source": [
        "lemmatizer = WordNetLemmatizer()\n",
        "\n",
        "tokenizer = TweetTokenizer()\n",
        "\n",
        "ENGLISH_STOP_WORDS = set(stopwords.words('english'))"
      ]
    },
    {
      "cell_type": "code",
      "execution_count": 10,
      "metadata": {
        "id": "wIo3eGy6TkHI"
      },
      "outputs": [],
      "source": [
        "def to_lower(words):\n",
        "    result = words.lower()\n",
        "    return result\n",
        "\n",
        "\n",
        "def remove_underscore(words):\n",
        "    return re.sub(r'_', ' ', words)\n",
        "\n",
        "def remove_punctuation(words):\n",
        "    result = re.sub(r'[!\"#%&\\'()*+,-./:;<=>?@\\[\\]^`{|}~]', ' ', words) # everything except underscore and $\n",
        "    return result\n",
        "\n",
        "\n",
        "def replace_hyperlink(words, replace=' <HTTP> '):\n",
        "    return re.sub(r'http(?:\\S*|\\b)', replace, words)\n",
        "\n",
        "def remove_hyperlink(words):\n",
        "    return replace_hyperlink(words, '')\n",
        "\n",
        "\n",
        "def emoji_to_text(words):\n",
        "    return emoji.demojize(words)\n",
        "\n",
        "def replace_emoji(words,  replace=' <EMOJI> '):\n",
        "    return emoji.replace_emoji(words, replace=replace)\n",
        "\n",
        "def remove_emoji(words):\n",
        "    return replace_emoji(words, '')\n",
        "\n",
        "\n",
        "def replace_non_ascii_words(words, replace=' <NONASCII> '):\n",
        "    pattern = r'\\b[^\\x00-\\x7F]+\\b'\n",
        "    non_ascii_words = re.sub(pattern, replace, words)\n",
        "    return non_ascii_words\n",
        "\n",
        "def replace_non_ascii(words, replace=' <NONASCII> '):\n",
        "    pattern = r'[^\\x00-\\x7F]'\n",
        "    non_ascii_words = re.sub(pattern, replace, words)\n",
        "    return non_ascii_words\n",
        "\n",
        "def remove_non_ascii(words):\n",
        "    # return words.encode('ascii', errors='ignore').decode('ascii')\n",
        "    return unidecode(words)\n",
        "\n",
        "\n",
        "def replace_number(words, replace=' <NUMBER> '):\n",
        "    result = re.sub(r'\\w*\\d\\w*', replace, words)\n",
        "    return result\n",
        "\n",
        "def remove_number(words):\n",
        "    return replace_number(words, '')\n",
        "\n",
        "\n",
        "def replace_currency(words, replace=' <CURRENCY> '):\n",
        "    currency_pattern = r'[£$€₹]'\n",
        "    return re.sub(currency_pattern, replace, words)\n",
        "\n",
        "def remove_currency(words):\n",
        "    return replace_currency(words, '')\n",
        "\n",
        "\n",
        "def replace_tag(words, replace=' <TAG> '):\n",
        "    return re.sub(r'\\w*@\\w*', replace, words)\n",
        "\n",
        "def replace_exclamation(words, replace=' <EXCLAMATION> '):\n",
        "    return re.sub(r'!', replace, words)\n",
        "\n",
        "def replace_question(words, replace=' <QUESTION> '):\n",
        "    return re.sub(r'\\?', replace, words)\n",
        "\n",
        "def replace_slash(words, replace=' <SLASH> '):\n",
        "    return re.sub(r'/', replace, words)\n",
        "\n",
        "def replace_colon(words, replace=' <COLON> '):\n",
        "    return re.sub(r':', replace, words)\n",
        "\n",
        "\n",
        "def remove_whitespace(words):\n",
        "    return words.strip()\n",
        "\n",
        "def replace_newline(words):\n",
        "    return words.replace('\\n', ' ')\n",
        "\n",
        "def remove_stop_words(words):\n",
        "    return [i for i in words if i not in ENGLISH_STOP_WORDS]\n",
        "\n",
        "def word_lemmatizer(words):\n",
        "    return [lemmatizer.lemmatize(s) for s in words]"
      ]
    },
    {
      "cell_type": "code",
      "execution_count": 11,
      "metadata": {
        "id": "sfLeH38GTkHI"
      },
      "outputs": [],
      "source": [
        "def preprocess_pipeline(sentence, preprocess_utils=None):\n",
        "    if preprocess_utils is None:\n",
        "        preprocess_utils = [\n",
        "            to_lower,\n",
        "            replace_newline,\n",
        "            remove_underscore,\n",
        "            replace_hyperlink,\n",
        "            replace_emoji,\n",
        "            replace_non_ascii_words,\n",
        "            replace_non_ascii,\n",
        "            remove_non_ascii,\n",
        "            remove_punctuation,\n",
        "            remove_whitespace,\n",
        "            tokenizer.tokenize,\n",
        "            remove_stop_words,\n",
        "            word_lemmatizer,\n",
        "        ]\n",
        "    for func in preprocess_utils:\n",
        "        sentence = func(sentence)\n",
        "    return sentence"
      ]
    },
    {
      "cell_type": "code",
      "execution_count": 12,
      "metadata": {
        "id": "vVH7S9SdTkHJ"
      },
      "outputs": [],
      "source": [
        "data_train_preprocess = [\n",
        "    preprocess_pipeline(sent) for sent in texts_train_all.to_numpy()\n",
        "]\n",
        "\n",
        "texts_train, texts_val, y_train, y_val = train_test_split(\n",
        "                                        data_train_preprocess,\n",
        "                                        target_all,\n",
        "                                        shuffle=True,\n",
        "                                        random_state=42,\n",
        "                                        stratify=target_all)"
      ]
    },
    {
      "cell_type": "markdown",
      "metadata": {
        "id": "AXQwoPfATkHJ"
      },
      "source": [
        "### Строим словарь"
      ]
    },
    {
      "cell_type": "code",
      "execution_count": 13,
      "metadata": {
        "id": "nnaDy3PHTkHJ"
      },
      "outputs": [],
      "source": [
        "def build_vocab(tokenized_sentences):\n",
        "    counter = Counter()\n",
        "    for sentence in tokenized_sentences:\n",
        "        counter.update(sentence)\n",
        "    vocab = torchtext.vocab.vocab(counter, min_freq=3, specials=('<UNK>', '<SOS>', '<EOS>', '<PAD>'))\n",
        "    vocab.set_default_index(vocab[\"<UNK>\"])\n",
        "    return vocab\n",
        "\n",
        "Vocab = build_vocab(texts_train)\n",
        "\n",
        "VOCAB_SIZE = len(Vocab)\n",
        "PAD_IDX = Vocab['<PAD>']\n",
        "SOS_IDX = Vocab['<SOS>']\n",
        "EOS_IDX = Vocab['<EOS>']\n",
        "UNK_IDX = Vocab['<UNK>']"
      ]
    },
    {
      "cell_type": "code",
      "execution_count": 14,
      "metadata": {
        "colab": {
          "base_uri": "https://localhost:8080/"
        },
        "id": "E8P9GRIWTkHJ",
        "outputId": "73fb9961-760f-4fb7-eecd-a556915f838a"
      },
      "outputs": [
        {
          "output_type": "stream",
          "name": "stdout",
          "text": [
            "12268\n"
          ]
        }
      ],
      "source": [
        "print(VOCAB_SIZE)"
      ]
    },
    {
      "cell_type": "code",
      "execution_count": 15,
      "metadata": {
        "id": "u--N0lzsTkHK"
      },
      "outputs": [],
      "source": [
        "def generate_batch(data):\n",
        "    features, target = [], []\n",
        "    for text, y in data:\n",
        "        features.append(torch.tensor([Vocab['<SOS>']] + \\\n",
        "                                  Vocab.lookup_indices(text) + \\\n",
        "                                  [Vocab['<EOS>']],\n",
        "                                  dtype=torch.long))\n",
        "        target.append(torch.tensor(y, dtype=torch.long))\n",
        "    features = pad_sequence(features, padding_value=Vocab['<PAD>'], batch_first=True)\n",
        "    target = torch.tensor(target)\n",
        "    return features, target\n",
        "\n",
        "\n",
        "BATCH_SIZE = 64\n",
        "\n",
        "train_loader = DataLoader(list(zip(texts_train, y_train)), batch_size=BATCH_SIZE,\n",
        "                        shuffle=True, collate_fn=generate_batch)\n",
        "val_loader = DataLoader(list(zip(texts_val, y_val)), batch_size=BATCH_SIZE,\n",
        "                        shuffle=True, collate_fn=generate_batch)"
      ]
    },
    {
      "cell_type": "code",
      "execution_count": 17,
      "metadata": {
        "colab": {
          "base_uri": "https://localhost:8080/"
        },
        "id": "SJLY9IGATkHK",
        "outputId": "4632e927-f439-47a0-9c53-e0834e6590da"
      },
      "outputs": [
        {
          "output_type": "execute_result",
          "data": {
            "text/plain": [
              "torch.Size([64, 102])"
            ]
          },
          "metadata": {},
          "execution_count": 17
        }
      ],
      "source": [
        "batch = next(iter(train_loader))\n",
        "batch[0].shape"
      ]
    },
    {
      "cell_type": "markdown",
      "metadata": {
        "id": "m6-S00q-TkHK"
      },
      "source": [
        "## Model"
      ]
    },
    {
      "cell_type": "code",
      "execution_count": 18,
      "metadata": {
        "colab": {
          "base_uri": "https://localhost:8080/"
        },
        "id": "QodjEW7OTkHK",
        "outputId": "332843d7-4a36-43e3-911b-8f9647bf5324"
      },
      "outputs": [
        {
          "output_type": "stream",
          "name": "stdout",
          "text": [
            "cuda\n"
          ]
        }
      ],
      "source": [
        "torch.manual_seed(42)\n",
        "\n",
        "DEVICE = torch.device('cuda' if torch.cuda.is_available() else 'cpu')\n",
        "print(DEVICE)"
      ]
    },
    {
      "cell_type": "code",
      "execution_count": 19,
      "metadata": {
        "id": "WCry-wUITkHK"
      },
      "outputs": [],
      "source": [
        "class SpamWordRNN(nn.Module):\n",
        "    def __init__(self, num_tokens, embed_size, hidden_size, drop_p=0.5):\n",
        "        super(SpamWordRNN, self).__init__()\n",
        "\n",
        "        self.num_tokens = num_tokens\n",
        "        self.hidden_size = hidden_size\n",
        "        self.emded_size = embed_size\n",
        "\n",
        "        self.embedding = nn.Embedding(num_tokens, embed_size)\n",
        "        self.rnn = nn.GRU(embed_size, hidden_size, batch_first=True)\n",
        "        self.dropout_embed = nn.Dropout(drop_p)\n",
        "        self.dropout_rnn = nn.Dropout(drop_p)\n",
        "        self.out = nn.Linear(hidden_size, 2)\n",
        "\n",
        "    def forward(self, input):\n",
        "        embedded = self.embedding(input)\n",
        "        embedded = self.dropout_embed(embedded)\n",
        "        _, hidden = self.rnn(embedded)\n",
        "        hidden = self.dropout_rnn(hidden[-1])\n",
        "        output = self.out(hidden)\n",
        "        return output\n"
      ]
    },
    {
      "cell_type": "code",
      "execution_count": 20,
      "metadata": {
        "id": "3w_-3-l7TkHL"
      },
      "outputs": [],
      "source": [
        "def train(model, optimizer, iterator, criterion, epoch, n_show = 50):\n",
        "    model.train()\n",
        "\n",
        "    train_loss_history = []\n",
        "    train_loss = 0\n",
        "    current_loss = 0\n",
        "    for i, batch in tqdm.tqdm(enumerate(iterator), unit=\"batch\", total=len(iterator)):\n",
        "        optimizer.zero_grad()\n",
        "\n",
        "        input, target = batch[0].to(DEVICE), batch[1].to(DEVICE)\n",
        "        output = model(input)\n",
        "\n",
        "        loss = criterion(output, target)\n",
        "        loss.backward()\n",
        "        optimizer.step()\n",
        "\n",
        "        current_loss = loss.item()\n",
        "        train_loss += current_loss\n",
        "        train_loss_history.append(current_loss)\n",
        "\n",
        "        # if i % n_show == 0:\n",
        "        #     print(f'\\n Epoch {epoch}, loss {current_loss:.3f}')\n",
        "\n",
        "    return train_loss / len(iterator)"
      ]
    },
    {
      "cell_type": "code",
      "execution_count": 21,
      "metadata": {
        "id": "DR62GVBLTkHL"
      },
      "outputs": [],
      "source": [
        "def evaluate(model, iterator, criterion):\n",
        "    model.eval()\n",
        "\n",
        "    epoch_loss = 0\n",
        "    with torch.no_grad():\n",
        "        for i, batch in enumerate(iterator):\n",
        "            input, target = batch[0].to(DEVICE), batch[1].to(DEVICE)\n",
        "\n",
        "            output = model(input)\n",
        "\n",
        "            loss = criterion(output, target)\n",
        "\n",
        "            epoch_loss += loss.item()\n",
        "    return epoch_loss / len(iterator)\n",
        "\n",
        "\n",
        "def calc_metrics(model, iterator):\n",
        "    model.eval()\n",
        "\n",
        "    y_true = []\n",
        "    y_pred = []\n",
        "    p_pred = []\n",
        "    with torch.no_grad():\n",
        "        for i, (input, target) in enumerate(iterator):\n",
        "            y_true.extend(target.detach().cpu().tolist())\n",
        "            input, target = input.to(DEVICE), target.to(DEVICE)\n",
        "\n",
        "            output = model(input)\n",
        "\n",
        "            prob_pred = F.softmax(output, dim=1)[:, 1].detach().cpu().tolist()\n",
        "            target_pred = torch.argmax(output, dim=1).detach().cpu().tolist()\n",
        "            p_pred.extend(prob_pred)\n",
        "            y_pred.extend(target_pred)\n",
        "\n",
        "    return (\n",
        "        accuracy_score(y_true, y_pred),\n",
        "        precision_score(y_true, y_pred),\n",
        "        recall_score(y_true, y_pred),\n",
        "        f1_score(y_true, y_pred),\n",
        "        roc_auc_score(y_true, p_pred)\n",
        "    )"
      ]
    },
    {
      "cell_type": "code",
      "execution_count": 42,
      "metadata": {
        "id": "v0AkY3JUTkHL"
      },
      "outputs": [],
      "source": [
        "def epoch_time(start_time, end_time):\n",
        "    elapsed_time = end_time - start_time\n",
        "    elapsed_mins = int(elapsed_time / 60)\n",
        "    elapsed_secs = int(elapsed_time - (elapsed_mins * 60))\n",
        "    return elapsed_mins, elapsed_secs\n",
        "\n",
        "def count_parameters(m: torch.nn.Module, only_trainable: bool = True):\n",
        "    \"\"\"\n",
        "    Returns the total number of parameters used by `m` (only counting\n",
        "    shared parameters once); if `only_trainable` is True, then only\n",
        "    includes parameters with `requires_grad = True`\n",
        "    \"\"\"\n",
        "    parameters = list(m.parameters())\n",
        "    if only_trainable:\n",
        "        parameters = [p for p in parameters if p.requires_grad]\n",
        "    unique = {p.data_ptr(): p for p in parameters}.values()\n",
        "    return sum(p.numel() for p in unique)\n",
        "\n",
        "def save_checkpoint(save_path,\n",
        "                    model,\n",
        "                    optimizer=None,\n",
        "                    scheduler=None,\n",
        "                    epoch=None,\n",
        "                    train_history=None,\n",
        "                    val_history=None,\n",
        "                    roc_auc_val_history=None):\n",
        "    torch.save({\n",
        "        'model_state_dict': model.state_dict(),\n",
        "        'optimizer_state_dict': optimizer.state_dict(),\n",
        "        'scheduler': scheduler.state_dict(),\n",
        "        'train_history': train_history,\n",
        "        'val_history': val_history,\n",
        "        'roc_auc_val_history': roc_auc_val_history,\n",
        "        'epoch': epoch\n",
        "    }, save_path)\n",
        "\n",
        "def load_checkpoint(load_path, model, optimizer=None, scheduler=None):\n",
        "    checkpoint = torch.load(load_path, map_location=DEVICE)\n",
        "    model.load_state_dict(checkpoint['model_state_dict'])\n",
        "    optimizer.load_state_dict(checkpoint['optimizer_state_dict'])\n",
        "    scheduler.load_state_dict(checkpoint['scheduler'])\n",
        "    train_history = checkpoint['train_history']\n",
        "    val_history = checkpoint['val_history']\n",
        "    roc_auc_val_history = checkpoint['roc_auc_val_history']\n",
        "    epoch = checkpoint['epoch']\n",
        "\n",
        "    return model, optimizer, epoch, train_history, val_history, roc_auc_val_history"
      ]
    },
    {
      "cell_type": "code",
      "execution_count": 73,
      "metadata": {
        "id": "OjfIYiNAf90W"
      },
      "outputs": [],
      "source": [
        "new_start = True\n",
        "checkpoint_path = 'checkpoint.pt'\n",
        "\n",
        "EMB_SIZE = 512\n",
        "HID_SIZE = 512\n",
        "DROPOUT = 0.7\n",
        "\n",
        "learning_rate = 0.002\n",
        "lr_decay = 0.90"
      ]
    },
    {
      "cell_type": "code",
      "execution_count": 74,
      "metadata": {
        "colab": {
          "base_uri": "https://localhost:8080/"
        },
        "id": "PzxKc3RVTkHL",
        "outputId": "6554b38e-dec8-4f40-83d6-d1ba7291d6fe"
      },
      "outputs": [
        {
          "output_type": "stream",
          "name": "stdout",
          "text": [
            "Number of parameters: 7858178\n"
          ]
        }
      ],
      "source": [
        "best_val_loss = float('inf')\n",
        "\n",
        "train_history = []\n",
        "val_history = []\n",
        "\n",
        "epoch = 0\n",
        "epoch_history = []\n",
        "\n",
        "accuracy_val = 0\n",
        "precision_val = 0\n",
        "recall_val = 0\n",
        "f1_val = 0\n",
        "roc_auc_val = 0\n",
        "roc_auc_val_history = []\n",
        "\n",
        "model = SpamWordRNN(VOCAB_SIZE, EMB_SIZE, HID_SIZE, DROPOUT).to(DEVICE)\n",
        "\n",
        "criterion = torch.nn.CrossEntropyLoss(ignore_index=PAD_IDX)\n",
        "\n",
        "optimizer = torch.optim.Adam(model.parameters(), lr=learning_rate)\n",
        "\n",
        "lr_scheduler = ExponentialLR(optimizer, gamma=lr_decay)\n",
        "\n",
        "if not new_start:\n",
        "    model, optimizer, epoch, mean_rw_history, td_loss_history, initial_state_v_history = \\\n",
        "                                   load_checkpoint(checkpoint_path, model, optimizer)\n",
        "    print(f'Resuming from epoch {epoch}')\n",
        "\n",
        "print(f'Number of parameters: {count_parameters(model)}')"
      ]
    },
    {
      "cell_type": "code",
      "execution_count": 75,
      "metadata": {
        "id": "L9AxiA7LTkHL"
      },
      "outputs": [],
      "source": [
        "N_epochs = 15\n",
        "n_show = 100"
      ]
    },
    {
      "cell_type": "code",
      "execution_count": 76,
      "metadata": {
        "colab": {
          "base_uri": "https://localhost:8080/",
          "height": 372
        },
        "id": "m4YjPV58TkHL",
        "outputId": "67ab99a4-f14f-4b6a-c09a-c7493d18b3b4"
      },
      "outputs": [
        {
          "output_type": "stream",
          "name": "stdout",
          "text": [
            "Epoch: 16 | Time: 0m 7s\n",
            "Train loss: 0.065; Val. loss: 0.130\n",
            "Accuracy 0.9622, Precision 0.9564, Recall 0.9135, f1 0.9345, ROC AUC 0.9906\n"
          ]
        },
        {
          "output_type": "display_data",
          "data": {
            "text/plain": [
              "<Figure size 1500x400 with 2 Axes>"
            ],
            "image/png": "[encoded data removed]"
          },
          "metadata": {}
        }
      ],
      "source": [
        "for epoch in range(epoch + 1, N_epochs+1):\n",
        "    start_time = time.time()\n",
        "\n",
        "    train_loss = train(model,\n",
        "                       optimizer,\n",
        "                       train_loader,\n",
        "                       criterion,\n",
        "                       epoch,\n",
        "                       n_show)\n",
        "    lr_scheduler.step()\n",
        "\n",
        "    val_loss = evaluate(model, val_loader, criterion)\n",
        "\n",
        "    (accuracy_val,\n",
        "    precision_val,\n",
        "    recall_val,\n",
        "    f1_val,\n",
        "    roc_auc_val) = calc_metrics(model, val_loader)\n",
        "    roc_auc_val_history.append(roc_auc_val)\n",
        "\n",
        "    end_time = time.time()\n",
        "    epoch_mins, epoch_secs = epoch_time(start_time, end_time)\n",
        "\n",
        "    if val_loss < best_val_loss and val_loss < 0.16:\n",
        "        best_val_loss = val_loss\n",
        "        save_checkpoint(checkpoint_path, model, optimizer, lr_scheduler,\n",
        "                        epoch, train_history, val_history, roc_auc_val_history)\n",
        "\n",
        "    train_history.append(train_loss)\n",
        "    val_history.append(val_loss)\n",
        "    epoch_history.append(epoch)\n",
        "\n",
        "    clear_output(True)\n",
        "\n",
        "    print(f'Epoch: {epoch+1:02} | Time: {epoch_mins}m {epoch_secs}s')\n",
        "    print(f'Train loss: {train_loss:.3f}; Val. loss: {val_loss:.3f}')\n",
        "    print(f'Accuracy {accuracy_val:.4f}, Precision {precision_val:.4f}, ', end='')\n",
        "    print(f'Recall {recall_val:.4f}, f1 {f1_val:.4f}, ROC AUC {roc_auc_val:.4f}')\n",
        "\n",
        "    plt.figure(figsize=[15, 4])\n",
        "\n",
        "    plt.subplot(1, 2, 1)\n",
        "    plt.title(\"Loss history\")\n",
        "    plt.plot(epoch_history, train_history, color='r', label='Train')\n",
        "    plt.plot(epoch_history, val_history, color='b', label='Val')\n",
        "    plt.legend()\n",
        "    # plt.yscale('log')\n",
        "    plt.grid()\n",
        "\n",
        "    plt.subplot(1, 2, 2)\n",
        "    plt.title(\"ROC AUC history\")\n",
        "    plt.plot(epoch_history, roc_auc_val_history, color='b')\n",
        "    plt.grid()\n",
        "\n",
        "    plt.tight_layout()\n",
        "    plt.show()\n"
      ]
    },
    {
      "cell_type": "code",
      "execution_count": 77,
      "metadata": {
        "id": "yQtcUTy7ZvuD"
      },
      "outputs": [],
      "source": [
        "# save_checkpoint(checkpoint_path, model, optimizer, lr_scheduler,\n",
        "#                 epoch, train_history, val_history, roc_auc_val_history)"
      ]
    },
    {
      "cell_type": "markdown",
      "metadata": {
        "id": "T2tWjqj9lTtG"
      },
      "source": [
        "### Validation scores"
      ]
    },
    {
      "cell_type": "code",
      "execution_count": 78,
      "metadata": {
        "id": "Q8WWRm9sgTZE",
        "colab": {
          "base_uri": "https://localhost:8080/"
        },
        "outputId": "b96aff83-674c-4190-9f5c-fb8563d0a0f8"
      },
      "outputs": [
        {
          "output_type": "stream",
          "name": "stdout",
          "text": [
            "Accuracy 0.9619, Precision 0.9564, Recall 0.9126, f1 0.9340, ROC AUC 0.9906\n"
          ]
        }
      ],
      "source": [
        "(accuracy_val,\n",
        "precision_val,\n",
        "recall_val,\n",
        "f1_val,\n",
        "roc_auc_val) = calc_metrics(model, val_loader)\n",
        "\n",
        "print(f'Accuracy {accuracy_val:.4f}, Precision {precision_val:.4f}, ', end='')\n",
        "print(f'Recall {recall_val:.4f}, f1 {f1_val:.4f}, ROC AUC {roc_auc_val:.4f}')"
      ]
    },
    {
      "cell_type": "markdown",
      "metadata": {
        "id": "tH1gCJ3JlTtG"
      },
      "source": [
        "### Plot ROC curve"
      ]
    },
    {
      "cell_type": "code",
      "execution_count": 79,
      "metadata": {
        "colab": {
          "base_uri": "https://localhost:8080/"
        },
        "id": "-WmdAh3slTtH",
        "outputId": "3764c0e1-90c3-4d2c-df4e-3af46dd7b8a8"
      },
      "outputs": [
        {
          "output_type": "stream",
          "name": "stderr",
          "text": [
            "64it [00:00, 73.19it/s]\n"
          ]
        }
      ],
      "source": [
        "y_true = []\n",
        "y_pred = []\n",
        "p_pred = []\n",
        "with torch.no_grad():\n",
        "    for i, (input, target) in tqdm.tqdm(enumerate(val_loader)):\n",
        "        y_true.extend(target.detach().cpu().tolist())\n",
        "        input, target = input.to(DEVICE), target.to(DEVICE)\n",
        "\n",
        "        output = model(input)\n",
        "\n",
        "        prob_pred = F.softmax(output, dim=1)[:, 1].detach().cpu().tolist()\n",
        "        target_pred = torch.argmax(output, dim=1).detach().cpu().tolist()\n",
        "        p_pred.extend(prob_pred)\n",
        "        y_pred.extend(target_pred)\n",
        "\n",
        "fpr, tpr, threshold = roc_curve(y_true, p_pred)\n",
        "roc_auc = auc(fpr, tpr)"
      ]
    },
    {
      "cell_type": "code",
      "execution_count": 80,
      "metadata": {
        "colab": {
          "base_uri": "https://localhost:8080/",
          "height": 472
        },
        "id": "ogZSdtvolTtH",
        "outputId": "dfc2a11a-0967-48ee-e091-0e66ea509769"
      },
      "outputs": [
        {
          "output_type": "display_data",
          "data": {
            "text/plain": [
              "<Figure size 640x480 with 1 Axes>"
            ],
            "image/png": "[encoded data removed]"
          },
          "metadata": {}
        }
      ],
      "source": [
        "plt.title('Receiver Operating Characteristic')\n",
        "plt.plot(fpr, tpr, 'b', label = f'AUC = {roc_auc:0.4f}')\n",
        "plt.legend(loc = 'lower right')\n",
        "plt.plot([0, 1], [0, 1],'r--')\n",
        "# plt.xlim([0, 1])\n",
        "# plt.ylim([0, 1])\n",
        "plt.ylabel('True Positive Rate')\n",
        "plt.xlabel('False Positive Rate')\n",
        "plt.grid()\n",
        "plt.show()"
      ]
    },
    {
      "cell_type": "markdown",
      "source": [
        "## Predict labels for test data"
      ],
      "metadata": {
        "id": "ar-S_PGIuRqN"
      }
    },
    {
      "cell_type": "code",
      "execution_count": 124,
      "metadata": {
        "id": "9Y6Zc3aylTtH"
      },
      "outputs": [],
      "source": [
        "file_test = 'test_spam.csv'\n",
        "\n",
        "data_test = pd.read_csv(file_test)\n",
        "\n",
        "texts_test = data_test['text']"
      ]
    },
    {
      "cell_type": "code",
      "source": [
        "data_test_preprocess = [\n",
        "    preprocess_pipeline(sent) for sent in texts_test.to_numpy()\n",
        "]"
      ],
      "metadata": {
        "id": "p-7zQFunukxo"
      },
      "execution_count": 125,
      "outputs": []
    },
    {
      "cell_type": "code",
      "source": [
        "def generate_test_batch(data):\n",
        "    features = []\n",
        "    for text in data:\n",
        "        features.append(torch.tensor([Vocab['<SOS>']] + \\\n",
        "                                  Vocab.lookup_indices(text) + \\\n",
        "                                  [Vocab['<EOS>']],\n",
        "                                  dtype=torch.long))\n",
        "    features = pad_sequence(features, padding_value=Vocab['<PAD>'], batch_first=True)\n",
        "    return features\n",
        "\n",
        "\n",
        "test_loader = DataLoader(data_test_preprocess, batch_size=BATCH_SIZE,\n",
        "                        shuffle=False, collate_fn=generate_test_batch)"
      ],
      "metadata": {
        "id": "2DFJp7KTu0Qp"
      },
      "execution_count": 126,
      "outputs": []
    },
    {
      "cell_type": "code",
      "source": [
        "def predict_proba(model, iterator):\n",
        "    model.eval()\n",
        "\n",
        "    p_pred = []\n",
        "    with torch.no_grad():\n",
        "        for i, batch in enumerate(iterator):\n",
        "            input = batch.to(DEVICE)\n",
        "\n",
        "            output = model(input)\n",
        "\n",
        "            prob_pred = F.softmax(output, dim=1)[:, 1].detach().cpu().tolist()\n",
        "            p_pred.extend(prob_pred)\n",
        "    return p_pred\n",
        "\n",
        "pred_prob = predict_proba(model, test_loader)"
      ],
      "metadata": {
        "id": "p9aRpOwtwJr1"
      },
      "execution_count": 127,
      "outputs": []
    },
    {
      "cell_type": "code",
      "source": [
        "data_test.insert(0, 'score', pred_prob)\n",
        "\n",
        "data_test.to_csv('test_spam_scored.csv')\n",
        "\n",
        "data_test.head()"
      ],
      "metadata": {
        "colab": {
          "base_uri": "https://localhost:8080/",
          "height": 206
        },
        "id": "zXnPi-0-wDJq",
        "outputId": "97233ba6-a05c-473b-cdb3-6bf11345de5d"
      },
      "execution_count": 128,
      "outputs": [
        {
          "output_type": "execute_result",
          "data": {
            "text/plain": [
              "      score                                               text\n",
              "0  0.000404  j jim whitehead ejw cse ucsc edu writes j you ...\n",
              "1  0.003506  original message from bitbitch magnesium net p...\n",
              "2  0.000376  java for managers vince durasoft who just taug...\n",
              "3  0.002449               there is a youtuber name saiman says\n",
              "4  0.992803  underpriced issue with high return on equity t..."
            ],
            "text/html": [
              "\n",
              "  <div id=\"df-095e8357-e0b9-4238-b42e-b82fd194117c\" class=\"colab-df-container\">\n",
              "    <div>\n",
              "<style scoped>\n",
              "    .dataframe tbody tr th:only-of-type {\n",
              "        vertical-align: middle;\n",
              "    }\n",
              "\n",
              "    .dataframe tbody tr th {\n",
              "        vertical-align: top;\n",
              "    }\n",
              "\n",
              "    .dataframe thead th {\n",
              "        text-align: right;\n",
              "    }\n",
              "</style>\n",
              "<table border=\"1\" class=\"dataframe\">\n",
              "  <thead>\n",
              "    <tr style=\"text-align: right;\">\n",
              "      <th></th>\n",
              "      <th>score</th>\n",
              "      <th>text</th>\n",
              "    </tr>\n",
              "  </thead>\n",
              "  <tbody>\n",
              "    <tr>\n",
              "      <th>0</th>\n",
              "      <td>0.000404</td>\n",
              "      <td>j jim whitehead ejw cse ucsc edu writes j you ...</td>\n",
              "    </tr>\n",
              "    <tr>\n",
              "      <th>1</th>\n",
              "      <td>0.003506</td>\n",
              "      <td>original message from bitbitch magnesium net p...</td>\n",
              "    </tr>\n",
              "    <tr>\n",
              "      <th>2</th>\n",
              "      <td>0.000376</td>\n",
              "      <td>java for managers vince durasoft who just taug...</td>\n",
              "    </tr>\n",
              "    <tr>\n",
              "      <th>3</th>\n",
              "      <td>0.002449</td>\n",
              "      <td>there is a youtuber name saiman says</td>\n",
              "    </tr>\n",
              "    <tr>\n",
              "      <th>4</th>\n",
              "      <td>0.992803</td>\n",
              "      <td>underpriced issue with high return on equity t...</td>\n",
              "    </tr>\n",
              "  </tbody>\n",
              "</table>\n",
              "</div>\n",
              "    <div class=\"colab-df-buttons\">\n",
              "\n",
              "  <div class=\"colab-df-container\">\n",
              "    <button class=\"colab-df-convert\" onclick=\"convertToInteractive('df-095e8357-e0b9-4238-b42e-b82fd194117c')\"\n",
              "            title=\"Convert this dataframe to an interactive table.\"\n",
              "            style=\"display:none;\">\n",
              "\n",
              "  <svg xmlns=\"http://www.w3.org/2000/svg\" height=\"24px\" viewBox=\"0 -960 960 960\">\n",
              "    <path d=\"M120-120v-720h720v720H120Zm60-500h600v-160H180v160Zm220 220h160v-160H400v160Zm0 220h160v-160H400v160ZM180-400h160v-160H180v160Zm440 0h160v-160H620v160ZM180-180h160v-160H180v160Zm440 0h160v-160H620v160Z\"/>\n",
              "  </svg>\n",
              "    </button>\n",
              "\n",
              "  <style>\n",
              "    .colab-df-container {\n",
              "      display:flex;\n",
              "      gap: 12px;\n",
              "    }\n",
              "\n",
              "    .colab-df-convert {\n",
              "      background-color: #E8F0FE;\n",
              "      border: none;\n",
              "      border-radius: 50%;\n",
              "      cursor: pointer;\n",
              "      display: none;\n",
              "      fill: #1967D2;\n",
              "      height: 32px;\n",
              "      padding: 0 0 0 0;\n",
              "      width: 32px;\n",
              "    }\n",
              "\n",
              "    .colab-df-convert:hover {\n",
              "      background-color: #E2EBFA;\n",
              "      box-shadow: 0px 1px 2px rgba(60, 64, 67, 0.3), 0px 1px 3px 1px rgba(60, 64, 67, 0.15);\n",
              "      fill: #174EA6;\n",
              "    }\n",
              "\n",
              "    .colab-df-buttons div {\n",
              "      margin-bottom: 4px;\n",
              "    }\n",
              "\n",
              "    [theme=dark] .colab-df-convert {\n",
              "      background-color: #3B4455;\n",
              "      fill: #D2E3FC;\n",
              "    }\n",
              "\n",
              "    [theme=dark] .colab-df-convert:hover {\n",
              "      background-color: #434B5C;\n",
              "      box-shadow: 0px 1px 3px 1px rgba(0, 0, 0, 0.15);\n",
              "      filter: drop-shadow(0px 1px 2px rgba(0, 0, 0, 0.3));\n",
              "      fill: #FFFFFF;\n",
              "    }\n",
              "  </style>\n",
              "\n",
              "    <script>\n",
              "      const buttonEl =\n",
              "        document.querySelector('#df-095e8357-e0b9-4238-b42e-b82fd194117c button.colab-df-convert');\n",
              "      buttonEl.style.display =\n",
              "        google.colab.kernel.accessAllowed ? 'block' : 'none';\n",
              "\n",
              "      async function convertToInteractive(key) {\n",
              "        const element = document.querySelector('#df-095e8357-e0b9-4238-b42e-b82fd194117c');\n",
              "        const dataTable =\n",
              "          await google.colab.kernel.invokeFunction('convertToInteractive',\n",
              "                                                    [key], {});\n",
              "        if (!dataTable) return;\n",
              "\n",
              "        const docLinkHtml = 'Like what you see? Visit the ' +\n",
              "          '<a target=\"_blank\" href=https://colab.research.google.com/notebooks/data_table.ipynb>data table notebook</a>'\n",
              "          + ' to learn more about interactive tables.';\n",
              "        element.innerHTML = '';\n",
              "        dataTable['output_type'] = 'display_data';\n",
              "        await google.colab.output.renderOutput(dataTable, element);\n",
              "        const docLink = document.createElement('div');\n",
              "        docLink.innerHTML = docLinkHtml;\n",
              "        element.appendChild(docLink);\n",
              "      }\n",
              "    </script>\n",
              "  </div>\n",
              "\n",
              "\n",
              "<div id=\"df-a17c6393-dcc1-46a5-b7e9-009177c3bdca\">\n",
              "  <button class=\"colab-df-quickchart\" onclick=\"quickchart('df-a17c6393-dcc1-46a5-b7e9-009177c3bdca')\"\n",
              "            title=\"Suggest charts\"\n",
              "            style=\"display:none;\">\n",
              "\n",
              "<svg xmlns=\"http://www.w3.org/2000/svg\" height=\"24px\"viewBox=\"0 0 24 24\"\n",
              "     width=\"24px\">\n",
              "    <g>\n",
              "        <path d=\"M19 3H5c-1.1 0-2 .9-2 2v14c0 1.1.9 2 2 2h14c1.1 0 2-.9 2-2V5c0-1.1-.9-2-2-2zM9 17H7v-7h2v7zm4 0h-2V7h2v10zm4 0h-2v-4h2v4z\"/>\n",
              "    </g>\n",
              "</svg>\n",
              "  </button>\n",
              "\n",
              "<style>\n",
              "  .colab-df-quickchart {\n",
              "      --bg-color: #E8F0FE;\n",
              "      --fill-color: #1967D2;\n",
              "      --hover-bg-color: #E2EBFA;\n",
              "      --hover-fill-color: #174EA6;\n",
              "      --disabled-fill-color: #AAA;\n",
              "      --disabled-bg-color: #DDD;\n",
              "  }\n",
              "\n",
              "  [theme=dark] .colab-df-quickchart {\n",
              "      --bg-color: #3B4455;\n",
              "      --fill-color: #D2E3FC;\n",
              "      --hover-bg-color: #434B5C;\n",
              "      --hover-fill-color: #FFFFFF;\n",
              "      --disabled-bg-color: #3B4455;\n",
              "      --disabled-fill-color: #666;\n",
              "  }\n",
              "\n",
              "  .colab-df-quickchart {\n",
              "    background-color: var(--bg-color);\n",
              "    border: none;\n",
              "    border-radius: 50%;\n",
              "    cursor: pointer;\n",
              "    display: none;\n",
              "    fill: var(--fill-color);\n",
              "    height: 32px;\n",
              "    padding: 0;\n",
              "    width: 32px;\n",
              "  }\n",
              "\n",
              "  .colab-df-quickchart:hover {\n",
              "    background-color: var(--hover-bg-color);\n",
              "    box-shadow: 0 1px 2px rgba(60, 64, 67, 0.3), 0 1px 3px 1px rgba(60, 64, 67, 0.15);\n",
              "    fill: var(--button-hover-fill-color);\n",
              "  }\n",
              "\n",
              "  .colab-df-quickchart-complete:disabled,\n",
              "  .colab-df-quickchart-complete:disabled:hover {\n",
              "    background-color: var(--disabled-bg-color);\n",
              "    fill: var(--disabled-fill-color);\n",
              "    box-shadow: none;\n",
              "  }\n",
              "\n",
              "  .colab-df-spinner {\n",
              "    border: 2px solid var(--fill-color);\n",
              "    border-color: transparent;\n",
              "    border-bottom-color: var(--fill-color);\n",
              "    animation:\n",
              "      spin 1s steps(1) infinite;\n",
              "  }\n",
              "\n",
              "  @keyframes spin {\n",
              "    0% {\n",
              "      border-color: transparent;\n",
              "      border-bottom-color: var(--fill-color);\n",
              "      border-left-color: var(--fill-color);\n",
              "    }\n",
              "    20% {\n",
              "      border-color: transparent;\n",
              "      border-left-color: var(--fill-color);\n",
              "      border-top-color: var(--fill-color);\n",
              "    }\n",
              "    30% {\n",
              "      border-color: transparent;\n",
              "      border-left-color: var(--fill-color);\n",
              "      border-top-color: var(--fill-color);\n",
              "      border-right-color: var(--fill-color);\n",
              "    }\n",
              "    40% {\n",
              "      border-color: transparent;\n",
              "      border-right-color: var(--fill-color);\n",
              "      border-top-color: var(--fill-color);\n",
              "    }\n",
              "    60% {\n",
              "      border-color: transparent;\n",
              "      border-right-color: var(--fill-color);\n",
              "    }\n",
              "    80% {\n",
              "      border-color: transparent;\n",
              "      border-right-color: var(--fill-color);\n",
              "      border-bottom-color: var(--fill-color);\n",
              "    }\n",
              "    90% {\n",
              "      border-color: transparent;\n",
              "      border-bottom-color: var(--fill-color);\n",
              "    }\n",
              "  }\n",
              "</style>\n",
              "\n",
              "  <script>\n",
              "    async function quickchart(key) {\n",
              "      const quickchartButtonEl =\n",
              "        document.querySelector('#' + key + ' button');\n",
              "      quickchartButtonEl.disabled = true;  // To prevent multiple clicks.\n",
              "      quickchartButtonEl.classList.add('colab-df-spinner');\n",
              "      try {\n",
              "        const charts = await google.colab.kernel.invokeFunction(\n",
              "            'suggestCharts', [key], {});\n",
              "      } catch (error) {\n",
              "        console.error('Error during call to suggestCharts:', error);\n",
              "      }\n",
              "      quickchartButtonEl.classList.remove('colab-df-spinner');\n",
              "      quickchartButtonEl.classList.add('colab-df-quickchart-complete');\n",
              "    }\n",
              "    (() => {\n",
              "      let quickchartButtonEl =\n",
              "        document.querySelector('#df-a17c6393-dcc1-46a5-b7e9-009177c3bdca button');\n",
              "      quickchartButtonEl.style.display =\n",
              "        google.colab.kernel.accessAllowed ? 'block' : 'none';\n",
              "    })();\n",
              "  </script>\n",
              "</div>\n",
              "    </div>\n",
              "  </div>\n"
            ],
            "application/vnd.google.colaboratory.intrinsic+json": {
              "type": "dataframe",
              "variable_name": "data_test",
              "summary": "{\n  \"name\": \"data_test\",\n  \"rows\": 4070,\n  \"fields\": [\n    {\n      \"column\": \"score\",\n      \"properties\": {\n        \"dtype\": \"number\",\n        \"std\": 0.43940613610959217,\n        \"min\": 0.0001440816995454952,\n        \"max\": 0.9996535778045654,\n        \"num_unique_values\": 4039,\n        \"samples\": [\n          0.9890977144241333,\n          0.007493375334888697,\n          0.0038826020900160074\n        ],\n        \"semantic_type\": \"\",\n        \"description\": \"\"\n      }\n    },\n    {\n      \"column\": \"text\",\n      \"properties\": {\n        \"dtype\": \"string\",\n        \"num_unique_values\": 4070,\n        \"samples\": [\n          \"spin lucky wheel earn coins! scratch the card earn coins! complete math earn coins! watch video to earn coins! use my invite code earn coins! my code919163 install now\",\n          \"is ur paper today in e morn or aft\",\n          \"the only one person i can invest my last 3000 and i will be comfortable with maximum profit within days that person is crogers fxt hes the best binary option manger ever contact him via whatsapp \\ud83d\\udc47\\ud83d\\udc47\\ud83d\\udc47\\ud83d\\udc47\\ud83d\\udc47\\ud83d\\udc47 1 304 5139240\"\n        ],\n        \"semantic_type\": \"\",\n        \"description\": \"\"\n      }\n    }\n  ]\n}"
            }
          },
          "metadata": {},
          "execution_count": 128
        }
      ]
    },
    {
      "cell_type": "code",
      "source": [],
      "metadata": {
        "id": "Q4FYIJSZ0y_s"
      },
      "execution_count": null,
      "outputs": []
    }
  ],
  "metadata": {
    "accelerator": "GPU",
    "colab": {
      "gpuType": "T4",
      "provenance": []
    },
    "kernelspec": {
      "display_name": "Python 3",
      "name": "python3"
    },
    "language_info": {
      "codemirror_mode": {
        "name": "ipython",
        "version": 3
      },
      "file_extension": ".py",
      "mimetype": "text/x-python",
      "name": "python",
      "nbconvert_exporter": "python",
      "pygments_lexer": "ipython3",
      "version": "3.9.19"
    }
  },
  "nbformat": 4,
  "nbformat_minor": 0
}