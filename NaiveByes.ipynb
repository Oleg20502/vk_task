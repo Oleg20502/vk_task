{
 "cells": [
  {
   "cell_type": "code",
   "execution_count": 172,
   "metadata": {},
   "outputs": [
    {
     "name": "stderr",
     "output_type": "stream",
     "text": [
      "[nltk_data] Downloading package punkt to\n",
      "[nltk_data]     C:\\Users\\OlegKashurin\\AppData\\Roaming\\nltk_data...\n",
      "[nltk_data]   Package punkt is already up-to-date!\n",
      "[nltk_data] Downloading package stopwords to\n",
      "[nltk_data]     C:\\Users\\OlegKashurin\\AppData\\Roaming\\nltk_data...\n",
      "[nltk_data]   Package stopwords is already up-to-date!\n",
      "[nltk_data] Downloading package wordnet to\n",
      "[nltk_data]     C:\\Users\\OlegKashurin\\AppData\\Roaming\\nltk_data...\n",
      "[nltk_data]   Package wordnet is already up-to-date!\n"
     ]
    },
    {
     "data": {
      "text/plain": [
       "True"
      ]
     },
     "execution_count": 172,
     "metadata": {},
     "output_type": "execute_result"
    }
   ],
   "source": [
    "import numpy as np\n",
    "import pandas as pd\n",
    "import matplotlib.pyplot as plt\n",
    "\n",
    "import re\n",
    "import string\n",
    "from unidecode import unidecode\n",
    "import emoji\n",
    "\n",
    "from sklearn.model_selection import train_test_split\n",
    "from sklearn.feature_extraction.text import TfidfVectorizer\n",
    "from sklearn.naive_bayes import GaussianNB\n",
    "from sklearn.metrics import accuracy_score, precision_score, recall_score, f1_score, roc_auc_score\n",
    "\n",
    "\n",
    "import nltk\n",
    "from nltk.tokenize import word_tokenize, TweetTokenizer\n",
    "from nltk.corpus import stopwords\n",
    "from nltk.stem import PorterStemmer\n",
    "from nltk.stem import WordNetLemmatizer\n",
    "nltk.download('punkt')\n",
    "nltk.download('stopwords')\n",
    "nltk.download('wordnet')"
   ]
  },
  {
   "cell_type": "code",
   "execution_count": null,
   "metadata": {},
   "outputs": [],
   "source": []
  },
  {
   "cell_type": "markdown",
   "metadata": {},
   "source": [
    "## Data loading"
   ]
  },
  {
   "cell_type": "code",
   "execution_count": 236,
   "metadata": {},
   "outputs": [],
   "source": [
    "file_train = 'train_spam.csv'\n",
    "\n",
    "data_train_all = pd.read_csv(file_train)"
   ]
  },
  {
   "cell_type": "code",
   "execution_count": 237,
   "metadata": {},
   "outputs": [],
   "source": [
    "texts_train_all = data_train_all['text']\n",
    "labels_all = data_train_all['text_type']\n",
    "target_all = pd.Categorical(labels_all, categories=['ham', 'spam']).codes"
   ]
  },
  {
   "cell_type": "code",
   "execution_count": 238,
   "metadata": {},
   "outputs": [
    {
     "name": "stdout",
     "output_type": "stream",
     "text": [
      "['gud gudk chikku tke care sleep well gud nyt'\n",
      " 'sure but since my parents will be working on tuesday i dont really need a cover story'\n",
      " 'url url date 1635465 1635465 1635465t1635465 1635465 1635465 1635465 1635465 the observer profile brazil goes to the polls today and all the indications are that its 1635465 million voters will elect a man who once sold peanuts on the street luis lula da silva'\n",
      " 'that said can you text him one more time'\n",
      " '🎉🎊 channel for sell 🎉🎊 ━━━━━━━━━━━━━━━━━ 🎉🎊 100 sale 🎉🎊 ━━━━━━━━━━━━━━━━━ group link members78kmembers price 500 ━━━━━━━━━━━━━━━━━ contact me @lakshyaytm if u are limited @lakshyasbot ━━━━━━━━━━━━━━━━━ first payment then owner'\n",
      " 'hello i need to sell my op id ani one need dm me fast fast'\n",
      " 'message was flagged as spam devs will use this to improve spam protection algorithm'\n",
      " 'lsu seminar visit jim i can send you copies of the reprints of some papers i wrote or co authored please let me know how many copies do you need i shall prepare power point presentations for the student meeting and for the faculty meeting for the students review of my group things we work on with an intention of generating some interest among the students and soliciting resumes for the faculty meeting challenges that energy markets pose to financial modeling i shall be able to e mail the power point presentations later this month vince jim garven on 01 17 2000 04 00 25 pm to vince j kaminski hou ect ect cc subject lsu seminar visit dear vince would you mind emailing to me a short biography vita sometime when you get a chance also if you have a'\n",
      " 'if condoms were to use well advertiesed brand names: pepsodent condom raat bhar dhishum dhishum colgate condom ye hai hamara suraksha chakra nokia condom conecting people mrf condom extra rubber extra mileage moov condom ah se ahaa tak mirinda condomjor ka jhatka dhire se lge godrej hairdye condom kato kholo aur lga lo sprite condom bujhaye only pyas baki all bakwas tata sky condom isko lga daala to life jhingalala'\n",
      " 'i use exmh 1635465 1635465 with procmail for presorting incoming mail and move it to the relevant folder using rcvstore recently my incoming mail or spool location moved to another disk i m not quite clear how to reconfigure procmail rcvstore exmh to accept mail from the new location there seems to be a variable in exmh defaults bgspool it says at the top of the file not to edit these lines so i went ahead and edited it that does not make a difference it seems like procmail is the one that is actually reading the mail from my spool incoming mail area and piping it to rcvstore so i need to configure that probably any idea how i would do this thanks siva exmh users mailing list exmh users url url'\n",
      " 'carnegie mellon kristin the presentation went quite well kevin and i would like to brief you about cmu in general let s go out to lunch when you come back vince kristin gandy enron 11 03 2000 03 55 pm to vince j kaminski hou ect ect cc subject carnegie mellon vince i wanted to email you and let you know how sorry i am that i was not able to make your presentation at carnegie mellon i really was looking forward to the trip and the presentation but unfortunately since i have been on the road a lot lately things started backing up in the office after my meeting on thursday there was no way i would make the 6 pm flight and my original flight would have put me in pittsburgh to late for the presentation anyway i hope you understand and i am looking forward'\n",
      " 'i did something crudely along those lines for vms vax maybe 1635465 years ago there is at least one product that does it for pc though i don t recall its name it is also handy for cases where you have a cd image of some filesystem or some other image of a filesystem that is intrinsically readonly but whose filesystem will not accept or is not graceful readonly storage it is also more or less necessary if you want to work with worm file structures which are older still there have been a number of filesystems for those dating back to the early 1635465s if not before a generic facility of the type you mention is also one way to implement snapshots on top of an existing filesystem the written information must obviously be seekable so you can provide the illusion that you wrote to the storage a'\n",
      " 'i dont know wy he offer tat i think want to show himself as trendy'\n",
      " 'do you like italian food' 'i said its okay sorry'\n",
      " 'i love to wine and dine my lady' 'urgent'\n",
      " 'new car and house for my parentsi have only new job in hand'\n",
      " 'i got a gift 4 u! no cost! no batteries required! tax free performs silently extremely personal! fully returnable n transferable ! its a hug xclusively for u!!'\n",
      " 'how to get upload and download speeds to display in statusbar'\n",
      " 'url url date 1635465 1635465 1635465t1635465 1635465 1635465 1635465 1635465 i think i m going to become one of those people you know one of those people who has a 1635465 semantic web 1635465 category on their weblog this will be a geek purity test question someday onward phil ringnalda fun with rdf 1635465 1635465 rdf can actually be fun as long as you don t foolishly invest too much ego in trying to store rss 1635465 1635465 or wander off into flame wars 1635465 from which we find shelley powers the rdf query o matic 1635465 and the rdf query o matic explained 1635465 1635465 the query o matic accepts the name of an rdf file any valid rdf file and an rdfql rdf query language query and will print out a test value found as a result of that query 1635465 marcus campbell 1635465 my foaf aut'\n",
      " 'it has lots of flaws: bharat biotech on covaxincovishield antibody study hyderabadbased bharat biotech has said that a recent comparative study involving health workers which claimed that serum institute of indias covishield produced more antibodies than its vaccine covaxin had lots of flaws its not a peerreviewed publication nor statistically and scientifically designed study further the study wasnt approved by cdsco and sec it added in a statement read more news by: kiran khatri 05:52 pm 09 jun 2021wednesday sent on inshortschannel telegram'\n",
      " '🔥cracked raw mod vip kr 15 latest vip🔥 🚫loging key cracked by @crackwar join now 🚫try at your own risk 💢pubg korean version 💢enjoy paid hack for free 💥no need to buy paid hack while the crackwar is here💥 🚫more join @crackwar ♥️cracked by @crackwar♥️ 💢share feedbacks must @crackwarbot feel free to share our apk but with proper credit of channel @crackwar ❤️ enjoy ❤️ 🔥paid apk free for you🔥'\n",
      " 'want free diamond dm me'\n",
      " 'progress fyi 1 2 days is optimistic but we have core value of optimism mikeforwarded by mike a roberts hou ect on 10 09 2000 02 26 pm chonawee supatgiat enron 10 09 2000 12 16 pm to mike a roberts hou ect ect cc subject progress mike doug an it guy asked around and he could not find any software that can do the job i am still working on the code the program should be ready in 1 2 days chonawee'\n",
      " 'dinner this fri in london ehud i had to cancel my trip to london steve leppard will take care of my presentations vince ehud i ronn on 09 18 2000 09 12 47 am to lane hughston vkamins enron com pnance teknecon com ds 64 cyrus andrew cmu edu steven leppard enron com geman edu essec fr chris harris natpower com cc subject dinner this fri in london colleagues greetings i d like to plan a dinner subsequent to the adjournment of this week s eprm conference in london fri 9 22 whereas some of you have already notified me of your availability or travel plans please advise whether you are available for dinner on fri 9 22 or sat 9 23 ehud ehud i ronn jack s josey professor in energy studies department of finance mccombs schoo'\n",
      " 'your next amazing xxx picsfree1 video will be sent to you enjoy if one vid is not enough for 2day text back the keyword picsfree1 to get the next video'\n",
      " 'approval is overdue access request for stewart range enron com i will ask him which specific directories he needs to access stinson vince j kaminski 11 22 2000 08 08 am to stinson gibner hou ect ect cc subject approval is overdue access request for stewart range enron com stinson should we do it vinceforwarded by vince j kaminski hou ect on 11 22 2000 08 08 am arsystem mailman enron com on 11 21 2000 07 04 54 pm to vince j kaminski enron com cc subject approval is overdue access request for stewart range enron com this request has been pending approval for 2 days and you are the alternate please click approval to review and act upon this request request id 000000000007876'\n",
      " 'on mon sep 1635465 1635465 at 1635465 1635465 1635465pm 1635465 justin mason wrote razor v1635465 now supported fully hmmm i just upgraded from my modified 1635465 1635465 to a slightly modified 1635465 1635465 i add a routine to evaltests and get sep 1635465 1635465 1635465 1635465 eclectic spamd 1635465 razor1635465 check skipped no such file or directory can t call method log on unblessed reference at usr lib perl1635465 siteperl 1635465 1635465 1635465 razor1635465 client agent pm line 1635465 stdin line 1635465 i haven t quite figured out why yet more to come randomly generated tagline so on one hand honey is an amazingly sophisticated and efficient food source on the other hand it s bee backwash alton brown good eats pantry raid iv comb alone'\n",
      " 'ilug ilug admin enhance your bust amazing breast enhancing capsulesguaranteed to increase lift and firm your breasts in 60 days or your money back 100 herbal and natural proven formula since 1996 increase your bust by 1 to 3 sizes within 30 60 days and be all natural click he http 64 123 160 91 81 li wangxd http 202 101 163 34 81 li wangxd absolutely no side effects be more self confident be more comfortable in bed no more need for a lift or support bra 100 guaranteed and from a name you know and trust you are receiving this email as a double opt in subscriber to the standard affiliates mailing list to remove yourself from all related email lists just click he irish linux users group ilug l'\n",
      " 'r u still working now' 'should work i guess'\n",
      " 'norton systemworks 2002 final clearance 1093 norton systemworks 2002 software suite professional edition 6 feature packed utilities 1 great price a 300 00 combined retail value for only 29 99 protect your computer and your valuable information don t allow yourself to fall prey to destructive viruses click here for more info and to order if you wish to unsubscribe from this list please click here to be removed'\n",
      " 'urban boquist wrote if i run spamassassin on this message url it seems to hang memory usage goes up to 1635465mb and stays there i have let it run for an hour before i killed it this was on a pentium ii 1635465 yes i know a bit slow but still can anyone else confirm this hang maybe i should just upgrade don t run sa on mails this large most people tend to ignore mails larger than about 1635465k in spamassassin processing because it just kills performance there are some known issues with the parsing such as the html parsing stuff which is much improved in 1635465 1635465 which we re soon to release but nothing that s too likely to be fixed by 1635465 1635465 perhaps in 1635465 1635465 though matt this url email is sponsored by thinkgeek welcome to geek heaven url spamassassin talk mailing'\n",
      " 'its said winner never quit i try up my faith to experience it again and its really working with good profit 2197 was received friends kindly join to earn better dont miss the chance if you want to earn inbox him 👇👇👇👇 royalexander1'\n",
      " 'this article from url has been sent to you by khare url excellent evidence of the herd just imagine if the anonymous noise injected into our world newsphere noosphere was say a fraudulent story that a stock accounting scandal had been accused and the evildoers were shorting oh wait that happened an unemployed orange county student took down emulex enjoy rohit khare url stop those presses blonds it seems will survive after all october 1635465 1635465 by lawrence k altman apparently it fell into the category too good to check last friday several british newspapers reported that the world health organization had found in a study that blonds would become extinct within 1635465 years because blondness was caused by a recessive gene that was dying out the reports were repeated on friday by ancho'\n",
      " 'impress your girl with a huge cumshot heya has your cum ever dribbled and you wish it had shot out have you ever wanted to impress your girl with a huge cumshot spur m is the only site to offer an all natural male enhancement formula that is proven to increase your sperm volume by up to 500 our highly potent volume enhancing formula will give our results in days and comes with an impressive 100 guarantee imagine the difference look and feel between dribbling your cum compared to shooting out burst after burst try spur m now and with our money back guarantee you have absolutely nothing to lose look he http tabboulehs net cum no thanks http tabboulehs net rr php'\n",
      " 'you have won a guaranteed £200 award or even £1000 cashto claim ur award call free on 08000407165 18 2 stop getstop on 88222 php'\n",
      " 'online tv deals 312 internet exclusive tv deals fantastic prices click any product for details amazing profits by john beck avacor hair care system balance bracelet blast off the pounds by richard simmons bloussant cybersonic toothbrush flat hose 50 ft juiceman ii miracle blade phase 4 orthotics roll a hose shark steam blaster sounds of the 80 s by time life stick shark walk away the pounds for abs plus thousands of other tv deals online now fantastic prices while supplies last click here if you no longer wish to receive our offers and updates click here and we will promptly honor your request this sf net email is sponsored by thinkgeek welcome to geek heaven http thinkgeek com sf spamassassin sightings mailing list'\n",
      " 'perfect logo charset koi 8 r thinking of breathing new life into your business start from revamping its front endlogo and visualidentity we offer creative custom design of ioqos stationery and web sites under our carefui hand thesepowerful marketing toois wiil brinq a breath of fresh air into your business and make you stand out amongthe competitors you are just a click away from your future success ciick here to see the sampies of our artwork checkour prices and hot offers not interested'\n",
      " 'presenting a wide range of applications just for your phone sms appstore to 111 and download your fav application surfing charges 0p/10kb apply'\n",
      " 'on mon 1635465 sep 1635465 justin mason wrote url 1635465 sep 1635465 1635465 1635465 mail spamassassin 1635465 1635465 tar gz 1635465 sep 1635465 1635465 1635465 url not that i m not grateful but i d really like to install from a src rpm any takers tia time flies like the wind fruit flies like a banana stranger things have happened but none stranger than this does your driver s license say organ donor black holes are where god divided by zero listen to me we are all individuals what if this weren t a hypothetical question steveo url'\n",
      " 'what happen to her tell the truth'\n",
      " 'im going 2 orchard now laready me reaching soon u reaching'\n",
      " 'so you would have visited kyoto tower'\n",
      " 'ok i found dis pierre cardin one which looks normal costs 20 its on sale'\n",
      " 'martin lin norma thanks for your message approved vince from norma villarreal 08 30 2000 08 12 pm to vince j kaminski hou ect ect cc grant masson hou ect ect subject martin lin per my voice mail to vince martin lins offer letter will be provided to him on thursday august 31 2000 however a concern was shared regarding the retention bonus we originally discussed therefore based on his phd and market information we are able to offer him a base salary of 98 100 k and no retention bonus we can discuss retention bonus after he begins his manager role in your group if you would like to discuss further please feel free to call me otherwise please approve salary structure of base 98 000 with no bonus thank you norma villarreal x 31545'\n",
      " 'i remain unconvinced that this isnt an elaborate test of my willpower'\n",
      " 'how its a little difficult but its a simple way to enter this place'\n",
      " 'yes last practice'\n",
      " 'you save me life without debts and i do not think i can pay for everything you have done for me i will continue telling people about your good work in my life'\n",
      " 'london new york houston financial mathematics june july 2001 vince are you just speaking at the one in houston vince j kaminski 05 01 2001 04 45 pm to shirley crenshaw hou ect ect cc subject london new york houston financial mathematics june july 2001 fyi vinceforwarded by vince j kaminski hou ect on 05 01 2001 04 45 pm joanna vidal on 05 01 2001 03 43 11 pm to geman helyettecc subject london new york houston financial mathematics june july 2001 hello speakers my name is joanna vidal and i am the coordinator for the financial mathematics training course being in held on the following dates london on june 28 29 new york on july 9 10 houston on july 16 17 i am'\n",
      " 'residential plot allotment in new moradabad nearby holiday regency 5 hotal plots size 90112162200300351400sq mtr rate 5000sq mtr call on 9540953304'\n",
      " 'im sorry' 'glad to see your reply'\n",
      " 'mail delivery failed returning message to sender this message was created automatically by mail delivery software a message that you sent could not be delivered to one or more of its recipients this is a permanent error the following address es failed salesl hotmail com generated from antoniopilurzo calaluna com smtp error from remote mailer after rcpt to host mx 2 hotmail com 65 54 166 230 550 requested action not taken mailbox unavailable this is a copy of the message including all the headersreturn path received from 61 83 205 164 helo mailwisconsin com by serverl 520 dnslive net with smtp exim 4 50 id lduppz 0001 je 6 g for antoniopilurzo calaluna com tue 19 jul 2005 07 00 09 0400 received from 205 214 4'\n",
      " 'hi dahow is the todays class'\n",
      " 'grant masson great news lets get this moving along sheila can you work out offer letter vince i am in london monday tuesday back weds late i ll ask sheila to fix this for you and if you need me call me on my cell phone vince j kaminski 12 15 2000 09 50 am to david oxley hou ect ect cc vince j kaminski hou ect ect subject grant masson david a follow up on my voice mail message regarding grant dave delainey is on board regarding grant we can bring him back at the same level and comp assuming that resignation was handled in a professional manner dd asked me to work out the details with you can we meet to talk about it on monday vince'\n",
      " 'where to celebrate 31st night? call zatse aap ki information helpline at 01168006800 for details about parties in your area'\n",
      " 'learn to build simple and clean websites that can bring in the dough 75 off for all new software politeness n the most acceptable hypocrisy fashion can be bought style one must possess'\n",
      " 'czesc ludmilo wicku i wicusiu co slychac w polsce zimno ponuro w gdansku aktualnie odwilz co sprzyja grypie uciekamy przed grypa na tydzien do bialki tatrzanskiej pod zakopanem bylismy tam w zeszlym roku przez 4 dni w zimie i bardzo nam sie podobalo gory w zimie sa naprawde piekne bylismy pierwszy raz w zimie w gorach od 25 lat bardzo bedziemy chcieli wpasc jutro do pabianic albo w drodze powrotnej do gdanska nie wiem czy to sie uda bo wieczor zapada bardzo wczesnie a ja nie moge jezdzic w nocy latwo sie mecze i szybki zasypiam bylem u twoich dziewczyn we wrzesniu przypominalem sobie stare czasy jak nocowalismy u was z rodzicami ojciec siedzial na lezaku pod jablonia ech bylo minelo slyszalem ze wicusiowi idzie nadzwyczajnie pamietam jakim ty byles ul'\n",
      " 'xuppernamex we went over this c io sucks'\n",
      " 'hi this is amy we will be sending you a free phone number in a couple of days which will give you an access to all the adult parties'\n",
      " 'when i earn my first $10000 on forex trade it was just like a dream not until i realized i could earn up to $50000 in a week with just $5000 with the help of @eddieharrison i have to say thanks for changing my life'\n",
      " 'bhaag dk bose' 'im ashamed to say that ive tried it'\n",
      " '🐼𝗣𝗮𝗻𝗱𝗮 𝗠𝗼𝗱 𝗜𝗻𝗯𝘂𝗶𝗹𝘁 𝗘𝘀𝗽🐼 ➖➖➖➖➖➖➖➖➖➖➖ 𝗥𝗼𝗼𝘁 𝗡𝗼𝗻 𝗥𝗼𝗼𝘁 𝗪𝗶𝘁𝗵𝗼𝘂𝘁 𝗩𝗶𝗿𝘁𝘂𝗮𝗹✅ 𝗠𝗮𝗶𝗻 𝗜𝗱 𝗦𝗮𝗳𝗲100✅ ➖➖➖➖➖➖➖➖➖➖➖ 𝗛𝗮𝗰𝗸𝘀 𝗙𝗲𝗮𝘁𝘂𝗿𝗲𝘀 🐼🐼🐼 👉 𝗘𝘀𝗽👉 𝗔𝗶𝗺𝗯𝗼𝘁 𝗙𝗼𝘃 👉 𝗡𝗼 𝗥𝗲𝗰𝗼𝗶𝗹 👉 𝗡𝗼 𝗟𝗮𝗴 👉 90 𝗙𝗣𝗦👉 𝗡𝗼 𝗙𝗼𝗴 🔥 𝗦𝗽𝗲𝗰𝗶𝗮𝗹 𝗙𝗲𝗮𝘁𝘂𝗿𝗲𝘀 🔥 👉 𝗡𝗼 𝗡𝗲𝗲𝗱 𝗩𝗽𝗻 𝗙𝗼𝗿 𝗜𝗻𝗱𝗶𝗮𝗻𝘀 𝗧𝗼 𝗣𝗹𝗮𝘆 𝗚𝗹𝗼𝗯𝗮𝗹✅ 👉 𝗡𝗼 𝗡𝗲𝗲𝗱 𝗙𝗶𝗿𝗲𝘄𝗮𝗹𝗹 ✅ ➖➖➖➖➖➖➖➖➖➖➖ 𝗣𝗿𝗶𝗰𝗲𝘀 𝗮𝗿𝗲 𝗮𝘀 𝗳𝗼𝗹𝗹𝗼𝘄𝘀 ❇️1 𝗗𝗮𝘆 150 𝗥𝘀 5 ❇️7 𝗗𝗮𝘆 700 𝗥𝘀 10 ❇️1 𝗠𝗼𝗻𝘁𝗵 1500 𝗥𝘀 25 ❇️ payment method : paytm/ phonepay/gapy/amozone pay/upi/bank transfer 🐼dm to buy key niteshhji'\n",
      " 'i m watchng serendipity nd yar clas aane ka man bilkul ni h'\n",
      " 'can you do a mag meeting this avo at some point'\n",
      " 'bitcoin investments has changed my life i invested $500 dollars and in just 3days i realized $5500 worth of bitcoin sent to my bitcoin wallet all thanks to mr niklas nikolajsen for helping me and my family 👇👇👇👇👇👇👇'\n",
      " 'gоod dау cомвoproхyсhескerbtc hаск free wallethаve bаlаncе bitcoin flаshing сrаck аnd мanу othеr mаnу tutоriаls join coderhacked'\n",
      " 'cps is causing the outages to conserve energy' 'i am at the gate'\n",
      " 'hello everyone i’m here to invite you all into forex trading is one of the easiest ways to get real money trump approved i might add when you invest with the right system you get the right results happy withdrawal to our investors message me @owendrake to know more now here is a list of our investment plans and weekly returns put $500 withdraw $5000 weekly put $800 withdraw $8000 weekly put $1000 withdraw $10000 weekly all country available 😊🇱🇷🏴\\U000e0067\\U000e0062\\U000e0065\\U000e006e\\U000e0067\\U000e007f🇹🇩🇩🇪🇮🇸🇨🇦🇺🇸'\n",
      " 'haan nhi pasand korean'\n",
      " 'buyer beware penis patches penis enlargement patch that works http www gretan com ss a very ancient and fish like smell have no friends not equal to yourself the wise man is he who knows the relative value of things courage is one step ahead of fear idleness is not doing nothing idleness is being free to do anything'\n",
      " '𝑰 𝒉𝒂𝒗𝒆 𝒕𝒓𝒊𝒆𝒅 𝒔𝒆𝒗𝒆𝒓𝒂𝒍 𝒑𝒍𝒂𝒕𝒇𝒐𝒓𝒎 𝒊𝒕 𝒅𝒊𝒅 𝒏𝒐𝒕 𝒘𝒐𝒓𝒌𝒐𝒖𝒕 𝒘𝒆𝒍𝒍 𝑩𝒖𝒕 𝒘𝒉𝒆𝒏 𝑰 𝒕𝒂𝒌𝒆 𝒕𝒉𝒆 𝒓𝒊𝒔𝒌 𝒕𝒐 𝒊𝒏𝒗𝒆𝒔𝒕 𝒎𝒚 𝒔𝒕𝒂𝒓𝒕𝒖𝒑 𝒄𝒂𝒑𝒊𝒕𝒂𝒍 £2600 𝒊𝒏 𝒚𝒐𝒖𝒓 𝒕𝒓𝒂𝒅𝒊𝒏𝒈 𝒑𝒍𝒂𝒕𝒇𝒐𝒓𝒎 𝒏𝒐𝒕 𝒍𝒆𝒔𝒔 𝒕𝒉𝒆𝒏 48𝒉𝒐𝒖𝒓 𝑰 𝒎𝒂𝒅𝒆 𝒐𝒗𝒆𝒓 $24200 𝒇𝒓𝒐𝒎 𝒚𝒐𝒖𝒓 𝒕𝒓𝒂𝒅𝒊𝒏𝒈 𝒑𝒍𝒂𝒕𝒇𝒐𝒓𝒎 𝑰 𝒎𝒖𝒔𝒕 𝒄𝒐𝒏𝒇𝒆𝒔𝒔 𝒚𝒐𝒖 𝒂𝒓𝒆 𝒕𝒓𝒖𝒍𝒚 𝒘𝒐𝒏𝒅𝒆𝒓𝒇𝒖𝒍 𝑴𝒓 @𝑺𝒕𝒂𝒏𝒇𝒊𝒍𝒍𝒂𝑴𝒊𝒄𝒉𝒆𝒂𝒍 👇👇👇👇👇👇👇👇👇👇👇'\n",
      " 'wat so late still early mah or we juz go 4 dinner lor aiya i dunno'\n",
      " 'i m in a meeting'\n",
      " 'on tue 1635465 oct 1635465 angles puglisi wrote is it possible to use new apt to do null to rh1635465 upgrade possible should be it was possible to update to null from rh1635465 1635465 with apt did that on my laptop and well it was painfull to say the least including a ecovery from totally corrupted rpmdb don t expect it to be an easy dist upgrade at any rate so much stuff has changed and apt doesn t always handle all that well the way dependencies are set in rhl even if it s possible are there good reasons why maybe i should not do it and just use the rh iso s i don t think rh1635465 will upgrade from null maybe up1635465date will it s possible but not supported by rh i ve upgraded both my laptop and my home box from null to rh1635465 1635465 and didn t encounter any issues though panu'\n",
      " 'forwarded by sven guckes guckes math fu berlin de url port san luis california september 1635465 1635465 a whale which suddenly breached and crashed into the bow of a fishing boat killed a restaurant owner on board jerry tibbs 1635465 of bakersfield california was aboard his boat the bbq when the whale hit and tossed him into the sea five miles off port san luis three other fishermen stayed aboard the damaged boat which was towed to shore by the us coast guard tibbs and his three friends were just ending a day fishing for albacore when the accident occurred authorities said tibbs body was found after a search lasting more than 1635465 hours coast guard officials said it was the first time they could recall an accident caused by a whale hitting a boat'\n",
      " 'hi guys i am seller and giver if you add 10 members for my group i give you 20 rupees if you add 20 members i give 50 rupees if you add 100 members i give you 500 rupees if you add 80 members i give you 100 rupees if you add 90 members i give you 200 rupees if you add 1k members i give you 10k rupees you add members i give you rupeesmembers massage me parsonal i give you members and ruppessubcribers list'\n",
      " 'p option valuation model mark after recently reviewing the booking of the p options it is my understanding that these options are being valued using a standard spread option model where the price evolution of the two legs of the spread are assumed to be correlated geometric brownian motion processes i e the price process assumptions are consistent with standard black 76 model assumptions extended to two commodities the payoff for a call option is payoff max 0 a b k whe a nxwti delivery price for nymex b posting price wti swap posting basis k posting bonus fixed the only complication of this option as compared to most other spread options is that leg b of the spread is a combination of three prices the two futures prices which make up the wti swap'\n",
      " 'no its not specialisation can work but its slave labor will look for it this month sha cos no shakara 4 beggar'\n",
      " 'yaron s resume kevin i would greatly appreciate if you could help me in this case yaron s father helped me a lot to open many doors at berkeley vinceforwarded by vince j kaminski hou ect on 10 25 2000 05 39 pm charlene jackson enron 10 24 2000 05 15 pm to vince j kaminski hou ect ect cc kevin hannon enron communications enron communications kristin gandy na enron enron shelly jones hou ect ect subject yaron s resume vince kevin hannon is the executive lead for cornell and he needs to approve i am not sure if they have already interviewed on campus he should go through the on campus screening process before attending a super saturday we are reserving the super saturday weekend for indivi'\n",
      " '🌺🌺🌺🌺🌺🌺🌺🌺🌺🌺🌺🌺🌺 𝙒𝙃𝙔 𝘼𝙍𝙀 𝙔𝙊𝙐 𝙎𝘼𝙑𝙄𝙉𝙂 𝙔𝙊𝙐𝙍 𝙈𝙊𝙉𝙀𝙔 𝙒𝙃𝙀𝙉 𝙔𝙊𝙐 𝘾𝘼𝙉 𝙄𝙉𝙑𝙀𝙎𝙏 𝙄𝙏 𝘼𝙉𝘿 𝙂𝙀𝙏 𝙈𝙊𝙍𝙀 𝙋𝙍𝙊𝙁𝙄𝙏𝙎 𝙒𝙄𝙏𝙃 𝙄𝙏 𝙅𝙊𝙄𝙉 𝙏𝙃𝙀 𝙇𝙀𝙂𝙄𝙏 𝘼𝙉𝘿 𝙋𝘼𝙔𝙄𝙉𝙂 𝘾𝙊𝙈𝙋𝘼𝙉𝙔 𝙉𝙊𝙒 𝘼𝙉𝘿 𝙂𝙀𝙏 𝙋𝘼𝙄𝘿 𝘼𝙐𝙏𝙊𝙈𝘼𝙏𝙄𝘾𝘼𝙇𝙇𝙔 𝘼𝙇𝙒𝘼𝙔𝙎 𝙅𝙊𝙄𝙉 𝘽𝙇𝙊𝘾𝙆 𝙁𝙓 𝙎𝙀𝘾𝙐𝙍𝙀 𝙄𝙉𝙑𝙀𝙎𝙏𝙈𝙀𝙉𝙏𝙎 𝙏𝙊 𝙎𝙏𝘼𝙍𝙏 𝙈𝘼𝙆𝙄𝙉𝙂 𝙔𝙊𝙐𝙍 𝙊𝙒𝙉 𝙋𝙍𝙊𝙁𝙄𝙏𝙎 𝙍𝙀𝙂𝙄𝙎𝙏𝙀𝙍 𝙏𝙃𝙍𝙊𝙐𝙂𝙃 𝙏𝙃𝙀 𝙇𝙄𝙉𝙆 𝙉𝙊𝙒 ⬇'\n",
      " 'i hv learnt k jaruri nh kisi kam ko acha smjh kr kro to vo acha hi hta h'\n",
      " 's now only i took tablets reaction morning only'\n",
      " 'candidate vince here is the resume of samer s friend in azurix stinsonforwarded by stinson gibner hou ect on 01 25 2000 10 20 am from chonawee supatgiat azurix on 01 11 2000 03 47 pm to stinson gibner ect cc subject candidate hi dr gibner i just called you but you were not there as you might remember i am working with samer and you was the one who interviewed me for this position samer and i now keep our eyes open for the other job possibilities i would like to know if there is a position available in enron research group that i might fit in my updated resume and transcript are attached in hector s e mail i am looking forward to hearing from you chonaweeforwarded by chon'\n",
      " 'fast'\n",
      " 'software taking a bite out of your budget try oem want to learn how to build your own website literature is news that stays news the reward for a thing well done is to have done it'\n",
      " 'perfect logo charset koi 8 r thinking of breathing new life into your business start from revamping its front end logo and visuai identity loqodentity offers creative custom design of logos stationery and web sites under our carefui hand these powerfui marketing toois will bring a breath of fresh air into your business and make you stand out among the competitors you are just a click away from your future success ciick here to see the sampies of our artwork check our prices and hot offers'\n",
      " 'original message from john hall johnhall evergo net a green once said that if the spotted owl hadn t existed they would have had to invent it a republican once said i am not a crook'\n",
      " '1 urgent outlook email notification new outlook email notification your date of migration is may 7 th you will be unable to send e mail unless you take the following action please go through your notes email and clean out as many old un needed email items as possible before your date of migration after you are migrated to outlook you will only be allocated 100 mb of total mailbox space if more than this amount of data is migrated to outlook you will not be able to send e mail until it is below the 100 mb limit cleaning up your notes email now will prevent this from happening to you enron \\x01 s messaging  is migrating from lotus notes to microsoft outlook 2000 worldwide you will be accessing outlook for all of your email functions why is enron migrati'\n",
      " 'sfrom the training manual it show there is no tech processits all about password reset and troubleshooting'\n",
      " 'are you ready to get it hello viagra is the 1 med to struggle with mens erectile dysfunction like one jokes sais it is stronq enouqh for a man but made for a woman orderinq viaqra online is a very convinient fast and secure way miliions of peopie do it daily to save their privacy and money order here'\n",
      " 'on thu aug 1635465 1635465 at 1635465 1635465 1635465pm 1635465 cmeclax po u le cmevi u ke umri wrote was it sent in html if so and it had a background the background may have been sent in a spam razor agents 1635465 1635465 needs all parts to be spam to make a positive decision though this will change with the next release so it couldn t have been a background could you send me the debug log cheers vipul vipul ved prakash the future is here it s just not software design artist widely distributed url william gibson this url email is sponsored by thinkgeek welcome to geek heaven url razor users mailing list razor users url url'\n",
      " 'let us know how we can help you people who gain weight after weight loss get it first people who are tired of losing weight stay fit for life ☑ weight loss weight loss? ☑ weight gain weight is to increase? ☑ maintaining weight weight to equil? ☑ skin care to improve skin? ☑ immunity system growth rogue is to increase the power? ☑ improves digestion digestion is to keep good? ☑ sport nutrition sport nutrition ☑ nutrition for children good healthy nutrients nutritions of children ☑ good health 🏋🏼♀ good health 30 days only 100 result 100 result in 30 days 30 dayss 💰 money back guarantee ✅ what ever your need call call 8238539006  follow click details form submitte  👇👇👇'\n",
      " 'we confirm eating at esplanade'\n",
      " 'whatthecommitcom’s server ip address could not be found']\n"
     ]
    }
   ],
   "source": [
    "print(texts_train_all[60:160].to_numpy())"
   ]
  },
  {
   "cell_type": "markdown",
   "metadata": {},
   "source": [
    "## Preprocessing 1"
   ]
  },
  {
   "cell_type": "code",
   "execution_count": 217,
   "metadata": {},
   "outputs": [],
   "source": [
    "def remove_hyperlink(word):\n",
    "    return  re.sub(r\"http\\S+\", \"\", word)\n",
    "\n",
    "def to_lower(word):\n",
    "    result = word.lower()\n",
    "    return result\n",
    "\n",
    "def remove_punctuation(word):\n",
    "    # result = word.translate(str.maketrans(dict.fromkeys(string.punctuation)))\n",
    "    punctuation_pattern = r'[^\\w\\s]'\n",
    "    return re.sub(punctuation_pattern, ' ', word)\n",
    "\n",
    "def emoji_to_text(word):\n",
    "    return emoji.demojize(word)\n",
    "\n",
    "def remove_whitespace(word):\n",
    "    result = word.strip()\n",
    "    return result\n",
    "\n",
    "def replace_newline(word):\n",
    "    return word.replace('\\n', '')\n",
    "\n",
    "def remove_number(word, keyword=' NUMBER '):\n",
    "    result = re.sub(r'\\b\\w*\\d\\w*\\b', keyword, word)\n",
    "    return result\n",
    "\n",
    "def remove_currency(word, keyword=' CURRENCY '):\n",
    "    currency_pattern = r'[£$€₹]'\n",
    "    return re.sub(currency_pattern, keyword, word)"
   ]
  },
  {
   "cell_type": "code",
   "execution_count": 218,
   "metadata": {},
   "outputs": [],
   "source": [
    "def preprocess_pipeline(sentence):\n",
    "    preprocess_utils = [\n",
    "                        remove_hyperlink,\n",
    "                        replace_newline,\n",
    "                        to_lower,\n",
    "                        emoji_to_text,\n",
    "                        remove_currency,\n",
    "                        remove_number,\n",
    "                        remove_punctuation,\n",
    "                        remove_whitespace\n",
    "                    ]\n",
    "    for func in preprocess_utils:\n",
    "        sentence = func(sentence)\n",
    "    return sentence"
   ]
  },
  {
   "cell_type": "code",
   "execution_count": 219,
   "metadata": {},
   "outputs": [],
   "source": [
    "data_train_preprocess = [\n",
    "    preprocess_pipeline(sent) for sent in texts_train_all.to_numpy()\n",
    "]"
   ]
  },
  {
   "cell_type": "code",
   "execution_count": 220,
   "metadata": {},
   "outputs": [
    {
     "data": {
      "text/plain": [
       "['make sure alex knows his birthday is over in fifteen minutes as far as youre concerned',\n",
       " 'a resume for john lavorato thanks vince i will get moving on it right away molly vince j kaminski  NUMBER   NUMBER   NUMBER   NUMBER   NUMBER  pm to molly magee hou ect ect cc vince j kaminski hou ect ect subject a resume for john lavorato molly please make arrangements for the interview with this candidate for a trading position interviews with john lavorato jeff shankman gary hickerson stinson gibner i talked to him in new york and he is considering other opportunities so we have to act fast i think john will like him more than punit thanks',\n",
       " 'plzz visit my website moviesgodml to get all movies for free and also i provide direct download links no redirect and ads smiling_face_with_smiling_eyes  smiling_face_with_smiling_eyes  smiling_face_with_smiling_eyes  smiling_face_with_smiling_eyes  beaming_face_with_smiling_eyes',\n",
       " 'urgent your mobile number has been awarded with a  CURRENCY  NUMBER  prize guaranteed call  NUMBER  from land line claim  NUMBER  valid  NUMBER  only  NUMBER',\n",
       " 'overview of hr associates analyst project per david s request attached is an overview of the hr associates analysts project creating a human resource value index this document will provide a brief top line overview of the following description of the challenges people involved positive outcomes high level description of the process we suggest if you have any questions before our tuesday meeting please contact either myself or dan brown thanks tana cashion david oxley ect  NUMBER   NUMBER   NUMBER   NUMBER   NUMBER  am to gerry gibson corp enron enron cc andrea yowman corp enron enron bob sparger corp enron enron tim o rourke corp enron enron ted c bland hou ect ect daniel brown na enron enron tana cashion na enron enron rhonna palmer hou ect ect cindy',\n",
       " 'i am so greatful to mrs valerie dodson for helping change my life she gives free bitcoins to newly subscribed members and her trading signals are accurate just click on the link below',\n",
       " 'url url date not supplied government employees are routinely screened in a bid to spot spies but the testing is useless says influential panel of scientists',\n",
       " 'welcome to jefferson pilot s gateway to wealth as one of the industry s premier producers you must continually seek qualified cutting edge services financial profiles concept profiles professional is a personal and business analysis tool that analyzes a client s insurance investment and financial planning goals to help them see their situation today compared to their objectives market profiles professional is an ideal tool for true financial planning it not only provides a thorough analysis including asset allocation but it can calculate tax implications in a client s plan due to its modular format it can be used for specific planning needs as well as more comprehensive planning benefits this software not only provides exceptional analysis but excels in providing simple as well as comprehe',\n",
       " 'looks like your ham corpus by and large has to jeremy url in a header while your spam corpus by and large doesn t but this one does interestingly for me one of the highest value spam indicators was the name of the mail host that the spam was delivered to in the to line so mail to info url was pretty much a dead cert for the filters anthony baxter anthony interlink com au it s never too late to have a happy childhood',\n",
       " 'how are you with moneyas in to youmoney aint a thinghow are you sha',\n",
       " 'sevil yaman great let me know how she performs at  NUMBER   NUMBER  am  NUMBER   NUMBER   NUMBER   NUMBER  you wrote hi michelle thanks for your input we are moving ahead to offer sevil a summer internship with us vincemichelle michot foss on  NUMBER   NUMBER   NUMBER   NUMBER   NUMBER   NUMBER  pm to vince j kaminski hou ect ect cc subject sevil yamanhi one of the ph d econ students over here sevil yaman has been talking with you she s interested in a summer internship that will help her ground her dissertation with our help sevil has become totally corrupted i have successfully impacted her view of the world re academic economics v industry she would like her diss to be as relevant as possible and with that in mind already moved from a pure electricity tr',\n",
       " 'cinergy monthly prices  NUMBER  to date margaret please find attached file with cinergy prices last day of the month starting  NUMBER  to date i have also included daily price for the same period just in case you might need it the source of the data is megawatt daily price survey note that prices are given as common low and common high which means that data was gathered through representative sample survey please let me know if you need any additional data regards elena vince j kaminski ect  NUMBER   NUMBER   NUMBER   NUMBER   NUMBER  pm to elena chilkina corp enron enron cc kevin g moore hou ect ect vince j kaminski hou ect ect margaret carson corp enron enron subject cinergy monthly prices  NUMBER  to date elena can you please help wiht this request kevin please call me if',\n",
       " 'stop calling everyone saying i might have cancer my throat hurts to talk i cant be answering everyones calls if i get one more call im not babysitting on monday',\n",
       " 'statistician from rice osman this guy is too much i would tell him that we understand that he has to make the best choice for himself and can change his mind but at this point we treat his decision as final but we still appreciate the interest he showed in enron we never had any luck hiring a statistician maybe we shall get one some day vince osman sezgen ees  NUMBER   NUMBER   NUMBER   NUMBER   NUMBER  am to vince j kaminski hou ect ect pinnamaneni krishnarao hou ect ect cc subject statistician from rice i had a message on my phone this morning from william indicating that he had changed his mind and will be taking another job he also mentions that the other organization will give him time to publish his thesis and he assumes enron would not do that i am inclined to give up o',\n",
       " 'hello have you seen and discussed this article and his approach thank you url hell there are no rules here we re trying to accomplish something thomas alva edison this url email is sponsored by osdn tired of that same old cell phone get a new here for free url spamassassin devel mailing list spamassassin devel url url',\n",
       " 'meeting requested i will ask rebekah to try to set it up for monday kg vince j kaminski ect  NUMBER   NUMBER   NUMBER   NUMBER   NUMBER  pm to kevin garland enron communications enron communications enron cc rebekah rushing enron communications enron communications vince j kaminski hou ect ect subject meeting requested kevin let s meet for lunch next week monday of friday would be best we can talk about the project and decide who has the right skills to help you the person who supports ebs is stinson gibner and his lead person is martin lin my secretary s number is  NUMBER   NUMBER  shirley crenshaw vince to vince j kaminski hou ect ect cc rebekah rushing enron communications enron communications subject meeting requested vince i would like to meet with you or someone in',\n",
       " 'you have to curl wget git the file if you want to use it like anywhere else',\n",
       " 'keep your esignature features save  NUMBER  view online  NUMBER  esignature solution save  NUMBER  with code luckyday save  NUMBER  when you buy today this week only we are offering  NUMBER  off docusign standard and business pro simply enter luckyday at checkout',\n",
       " 'mr sud rebecca i share some of your concerns regarding mr sud he is retired and he chose to contact us rather indirectly or on the spur of the moment i understand that things are done differently in different cultures but i did not meet him and could not form my judgment based on personal observations however the information he gave us seems to be too important not to convey to you and not to act upon vince kaminski',\n",
       " 'on september  NUMBER  kialllists url said os x is linux er no it s not it s kinda bsd related but it s definitely not linux waider waider url yes it is very personal of me since i am project leader i must not be permitted to go insane theo de radt irish linux users group ilug url url for un subscription information list maintainer listmaster url',\n",
       " 'hi i m building an rpm for the resin webserver and i basically want to install the entire tarball under a diretory but the tarball includes subdirectorys in my spec i have install s m  NUMBER  name version release rpmbuildroot usr local resin and i m getting install resin  NUMBER   NUMBER   NUMBER  bin is a directory install resin  NUMBER   NUMBER   NUMBER  conf is a directory is there a proper nice way i should handle this m if i seem super human i have been misunderstood c dream theater mark url icq  NUMBER  jid talios url rpm list mailing list rpm list freshrpms net url',\n",
       " 'what are the main symptoms and manifestations of  NUMBER  the main manifestations of  NUMBER  patients are fever dry cough and fatigue some patients have diminished or lost sense of smell and taste as the first symptoms a small number of patients are accompanied by nasal congestion runny nose sore throat conjunctivitis myalgia and diarrheadefeating  NUMBER  requires the joint efforts of all people in india sun pharma will do its best click to participate in the parttime task of fighting  NUMBER  and get daily rewards',\n",
       " 'would you like to get free navigation forever and maps for  NUMBER  countries to your nokia phone  learn more and install now from',\n",
       " 'prospective  NUMBER   NUMBER  houston visit ehud june  NUMBER  works for me do you want to firm it up vince ehud i ronn on  NUMBER   NUMBER   NUMBER   NUMBER   NUMBER   NUMBER  pm to vince j kaminski enron com cc subject prospective  NUMBER   NUMBER  houston visit vince many thanks for your e mail what about june  NUMBER  i have several trips in between may  NUMBER  and june  NUMBER  i thank you for the invitation may i at this time acquire an option to visit on that date with the finalization of the visit s timing to be completed early next month thanks and best regards ehud ehud i ronn department of finance college and graduate school of business university of texas at austin austin tx  NUMBER   NUMBER  voice  NUMBER   NUMBER   NUMBER  fax  NUMBER   NUMBER   NUMBER  internet eronn mail utexas edu',\n",
       " 'url jm url changed what removed added status new assigned additional comments from jm url  NUMBER   NUMBER   NUMBER   NUMBER   NUMBER   NUMBER  use of config is gradually being removed thankfully i don t want to see any of that stuff in there if it acn be avoided as different perl versions jsut vary so much in that stuff  NUMBER  perl has no concept of where the rules could be unless they re in the perl libdir usr lib  NUMBER  siteperl  NUMBER  x x foo perl does not know about the existence of usr share or etc used to use usr lib  NUMBER  for storing rules and it was actually much worse than it is now so we need an out of band way to tell sa where to find this stuff that s the problem  NUMBER  try perl url dev null to allow bots to build it i think i might be missing some details of what you',\n",
       " 'coffee mythcoffee drinkers are more prone to heart diseases  NUMBER   NUMBER   NUMBER   NUMBER  within  NUMBER  to know a few facts about coffee',\n",
       " 'jay wants to work out first hows  NUMBER  sound',\n",
       " 'approval for reviewer roberts jr michael a has suggested reviewers and submitted them for your approval you may review modify this list of reviewers by logging on to pep at http pep corp enron com and going to supervisor services please remember no feedback can be completed on roberts jr michael a until you have approved the list',\n",
       " 'project brainstorming for paulo april i ll be in colorado until march  NUMBER  we can schedule next week or you can talk to him directly currently ebs research is helping kevin howard and scott yeager indirectly via kevin in their effort to assess the value of an eyeball paulo s research will complement this effort the research that paulo will perform for you will be part of a bigger picture work that kevin howard has aked stinson and i to support you can call me on my cell  NUMBER   NUMBER   NUMBER  while i am in co regards ravi april hodgson  NUMBER   NUMBER   NUMBER   NUMBER   NUMBER  pm to stinson gibner hou ect ect enron cc ravi thuraisingham enron communications enron communications vince j kaminski hou ect ect enron subject project brainstorming for paulo i will be in my office frid',\n",
       " 'you could have seen mei didt recognise you face']"
      ]
     },
     "execution_count": 220,
     "metadata": {},
     "output_type": "execute_result"
    }
   ],
   "source": [
    "data_train_preprocess[:30]"
   ]
  },
  {
   "cell_type": "code",
   "execution_count": 221,
   "metadata": {},
   "outputs": [],
   "source": [
    "lemmatizer = WordNetLemmatizer()\n",
    "\n",
    "tokenizer = TweetTokenizer()\n",
    "\n",
    "ENGLISH_STOP_WORDS = set(stopwords.words('english'))"
   ]
  },
  {
   "cell_type": "code",
   "execution_count": 222,
   "metadata": {},
   "outputs": [],
   "source": [
    "def remove_stop_words(words):\n",
    "    result = [i for i in words if i not in ENGLISH_STOP_WORDS]\n",
    "    return result\n",
    "\n",
    "def word_lemmatizer(words):\n",
    "    return [lemmatizer.lemmatize(s) for s in words]"
   ]
  },
  {
   "cell_type": "code",
   "execution_count": 223,
   "metadata": {},
   "outputs": [],
   "source": [
    "def tokenize_pipeline(sentence):\n",
    "    words = tokenizer.tokenize(sentence)\n",
    "    tokenize_utils = [remove_stop_words, word_lemmatizer]\n",
    "    for func in tokenize_utils:\n",
    "        words = func(words)\n",
    "    return words"
   ]
  },
  {
   "cell_type": "code",
   "execution_count": 224,
   "metadata": {},
   "outputs": [],
   "source": [
    "data_train_tokenized = [\n",
    "    tokenize_pipeline(sent) for sent in data_train_preprocess\n",
    "]"
   ]
  },
  {
   "cell_type": "code",
   "execution_count": 225,
   "metadata": {},
   "outputs": [
    {
     "name": "stdout",
     "output_type": "stream",
     "text": [
      "['plzz', 'visit', 'website', 'moviesgodml', 'get', 'movie', 'free', 'also', 'provide', 'direct', 'download', 'link', 'redirect', 'ad', 'smiling_face_with_smiling_eyes', 'smiling_face_with_smiling_eyes', 'smiling_face_with_smiling_eyes', 'smiling_face_with_smiling_eyes', 'beaming_face_with_smiling_eyes']\n"
     ]
    }
   ],
   "source": [
    "print(data_train_tokenized[2])"
   ]
  },
  {
   "cell_type": "code",
   "execution_count": 226,
   "metadata": {},
   "outputs": [
    {
     "name": "stdout",
     "output_type": "stream",
     "text": [
      "['𝑰𝒕𝒔', '𝒕𝒉𝒆', '𝒔𝒆𝒄𝒐𝒏𝒅', '𝒕𝒊𝒎𝒆', '𝒐𝒇', '𝒓𝒆𝒄𝒆𝒊𝒗𝒊𝒏𝒈', '𝒎𝒚', '𝒑𝒓𝒐𝒇𝒊𝒕', '𝒇𝒓𝒐𝒎', '𝒕𝒉𝒊𝒔', '𝒊𝒏𝒗𝒆𝒔𝒕𝒎𝒆𝒏𝒕', '𝒑𝒍𝒂𝒕𝒇𝒐𝒓𝒎', '𝒂𝒏𝒅', '𝑰', '𝒏𝒆𝒆𝒅', '𝒕𝒐', '𝒕𝒆𝒔𝒕𝒊𝒇𝒚', '𝒕𝒐', '𝒚𝒐𝒖', '𝒕𝒉𝒂𝒕', '𝑰', '𝒋𝒖𝒔𝒕', '𝒓𝒆𝒄𝒆𝒊𝒗𝒆𝒅']\n"
     ]
    }
   ],
   "source": [
    "text = '𝑰𝒕𝒔 𝒕𝒉𝒆 𝒔𝒆𝒄𝒐𝒏𝒅 𝒕𝒊𝒎𝒆 𝒐𝒇 𝒓𝒆𝒄𝒆𝒊𝒗𝒊𝒏𝒈 𝒎𝒚 𝒑𝒓𝒐𝒇𝒊𝒕 𝒇𝒓𝒐𝒎 𝒕𝒉𝒊𝒔 𝒊𝒏𝒗𝒆𝒔𝒕𝒎𝒆𝒏𝒕 𝒑𝒍𝒂𝒕𝒇𝒐𝒓𝒎 𝒂𝒏𝒅 𝑰 𝒏𝒆𝒆𝒅 𝒕𝒐 𝒕𝒆𝒔𝒕𝒊𝒇𝒚 𝒕𝒐 𝒚𝒐𝒖 𝒕𝒉𝒂𝒕 𝑰 𝒋𝒖𝒔𝒕 𝒓𝒆𝒄𝒆𝒊𝒗𝒆𝒅'\n",
    "text = preprocess_pipeline(text)\n",
    "text = tokenize_pipeline(text)\n",
    "print(text)"
   ]
  },
  {
   "cell_type": "code",
   "execution_count": null,
   "metadata": {},
   "outputs": [],
   "source": []
  },
  {
   "cell_type": "code",
   "execution_count": null,
   "metadata": {},
   "outputs": [],
   "source": []
  },
  {
   "cell_type": "code",
   "execution_count": 227,
   "metadata": {},
   "outputs": [],
   "source": [
    "texts_train, texts_val, y_train, y_val = train_test_split(\n",
    "                                        data_train_tokenized,\n",
    "                                        target_all,\n",
    "                                        shuffle=True,\n",
    "                                        random_state=42, \n",
    "                                        stratify=target_all)"
   ]
  },
  {
   "cell_type": "markdown",
   "metadata": {},
   "source": [
    "## Feature extraction"
   ]
  },
  {
   "cell_type": "code",
   "execution_count": 228,
   "metadata": {},
   "outputs": [
    {
     "data": {
      "text/html": [
       "<style>#sk-container-id-8 {color: black;}#sk-container-id-8 pre{padding: 0;}#sk-container-id-8 div.sk-toggleable {background-color: white;}#sk-container-id-8 label.sk-toggleable__label {cursor: pointer;display: block;width: 100%;margin-bottom: 0;padding: 0.3em;box-sizing: border-box;text-align: center;}#sk-container-id-8 label.sk-toggleable__label-arrow:before {content: \"▸\";float: left;margin-right: 0.25em;color: #696969;}#sk-container-id-8 label.sk-toggleable__label-arrow:hover:before {color: black;}#sk-container-id-8 div.sk-estimator:hover label.sk-toggleable__label-arrow:before {color: black;}#sk-container-id-8 div.sk-toggleable__content {max-height: 0;max-width: 0;overflow: hidden;text-align: left;background-color: #f0f8ff;}#sk-container-id-8 div.sk-toggleable__content pre {margin: 0.2em;color: black;border-radius: 0.25em;background-color: #f0f8ff;}#sk-container-id-8 input.sk-toggleable__control:checked~div.sk-toggleable__content {max-height: 200px;max-width: 100%;overflow: auto;}#sk-container-id-8 input.sk-toggleable__control:checked~label.sk-toggleable__label-arrow:before {content: \"▾\";}#sk-container-id-8 div.sk-estimator input.sk-toggleable__control:checked~label.sk-toggleable__label {background-color: #d4ebff;}#sk-container-id-8 div.sk-label input.sk-toggleable__control:checked~label.sk-toggleable__label {background-color: #d4ebff;}#sk-container-id-8 input.sk-hidden--visually {border: 0;clip: rect(1px 1px 1px 1px);clip: rect(1px, 1px, 1px, 1px);height: 1px;margin: -1px;overflow: hidden;padding: 0;position: absolute;width: 1px;}#sk-container-id-8 div.sk-estimator {font-family: monospace;background-color: #f0f8ff;border: 1px dotted black;border-radius: 0.25em;box-sizing: border-box;margin-bottom: 0.5em;}#sk-container-id-8 div.sk-estimator:hover {background-color: #d4ebff;}#sk-container-id-8 div.sk-parallel-item::after {content: \"\";width: 100%;border-bottom: 1px solid gray;flex-grow: 1;}#sk-container-id-8 div.sk-label:hover label.sk-toggleable__label {background-color: #d4ebff;}#sk-container-id-8 div.sk-serial::before {content: \"\";position: absolute;border-left: 1px solid gray;box-sizing: border-box;top: 0;bottom: 0;left: 50%;z-index: 0;}#sk-container-id-8 div.sk-serial {display: flex;flex-direction: column;align-items: center;background-color: white;padding-right: 0.2em;padding-left: 0.2em;position: relative;}#sk-container-id-8 div.sk-item {position: relative;z-index: 1;}#sk-container-id-8 div.sk-parallel {display: flex;align-items: stretch;justify-content: center;background-color: white;position: relative;}#sk-container-id-8 div.sk-item::before, #sk-container-id-8 div.sk-parallel-item::before {content: \"\";position: absolute;border-left: 1px solid gray;box-sizing: border-box;top: 0;bottom: 0;left: 50%;z-index: -1;}#sk-container-id-8 div.sk-parallel-item {display: flex;flex-direction: column;z-index: 1;position: relative;background-color: white;}#sk-container-id-8 div.sk-parallel-item:first-child::after {align-self: flex-end;width: 50%;}#sk-container-id-8 div.sk-parallel-item:last-child::after {align-self: flex-start;width: 50%;}#sk-container-id-8 div.sk-parallel-item:only-child::after {width: 0;}#sk-container-id-8 div.sk-dashed-wrapped {border: 1px dashed gray;margin: 0 0.4em 0.5em 0.4em;box-sizing: border-box;padding-bottom: 0.4em;background-color: white;}#sk-container-id-8 div.sk-label label {font-family: monospace;font-weight: bold;display: inline-block;line-height: 1.2em;}#sk-container-id-8 div.sk-label-container {text-align: center;}#sk-container-id-8 div.sk-container {/* jupyter's `normalize.less` sets `[hidden] { display: none; }` but bootstrap.min.css set `[hidden] { display: none !important; }` so we also need the `!important` here to be able to override the default hidden behavior on the sphinx rendered scikit-learn.org. See: https://github.com/scikit-learn/scikit-learn/issues/21755 */display: inline-block !important;position: relative;}#sk-container-id-8 div.sk-text-repr-fallback {display: none;}</style><div id=\"sk-container-id-8\" class=\"sk-top-container\"><div class=\"sk-text-repr-fallback\"><pre>TfidfVectorizer(lowercase=False)</pre><b>In a Jupyter environment, please rerun this cell to show the HTML representation or trust the notebook. <br />On GitHub, the HTML representation is unable to render, please try loading this page with nbviewer.org.</b></div><div class=\"sk-container\" hidden><div class=\"sk-item\"><div class=\"sk-estimator sk-toggleable\"><input class=\"sk-toggleable__control sk-hidden--visually\" id=\"sk-estimator-id-8\" type=\"checkbox\" checked><label for=\"sk-estimator-id-8\" class=\"sk-toggleable__label sk-toggleable__label-arrow\">TfidfVectorizer</label><div class=\"sk-toggleable__content\"><pre>TfidfVectorizer(lowercase=False)</pre></div></div></div></div></div>"
      ],
      "text/plain": [
       "TfidfVectorizer(lowercase=False)"
      ]
     },
     "execution_count": 228,
     "metadata": {},
     "output_type": "execute_result"
    }
   ],
   "source": [
    "texts_train_strings = [\" \".join(sentence) for sentence in texts_train]\n",
    "\n",
    "vectorizer = TfidfVectorizer(lowercase=False)\n",
    "vectorizer.fit(texts_train_strings)"
   ]
  },
  {
   "cell_type": "code",
   "execution_count": 229,
   "metadata": {},
   "outputs": [],
   "source": [
    "def convert_to_feature(data):\n",
    "    data_strings = [\" \".join(sentence) for sentence in data]\n",
    "    return vectorizer.transform(data_strings)"
   ]
  },
  {
   "cell_type": "code",
   "execution_count": 230,
   "metadata": {},
   "outputs": [
    {
     "name": "stdout",
     "output_type": "stream",
     "text": [
      "(12208, 38594) (4070, 38594)\n"
     ]
    }
   ],
   "source": [
    "X_train = convert_to_feature(texts_train)\n",
    "X_val = convert_to_feature(texts_val)\n",
    "print(X_train.shape, X_val.shape)"
   ]
  },
  {
   "cell_type": "markdown",
   "metadata": {},
   "source": [
    "## Training naive bayes model"
   ]
  },
  {
   "cell_type": "code",
   "execution_count": 231,
   "metadata": {},
   "outputs": [],
   "source": [
    "clf = GaussianNB()"
   ]
  },
  {
   "cell_type": "code",
   "execution_count": 232,
   "metadata": {},
   "outputs": [
    {
     "data": {
      "text/html": [
       "<style>#sk-container-id-9 {color: black;}#sk-container-id-9 pre{padding: 0;}#sk-container-id-9 div.sk-toggleable {background-color: white;}#sk-container-id-9 label.sk-toggleable__label {cursor: pointer;display: block;width: 100%;margin-bottom: 0;padding: 0.3em;box-sizing: border-box;text-align: center;}#sk-container-id-9 label.sk-toggleable__label-arrow:before {content: \"▸\";float: left;margin-right: 0.25em;color: #696969;}#sk-container-id-9 label.sk-toggleable__label-arrow:hover:before {color: black;}#sk-container-id-9 div.sk-estimator:hover label.sk-toggleable__label-arrow:before {color: black;}#sk-container-id-9 div.sk-toggleable__content {max-height: 0;max-width: 0;overflow: hidden;text-align: left;background-color: #f0f8ff;}#sk-container-id-9 div.sk-toggleable__content pre {margin: 0.2em;color: black;border-radius: 0.25em;background-color: #f0f8ff;}#sk-container-id-9 input.sk-toggleable__control:checked~div.sk-toggleable__content {max-height: 200px;max-width: 100%;overflow: auto;}#sk-container-id-9 input.sk-toggleable__control:checked~label.sk-toggleable__label-arrow:before {content: \"▾\";}#sk-container-id-9 div.sk-estimator input.sk-toggleable__control:checked~label.sk-toggleable__label {background-color: #d4ebff;}#sk-container-id-9 div.sk-label input.sk-toggleable__control:checked~label.sk-toggleable__label {background-color: #d4ebff;}#sk-container-id-9 input.sk-hidden--visually {border: 0;clip: rect(1px 1px 1px 1px);clip: rect(1px, 1px, 1px, 1px);height: 1px;margin: -1px;overflow: hidden;padding: 0;position: absolute;width: 1px;}#sk-container-id-9 div.sk-estimator {font-family: monospace;background-color: #f0f8ff;border: 1px dotted black;border-radius: 0.25em;box-sizing: border-box;margin-bottom: 0.5em;}#sk-container-id-9 div.sk-estimator:hover {background-color: #d4ebff;}#sk-container-id-9 div.sk-parallel-item::after {content: \"\";width: 100%;border-bottom: 1px solid gray;flex-grow: 1;}#sk-container-id-9 div.sk-label:hover label.sk-toggleable__label {background-color: #d4ebff;}#sk-container-id-9 div.sk-serial::before {content: \"\";position: absolute;border-left: 1px solid gray;box-sizing: border-box;top: 0;bottom: 0;left: 50%;z-index: 0;}#sk-container-id-9 div.sk-serial {display: flex;flex-direction: column;align-items: center;background-color: white;padding-right: 0.2em;padding-left: 0.2em;position: relative;}#sk-container-id-9 div.sk-item {position: relative;z-index: 1;}#sk-container-id-9 div.sk-parallel {display: flex;align-items: stretch;justify-content: center;background-color: white;position: relative;}#sk-container-id-9 div.sk-item::before, #sk-container-id-9 div.sk-parallel-item::before {content: \"\";position: absolute;border-left: 1px solid gray;box-sizing: border-box;top: 0;bottom: 0;left: 50%;z-index: -1;}#sk-container-id-9 div.sk-parallel-item {display: flex;flex-direction: column;z-index: 1;position: relative;background-color: white;}#sk-container-id-9 div.sk-parallel-item:first-child::after {align-self: flex-end;width: 50%;}#sk-container-id-9 div.sk-parallel-item:last-child::after {align-self: flex-start;width: 50%;}#sk-container-id-9 div.sk-parallel-item:only-child::after {width: 0;}#sk-container-id-9 div.sk-dashed-wrapped {border: 1px dashed gray;margin: 0 0.4em 0.5em 0.4em;box-sizing: border-box;padding-bottom: 0.4em;background-color: white;}#sk-container-id-9 div.sk-label label {font-family: monospace;font-weight: bold;display: inline-block;line-height: 1.2em;}#sk-container-id-9 div.sk-label-container {text-align: center;}#sk-container-id-9 div.sk-container {/* jupyter's `normalize.less` sets `[hidden] { display: none; }` but bootstrap.min.css set `[hidden] { display: none !important; }` so we also need the `!important` here to be able to override the default hidden behavior on the sphinx rendered scikit-learn.org. See: https://github.com/scikit-learn/scikit-learn/issues/21755 */display: inline-block !important;position: relative;}#sk-container-id-9 div.sk-text-repr-fallback {display: none;}</style><div id=\"sk-container-id-9\" class=\"sk-top-container\"><div class=\"sk-text-repr-fallback\"><pre>GaussianNB()</pre><b>In a Jupyter environment, please rerun this cell to show the HTML representation or trust the notebook. <br />On GitHub, the HTML representation is unable to render, please try loading this page with nbviewer.org.</b></div><div class=\"sk-container\" hidden><div class=\"sk-item\"><div class=\"sk-estimator sk-toggleable\"><input class=\"sk-toggleable__control sk-hidden--visually\" id=\"sk-estimator-id-9\" type=\"checkbox\" checked><label for=\"sk-estimator-id-9\" class=\"sk-toggleable__label sk-toggleable__label-arrow\">GaussianNB</label><div class=\"sk-toggleable__content\"><pre>GaussianNB()</pre></div></div></div></div></div>"
      ],
      "text/plain": [
       "GaussianNB()"
      ]
     },
     "execution_count": 232,
     "metadata": {},
     "output_type": "execute_result"
    }
   ],
   "source": [
    "clf.fit(X_train.toarray(), y_train)"
   ]
  },
  {
   "cell_type": "code",
   "execution_count": 233,
   "metadata": {},
   "outputs": [],
   "source": [
    "y_pred = clf.predict(X_val.toarray())"
   ]
  },
  {
   "cell_type": "code",
   "execution_count": 234,
   "metadata": {},
   "outputs": [],
   "source": [
    "def calc_metrics(y_true, y_pred):\n",
    "    return (\n",
    "        accuracy_score(y_true, y_pred),\n",
    "        precision_score(y_true, y_pred),\n",
    "        recall_score(y_true, y_pred),\n",
    "        f1_score(y_true, y_pred),\n",
    "        roc_auc_score(y_true, y_pred)\n",
    "    )"
   ]
  },
  {
   "cell_type": "code",
   "execution_count": null,
   "metadata": {},
   "outputs": [],
   "source": []
  },
  {
   "cell_type": "code",
   "execution_count": 235,
   "metadata": {},
   "outputs": [
    {
     "name": "stdout",
     "output_type": "stream",
     "text": [
      "(0.7788697788697788, 0.5875870069605569, 0.8427620632279534, 0.6924128503075873, 0.7974270567185793)\n"
     ]
    }
   ],
   "source": [
    "print(calc_metrics(y_val, y_pred))"
   ]
  },
  {
   "cell_type": "code",
   "execution_count": 213,
   "metadata": {},
   "outputs": [
    {
     "name": "stdout",
     "output_type": "stream",
     "text": [
      "(0.8012285012285012, 0.6183022275737508, 0.8544093178036606, 0.7174292699965072, 0.8166746728488318)\n"
     ]
    }
   ],
   "source": [
    "print(calc_metrics(y_val, y_pred))"
   ]
  },
  {
   "cell_type": "code",
   "execution_count": 175,
   "metadata": {},
   "outputs": [
    {
     "name": "stdout",
     "output_type": "stream",
     "text": [
      "(0.7791154791154791, 0.5878260869565217, 0.8435940099833611, 0.6928595831909805, 0.797843030096283)\n"
     ]
    }
   ],
   "source": [
    "print(calc_metrics(y_val, y_pred))"
   ]
  },
  {
   "cell_type": "code",
   "execution_count": null,
   "metadata": {},
   "outputs": [],
   "source": []
  }
 ],
 "metadata": {
  "kernelspec": {
   "display_name": "base",
   "language": "python",
   "name": "python3"
  },
  "language_info": {
   "codemirror_mode": {
    "name": "ipython",
    "version": 3
   },
   "file_extension": ".py",
   "mimetype": "text/x-python",
   "name": "python",
   "nbconvert_exporter": "python",
   "pygments_lexer": "ipython3",
   "version": "3.9.18"
  }
 },
 "nbformat": 4,
 "nbformat_minor": 2
}
