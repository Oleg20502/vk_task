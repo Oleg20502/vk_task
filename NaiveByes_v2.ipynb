{
 "cells": [
  {
   "cell_type": "code",
   "execution_count": 1,
   "metadata": {},
   "outputs": [
    {
     "name": "stderr",
     "output_type": "stream",
     "text": [
      "[nltk_data] Downloading package punkt to\n",
      "[nltk_data]     C:\\Users\\OlegKashurin\\AppData\\Roaming\\nltk_data...\n",
      "[nltk_data]   Package punkt is already up-to-date!\n",
      "[nltk_data] Downloading package stopwords to\n",
      "[nltk_data]     C:\\Users\\OlegKashurin\\AppData\\Roaming\\nltk_data...\n",
      "[nltk_data]   Package stopwords is already up-to-date!\n",
      "[nltk_data] Downloading package wordnet to\n",
      "[nltk_data]     C:\\Users\\OlegKashurin\\AppData\\Roaming\\nltk_data...\n",
      "[nltk_data]   Package wordnet is already up-to-date!\n"
     ]
    },
    {
     "data": {
      "text/plain": [
       "True"
      ]
     },
     "execution_count": 1,
     "metadata": {},
     "output_type": "execute_result"
    }
   ],
   "source": [
    "import numpy as np\n",
    "import pandas as pd\n",
    "import matplotlib.pyplot as plt\n",
    "\n",
    "import re\n",
    "import string\n",
    "from unidecode import unidecode\n",
    "import emoji\n",
    "\n",
    "from sklearn.model_selection import train_test_split\n",
    "from sklearn.feature_extraction.text import TfidfVectorizer\n",
    "from sklearn.naive_bayes import GaussianNB\n",
    "from sklearn.metrics import accuracy_score, precision_score, recall_score, f1_score, roc_auc_score\n",
    "\n",
    "\n",
    "import nltk\n",
    "from nltk.tokenize import word_tokenize, TweetTokenizer\n",
    "from nltk.corpus import stopwords\n",
    "from nltk.stem import PorterStemmer\n",
    "from nltk.stem import WordNetLemmatizer\n",
    "# nltk.download('punkt')\n",
    "# nltk.download('stopwords')\n",
    "# nltk.download('wordnet')"
   ]
  },
  {
   "cell_type": "code",
   "execution_count": null,
   "metadata": {},
   "outputs": [],
   "source": []
  },
  {
   "cell_type": "markdown",
   "metadata": {},
   "source": [
    "## Data loading"
   ]
  },
  {
   "cell_type": "code",
   "execution_count": 5,
   "metadata": {},
   "outputs": [],
   "source": [
    "file_train = 'train_spam.csv'\n",
    "\n",
    "data_train_all = pd.read_csv(file_train)"
   ]
  },
  {
   "cell_type": "code",
   "execution_count": 6,
   "metadata": {},
   "outputs": [],
   "source": [
    "texts_train_all = data_train_all['text']\n",
    "labels_all = data_train_all['text_type']\n",
    "target_all = pd.Categorical(labels_all, categories=['ham', 'spam']).codes"
   ]
  },
  {
   "cell_type": "code",
   "execution_count": 8,
   "metadata": {},
   "outputs": [
    {
     "name": "stdout",
     "output_type": "stream",
     "text": [
      "['development of a program in econo physics hello shirley i d understood from yannis that he d proposed a brown bag lunch where i d give a talk and then the discussion about various possibilities would follow i m here until about mid may and then will go on leave in europe for a year i could be available to make trips back and forth from time to time to get things started best regards joe mccauley'\n",
      " 'at 1635465 1635465 pm 1635465 on 1635465 1635465 1635465 mr fork wrote i realize now that after reviewing the past several years of work and career i have been in the wrong business the wrong business this is what i should have been doing url a new manual has been published url or the one i read http http search barnesandnoble com booksearch isbninquiry asp userid 1635465t1635465jtegkqp isbn 1635465 and of course the open source versions url url r a hettinga mailto rah ibuc com the internet bearer underwriting corporation url 1635465 farquhar street boston ma 1635465 usa however it may deserve respect for its usefulness and antiquity predicting the end of the world has not been found agreeable to experience edward gibbon decline and fall of the roman empire'\n",
      " 'url url date not supplied img url jon lebkowsky has posted a little gallery of pictures from my eff austin talk at actlab at the university of texas and a couple shots from the kick ass bbq we ate beforehand note the atkins compliant lunch i had a fantastic time there thanks to the organizers and especially to jon for putting it together it s was especially great to meeet the boing boing readers who came out to the talk link 1635465 discuss 1635465 thanks john 1635465 1635465 url 1635465 url 1635465 url'\n",
      " 'i l cal u later' 'hasnt that been the pattern recently crap weekends'\n",
      " 'interview with the enron research group you are quite welcome kin we wish you the best in reaching your career goals and we look forward to hearing from you in the future regards shirley crenshaw administrative coordinator enron research group kin tso on 11 01 2000 12 52 02 pm to cc subject interview with the enron research group dear shirley thank you so much for your email after carefully considering my career goals i feel the associate program with a rotation in the enron research group is a better fit i am really interested in enron and i would try to contact your colleagues in the associate program about this issue before i schedule an interview with the enron research group i truly apologize for the inconvenience caused and i want to thank you agai'\n",
      " 'energy derivatives conference may 29 toronto amy attached please find a short bio for dr kaminski please let me know if i can help further amy aldous on 03 30 2000 11 24 13 am to vince j uwaterloo ca kaminski enron com cc shirley crenshaw enron com subject energy derivatives conference may 29 toronto dear mr kaminski i have just spoken with phelim boyle who was very pleased to report that you will be speaking at our energy derivatives conference in toronto on may 29 i understand that the title of your presentation is current challenges in pricing and risk management of energy derivatives would you also be available and willing to join a panel discussion question and answer period at the end of the day speakers with tentative titles to f'\n",
      " 'lance cunningham vince i have left a message with teresa and have sent the following terse note to lance to let him know that we are moving as we discussed i asked teresa to offer 90 k 10 k signing bonus regards grantforwarded by grant masson hou ect on 06 30 2000 11 21 am enron north america corp from grant masson 06 30 2000 11 21 am to lbcunningham mail utexas edu cc subject enron lance i am going on vacation tomorrow but i wanted to get in touch with you before i left i have asked hr to extend an offer to you teresa bien should be sending you an offer letter via fedex of course with the july 4 th weekend i m not sure when you will get it if you have questions i suggest that you call vin'\n",
      " 'freeringtone reply real or poly eg real1 1 pushbutton 2 dontcha 3 babygoodbye 4 golddigger 5 webeburnin 1st tone free and 6 more when u join for £3wk'\n",
      " 'yeah i was using one efi for two distros'\n",
      " 'from fork admin url mailto fork admin url on behalf of adam l beberg if the creator didnt say you could have it without paying it s theft so simple hell that s even in all the major holy books ran across a site which claimed to explain the original meaning of the ten commandments it seems some of those meanings have evolved a bit too in particular there was a claim that the commandment on stealing was actually specifically about man stealing selling a free man into slavery certainly the us southerners were particularly sensitive to the term man stealer in a way i didn t understand yep i know he said all holy books no i don t know if this site was blowing hot air it just read like someone had done their homework url'\n",
      " 'url lima peru reuters lina medina s parents thought their 1635465 year old daughter had a huge abdominal tumor and when shamans in their remote village in peru s andes could find no cure her father carried her to hospital just over a month later she gave birth to a boy aged 1635465 years seven months and 1635465 days old when her child was born by caesarean section in may 1635465 medina made medical history and is still the youngest known mother in the world at the time peru s government promised aid that never materialized six decades on medina lives with her husband in a cramped house in a poor crime ridden district of the peruvian capital known as little chicago now 1635465 she keeps herself to herself and has long refused requests to rake up the past gerardo the son she delivered while'\n",
      " 'dunno lei ü all decide lor how abt leona oops i tot ben is going n i msg him'\n",
      " 'xeffects!cool special effects and makeup in the new film xmen: first class! choose a mutant character to see what they look like after they transform:1 mystique2 beast3 azazel4 emma frost1/2/3/4reply within 24 hours to get a photo'\n",
      " 'checking account update dear reader we sometimes approach our analysts for their thoughts on emerging market sectors we re interested in on certain occasions they come to us with intriguing insights of certain aspects of the market that have caught their attention as you know our track record speaks for itself we are happy to bring you another situation with huge upside potential we think this could be the one that when we look back shortly everyone will be saying i should have more for more info click here remember nothing ventured nothing gained'\n",
      " 'sorry ill call later in meeting any thing related to trade please call arul ltgt'\n",
      " 'you are a winner you have been specially selected to receive £1000 cash or a £2000 award speak to a live operator to claim call 087147123779am7pm cost 10p'\n",
      " 'e eirikur hallgrimsson eh mad scientist com writes e gary s news service at url has an article on internet e saturation let me ask you if you were on a rock in the e middle of the atlantic mostly in the dark for half the year e wouldn t you like a bit of internet distraction they ve e already done the obvious and fiber ringed the island there s lots of similar places saskatchewan for example once shared with iceland the distinction of most telephone connections per capita and for a long time shared the internet penetration lead with iceland sask is a land locked massive expanse of ultra flat dust with only two rivers and farm sizes measured in the hundred thousand hectares it s still curious iceland leads maybe there s just a deep cultural curiousity and fascination with watching advertisi'\n",
      " 'are you happy baby are you alright did you take that job i hope your fine i send you a kiss to make you smile from across the sea kiss kiss'\n",
      " 'really ignore ignored worsd']\n"
     ]
    }
   ],
   "source": [
    "print(texts_train_all[300:320].to_numpy())"
   ]
  },
  {
   "cell_type": "markdown",
   "metadata": {},
   "source": [
    "## Preprocessing"
   ]
  },
  {
   "cell_type": "code",
   "execution_count": 9,
   "metadata": {},
   "outputs": [],
   "source": [
    "def remove_hyperlink(word):\n",
    "    return  re.sub(r\"http\\S+\", \"\", word)\n",
    "\n",
    "def to_lower(word):\n",
    "    result = word.lower()\n",
    "    return result\n",
    "\n",
    "def remove_punctuation(word):\n",
    "    # result = word.translate(str.maketrans(dict.fromkeys(string.punctuation)))\n",
    "    punctuation_pattern = r'[^\\w\\s]'\n",
    "    return re.sub(punctuation_pattern, ' ', word)\n",
    "\n",
    "def emoji_to_text(word):\n",
    "    return emoji.demojize(word)\n",
    "\n",
    "def remove_whitespace(word):\n",
    "    result = word.strip()\n",
    "    return result\n",
    "\n",
    "def replace_newline(word):\n",
    "    return word.replace('\\n', '')\n",
    "\n",
    "def remove_number(word, keyword=' NUMBER '):\n",
    "    result = re.sub(r'\\b\\w*\\d\\w*\\b', keyword, word)\n",
    "    return result\n",
    "\n",
    "def remove_currency(word, keyword=' CURRENCY '):\n",
    "    currency_pattern = r'[£$€₹]'\n",
    "    return re.sub(currency_pattern, keyword, word)"
   ]
  },
  {
   "cell_type": "code",
   "execution_count": 30,
   "metadata": {},
   "outputs": [],
   "source": [
    "def preprocess_pipeline(sentence):\n",
    "    preprocess_utils = [\n",
    "                        remove_hyperlink,\n",
    "                        replace_newline,\n",
    "                        to_lower,\n",
    "                        emoji_to_text,\n",
    "                        remove_currency,\n",
    "                        remove_number,\n",
    "                        unidecode,\n",
    "                        remove_punctuation,\n",
    "                        remove_whitespace\n",
    "                    ]\n",
    "    for func in preprocess_utils:\n",
    "        sentence = func(sentence)\n",
    "    return sentence"
   ]
  },
  {
   "cell_type": "code",
   "execution_count": 31,
   "metadata": {},
   "outputs": [],
   "source": [
    "data_train_preprocess = [\n",
    "    preprocess_pipeline(sent) for sent in texts_train_all.to_numpy()\n",
    "]"
   ]
  },
  {
   "cell_type": "code",
   "execution_count": 32,
   "metadata": {},
   "outputs": [
    {
     "data": {
      "text/plain": [
       "['make sure alex knows his birthday is over in fifteen minutes as far as youre concerned',\n",
       " 'a resume for john lavorato thanks vince i will get moving on it right away molly vince j kaminski  NUMBER   NUMBER   NUMBER   NUMBER   NUMBER  pm to molly magee hou ect ect cc vince j kaminski hou ect ect subject a resume for john lavorato molly please make arrangements for the interview with this candidate for a trading position interviews with john lavorato jeff shankman gary hickerson stinson gibner i talked to him in new york and he is considering other opportunities so we have to act fast i think john will like him more than punit thanks',\n",
       " 'plzz visit my website moviesgodml to get all movies for free and also i provide direct download links no redirect and ads smiling_face_with_smiling_eyes  smiling_face_with_smiling_eyes  smiling_face_with_smiling_eyes  smiling_face_with_smiling_eyes  beaming_face_with_smiling_eyes',\n",
       " 'urgent your mobile number has been awarded with a  CURRENCY  NUMBER  prize guaranteed call  NUMBER  from land line claim  NUMBER  valid  NUMBER  only  NUMBER',\n",
       " 'overview of hr associates analyst project per david s request attached is an overview of the hr associates analysts project creating a human resource value index this document will provide a brief top line overview of the following description of the challenges people involved positive outcomes high level description of the process we suggest if you have any questions before our tuesday meeting please contact either myself or dan brown thanks tana cashion david oxley ect  NUMBER   NUMBER   NUMBER   NUMBER   NUMBER  am to gerry gibson corp enron enron cc andrea yowman corp enron enron bob sparger corp enron enron tim o rourke corp enron enron ted c bland hou ect ect daniel brown na enron enron tana cashion na enron enron rhonna palmer hou ect ect cindy',\n",
       " 'i am so greatful to mrs valerie dodson for helping change my life she gives free bitcoins to newly subscribed members and her trading signals are accurate just click on the link below',\n",
       " 'url url date not supplied government employees are routinely screened in a bid to spot spies but the testing is useless says influential panel of scientists',\n",
       " 'welcome to jefferson pilot s gateway to wealth as one of the industry s premier producers you must continually seek qualified cutting edge services financial profiles concept profiles professional is a personal and business analysis tool that analyzes a client s insurance investment and financial planning goals to help them see their situation today compared to their objectives market profiles professional is an ideal tool for true financial planning it not only provides a thorough analysis including asset allocation but it can calculate tax implications in a client s plan due to its modular format it can be used for specific planning needs as well as more comprehensive planning benefits this software not only provides exceptional analysis but excels in providing simple as well as comprehe',\n",
       " 'looks like your ham corpus by and large has to jeremy url in a header while your spam corpus by and large doesn t but this one does interestingly for me one of the highest value spam indicators was the name of the mail host that the spam was delivered to in the to line so mail to info url was pretty much a dead cert for the filters anthony baxter anthony interlink com au it s never too late to have a happy childhood',\n",
       " 'how are you with moneyas in to youmoney aint a thinghow are you sha',\n",
       " 'sevil yaman great let me know how she performs at  NUMBER   NUMBER  am  NUMBER   NUMBER   NUMBER   NUMBER  you wrote hi michelle thanks for your input we are moving ahead to offer sevil a summer internship with us vincemichelle michot foss on  NUMBER   NUMBER   NUMBER   NUMBER   NUMBER   NUMBER  pm to vince j kaminski hou ect ect cc subject sevil yamanhi one of the ph d econ students over here sevil yaman has been talking with you she s interested in a summer internship that will help her ground her dissertation with our help sevil has become totally corrupted i have successfully impacted her view of the world re academic economics v industry she would like her diss to be as relevant as possible and with that in mind already moved from a pure electricity tr',\n",
       " 'cinergy monthly prices  NUMBER  to date margaret please find attached file with cinergy prices last day of the month starting  NUMBER  to date i have also included daily price for the same period just in case you might need it the source of the data is megawatt daily price survey note that prices are given as common low and common high which means that data was gathered through representative sample survey please let me know if you need any additional data regards elena vince j kaminski ect  NUMBER   NUMBER   NUMBER   NUMBER   NUMBER  pm to elena chilkina corp enron enron cc kevin g moore hou ect ect vince j kaminski hou ect ect margaret carson corp enron enron subject cinergy monthly prices  NUMBER  to date elena can you please help wiht this request kevin please call me if',\n",
       " 'stop calling everyone saying i might have cancer my throat hurts to talk i cant be answering everyones calls if i get one more call im not babysitting on monday',\n",
       " 'statistician from rice osman this guy is too much i would tell him that we understand that he has to make the best choice for himself and can change his mind but at this point we treat his decision as final but we still appreciate the interest he showed in enron we never had any luck hiring a statistician maybe we shall get one some day vince osman sezgen ees  NUMBER   NUMBER   NUMBER   NUMBER   NUMBER  am to vince j kaminski hou ect ect pinnamaneni krishnarao hou ect ect cc subject statistician from rice i had a message on my phone this morning from william indicating that he had changed his mind and will be taking another job he also mentions that the other organization will give him time to publish his thesis and he assumes enron would not do that i am inclined to give up o',\n",
       " 'hello have you seen and discussed this article and his approach thank you url hell there are no rules here we re trying to accomplish something thomas alva edison this url email is sponsored by osdn tired of that same old cell phone get a new here for free url spamassassin devel mailing list spamassassin devel url url',\n",
       " 'meeting requested i will ask rebekah to try to set it up for monday kg vince j kaminski ect  NUMBER   NUMBER   NUMBER   NUMBER   NUMBER  pm to kevin garland enron communications enron communications enron cc rebekah rushing enron communications enron communications vince j kaminski hou ect ect subject meeting requested kevin let s meet for lunch next week monday of friday would be best we can talk about the project and decide who has the right skills to help you the person who supports ebs is stinson gibner and his lead person is martin lin my secretary s number is  NUMBER   NUMBER  shirley crenshaw vince to vince j kaminski hou ect ect cc rebekah rushing enron communications enron communications subject meeting requested vince i would like to meet with you or someone in',\n",
       " 'you have to curl wget git the file if you want to use it like anywhere else',\n",
       " 'keep your esignature features save  NUMBER  view online  NUMBER  esignature solution save  NUMBER  with code luckyday save  NUMBER  when you buy today this week only we are offering  NUMBER  off docusign standard and business pro simply enter luckyday at checkout',\n",
       " 'mr sud rebecca i share some of your concerns regarding mr sud he is retired and he chose to contact us rather indirectly or on the spur of the moment i understand that things are done differently in different cultures but i did not meet him and could not form my judgment based on personal observations however the information he gave us seems to be too important not to convey to you and not to act upon vince kaminski',\n",
       " 'on september  NUMBER  kialllists url said os x is linux er no it s not it s kinda bsd related but it s definitely not linux waider waider url yes it is very personal of me since i am project leader i must not be permitted to go insane theo de radt irish linux users group ilug url url for un subscription information list maintainer listmaster url']"
      ]
     },
     "execution_count": 32,
     "metadata": {},
     "output_type": "execute_result"
    }
   ],
   "source": [
    "data_train_preprocess[:20]"
   ]
  },
  {
   "cell_type": "code",
   "execution_count": 33,
   "metadata": {},
   "outputs": [],
   "source": [
    "lemmatizer = WordNetLemmatizer()\n",
    "\n",
    "tokenizer = TweetTokenizer()\n",
    "\n",
    "ENGLISH_STOP_WORDS = set(stopwords.words('english'))"
   ]
  },
  {
   "cell_type": "code",
   "execution_count": 34,
   "metadata": {},
   "outputs": [],
   "source": [
    "def remove_stop_words(words):\n",
    "    result = [i for i in words if i not in ENGLISH_STOP_WORDS]\n",
    "    return result\n",
    "\n",
    "def word_lemmatizer(words):\n",
    "    return [lemmatizer.lemmatize(s) for s in words]"
   ]
  },
  {
   "cell_type": "code",
   "execution_count": 35,
   "metadata": {},
   "outputs": [],
   "source": [
    "def tokenize_pipeline(sentence):\n",
    "    words = tokenizer.tokenize(sentence)\n",
    "    tokenize_utils = [remove_stop_words, word_lemmatizer]\n",
    "    for func in tokenize_utils:\n",
    "        words = func(words)\n",
    "    return words"
   ]
  },
  {
   "cell_type": "code",
   "execution_count": 36,
   "metadata": {},
   "outputs": [],
   "source": [
    "data_train_tokenized = [\n",
    "    tokenize_pipeline(sent) for sent in data_train_preprocess\n",
    "]"
   ]
  },
  {
   "cell_type": "code",
   "execution_count": 37,
   "metadata": {},
   "outputs": [
    {
     "name": "stdout",
     "output_type": "stream",
     "text": [
      "['plzz', 'visit', 'website', 'moviesgodml', 'get', 'movie', 'free', 'also', 'provide', 'direct', 'download', 'link', 'redirect', 'ad', 'smiling_face_with_smiling_eyes', 'smiling_face_with_smiling_eyes', 'smiling_face_with_smiling_eyes', 'smiling_face_with_smiling_eyes', 'beaming_face_with_smiling_eyes']\n"
     ]
    }
   ],
   "source": [
    "print(data_train_tokenized[2])"
   ]
  },
  {
   "cell_type": "code",
   "execution_count": 42,
   "metadata": {},
   "outputs": [
    {
     "name": "stdout",
     "output_type": "stream",
     "text": [
      "['Its', 'second', 'time', 'receiving', 'profit', 'investment', 'platform', 'I', 'need', 'testify', 'I', 'received']\n"
     ]
    }
   ],
   "source": [
    "text = '𝑰𝒕𝒔 𝒕𝒉𝒆 𝒔𝒆𝒄𝒐𝒏𝒅 𝒕𝒊𝒎𝒆 𝒐𝒇 𝒓𝒆𝒄𝒆𝒊𝒗𝒊𝒏𝒈 𝒎𝒚 𝒑𝒓𝒐𝒇𝒊𝒕 𝒇𝒓𝒐𝒎 𝒕𝒉𝒊𝒔 𝒊𝒏𝒗𝒆𝒔𝒕𝒎𝒆𝒏𝒕 𝒑𝒍𝒂𝒕𝒇𝒐𝒓𝒎 𝒂𝒏𝒅 𝑰 𝒏𝒆𝒆𝒅 𝒕𝒐 𝒕𝒆𝒔𝒕𝒊𝒇𝒚 𝒕𝒐 𝒚𝒐𝒖 𝒕𝒉𝒂𝒕 𝑰 𝒋𝒖𝒔𝒕 𝒓𝒆𝒄𝒆𝒊𝒗𝒆𝒅'\n",
    "text = preprocess_pipeline(text)\n",
    "text = tokenize_pipeline(text)\n",
    "print(text)"
   ]
  },
  {
   "cell_type": "code",
   "execution_count": 43,
   "metadata": {},
   "outputs": [],
   "source": [
    "texts_train, texts_val, y_train, y_val = train_test_split(\n",
    "                                        data_train_tokenized,\n",
    "                                        target_all,\n",
    "                                        shuffle=True,\n",
    "                                        random_state=42, \n",
    "                                        stratify=target_all)"
   ]
  },
  {
   "cell_type": "markdown",
   "metadata": {},
   "source": [
    "## Feature extraction"
   ]
  },
  {
   "cell_type": "code",
   "execution_count": 61,
   "metadata": {},
   "outputs": [
    {
     "data": {
      "text/html": [
       "<style>#sk-container-id-7 {color: black;}#sk-container-id-7 pre{padding: 0;}#sk-container-id-7 div.sk-toggleable {background-color: white;}#sk-container-id-7 label.sk-toggleable__label {cursor: pointer;display: block;width: 100%;margin-bottom: 0;padding: 0.3em;box-sizing: border-box;text-align: center;}#sk-container-id-7 label.sk-toggleable__label-arrow:before {content: \"▸\";float: left;margin-right: 0.25em;color: #696969;}#sk-container-id-7 label.sk-toggleable__label-arrow:hover:before {color: black;}#sk-container-id-7 div.sk-estimator:hover label.sk-toggleable__label-arrow:before {color: black;}#sk-container-id-7 div.sk-toggleable__content {max-height: 0;max-width: 0;overflow: hidden;text-align: left;background-color: #f0f8ff;}#sk-container-id-7 div.sk-toggleable__content pre {margin: 0.2em;color: black;border-radius: 0.25em;background-color: #f0f8ff;}#sk-container-id-7 input.sk-toggleable__control:checked~div.sk-toggleable__content {max-height: 200px;max-width: 100%;overflow: auto;}#sk-container-id-7 input.sk-toggleable__control:checked~label.sk-toggleable__label-arrow:before {content: \"▾\";}#sk-container-id-7 div.sk-estimator input.sk-toggleable__control:checked~label.sk-toggleable__label {background-color: #d4ebff;}#sk-container-id-7 div.sk-label input.sk-toggleable__control:checked~label.sk-toggleable__label {background-color: #d4ebff;}#sk-container-id-7 input.sk-hidden--visually {border: 0;clip: rect(1px 1px 1px 1px);clip: rect(1px, 1px, 1px, 1px);height: 1px;margin: -1px;overflow: hidden;padding: 0;position: absolute;width: 1px;}#sk-container-id-7 div.sk-estimator {font-family: monospace;background-color: #f0f8ff;border: 1px dotted black;border-radius: 0.25em;box-sizing: border-box;margin-bottom: 0.5em;}#sk-container-id-7 div.sk-estimator:hover {background-color: #d4ebff;}#sk-container-id-7 div.sk-parallel-item::after {content: \"\";width: 100%;border-bottom: 1px solid gray;flex-grow: 1;}#sk-container-id-7 div.sk-label:hover label.sk-toggleable__label {background-color: #d4ebff;}#sk-container-id-7 div.sk-serial::before {content: \"\";position: absolute;border-left: 1px solid gray;box-sizing: border-box;top: 0;bottom: 0;left: 50%;z-index: 0;}#sk-container-id-7 div.sk-serial {display: flex;flex-direction: column;align-items: center;background-color: white;padding-right: 0.2em;padding-left: 0.2em;position: relative;}#sk-container-id-7 div.sk-item {position: relative;z-index: 1;}#sk-container-id-7 div.sk-parallel {display: flex;align-items: stretch;justify-content: center;background-color: white;position: relative;}#sk-container-id-7 div.sk-item::before, #sk-container-id-7 div.sk-parallel-item::before {content: \"\";position: absolute;border-left: 1px solid gray;box-sizing: border-box;top: 0;bottom: 0;left: 50%;z-index: -1;}#sk-container-id-7 div.sk-parallel-item {display: flex;flex-direction: column;z-index: 1;position: relative;background-color: white;}#sk-container-id-7 div.sk-parallel-item:first-child::after {align-self: flex-end;width: 50%;}#sk-container-id-7 div.sk-parallel-item:last-child::after {align-self: flex-start;width: 50%;}#sk-container-id-7 div.sk-parallel-item:only-child::after {width: 0;}#sk-container-id-7 div.sk-dashed-wrapped {border: 1px dashed gray;margin: 0 0.4em 0.5em 0.4em;box-sizing: border-box;padding-bottom: 0.4em;background-color: white;}#sk-container-id-7 div.sk-label label {font-family: monospace;font-weight: bold;display: inline-block;line-height: 1.2em;}#sk-container-id-7 div.sk-label-container {text-align: center;}#sk-container-id-7 div.sk-container {/* jupyter's `normalize.less` sets `[hidden] { display: none; }` but bootstrap.min.css set `[hidden] { display: none !important; }` so we also need the `!important` here to be able to override the default hidden behavior on the sphinx rendered scikit-learn.org. See: https://github.com/scikit-learn/scikit-learn/issues/21755 */display: inline-block !important;position: relative;}#sk-container-id-7 div.sk-text-repr-fallback {display: none;}</style><div id=\"sk-container-id-7\" class=\"sk-top-container\"><div class=\"sk-text-repr-fallback\"><pre>TfidfVectorizer(lowercase=False, max_features=5000)</pre><b>In a Jupyter environment, please rerun this cell to show the HTML representation or trust the notebook. <br />On GitHub, the HTML representation is unable to render, please try loading this page with nbviewer.org.</b></div><div class=\"sk-container\" hidden><div class=\"sk-item\"><div class=\"sk-estimator sk-toggleable\"><input class=\"sk-toggleable__control sk-hidden--visually\" id=\"sk-estimator-id-7\" type=\"checkbox\" checked><label for=\"sk-estimator-id-7\" class=\"sk-toggleable__label sk-toggleable__label-arrow\">TfidfVectorizer</label><div class=\"sk-toggleable__content\"><pre>TfidfVectorizer(lowercase=False, max_features=5000)</pre></div></div></div></div></div>"
      ],
      "text/plain": [
       "TfidfVectorizer(lowercase=False, max_features=5000)"
      ]
     },
     "execution_count": 61,
     "metadata": {},
     "output_type": "execute_result"
    }
   ],
   "source": [
    "texts_train_strings = [\" \".join(sentence) for sentence in texts_train]\n",
    "\n",
    "vectorizer = TfidfVectorizer(lowercase=False, max_features=5000)\n",
    "vectorizer.fit(texts_train_strings)"
   ]
  },
  {
   "cell_type": "code",
   "execution_count": 62,
   "metadata": {},
   "outputs": [],
   "source": [
    "def convert_to_feature(data):\n",
    "    data_strings = [\" \".join(sentence) for sentence in data]\n",
    "    return vectorizer.transform(data_strings)"
   ]
  },
  {
   "cell_type": "code",
   "execution_count": 63,
   "metadata": {},
   "outputs": [
    {
     "name": "stdout",
     "output_type": "stream",
     "text": [
      "(12208, 5000) (4070, 5000)\n"
     ]
    }
   ],
   "source": [
    "X_train = convert_to_feature(texts_train)\n",
    "X_val = convert_to_feature(texts_val)\n",
    "print(X_train.shape, X_val.shape)"
   ]
  },
  {
   "cell_type": "markdown",
   "metadata": {},
   "source": [
    "## Training naive bayes model"
   ]
  },
  {
   "cell_type": "code",
   "execution_count": 64,
   "metadata": {},
   "outputs": [],
   "source": [
    "clf = GaussianNB()"
   ]
  },
  {
   "cell_type": "code",
   "execution_count": 65,
   "metadata": {},
   "outputs": [
    {
     "data": {
      "text/html": [
       "<style>#sk-container-id-8 {color: black;}#sk-container-id-8 pre{padding: 0;}#sk-container-id-8 div.sk-toggleable {background-color: white;}#sk-container-id-8 label.sk-toggleable__label {cursor: pointer;display: block;width: 100%;margin-bottom: 0;padding: 0.3em;box-sizing: border-box;text-align: center;}#sk-container-id-8 label.sk-toggleable__label-arrow:before {content: \"▸\";float: left;margin-right: 0.25em;color: #696969;}#sk-container-id-8 label.sk-toggleable__label-arrow:hover:before {color: black;}#sk-container-id-8 div.sk-estimator:hover label.sk-toggleable__label-arrow:before {color: black;}#sk-container-id-8 div.sk-toggleable__content {max-height: 0;max-width: 0;overflow: hidden;text-align: left;background-color: #f0f8ff;}#sk-container-id-8 div.sk-toggleable__content pre {margin: 0.2em;color: black;border-radius: 0.25em;background-color: #f0f8ff;}#sk-container-id-8 input.sk-toggleable__control:checked~div.sk-toggleable__content {max-height: 200px;max-width: 100%;overflow: auto;}#sk-container-id-8 input.sk-toggleable__control:checked~label.sk-toggleable__label-arrow:before {content: \"▾\";}#sk-container-id-8 div.sk-estimator input.sk-toggleable__control:checked~label.sk-toggleable__label {background-color: #d4ebff;}#sk-container-id-8 div.sk-label input.sk-toggleable__control:checked~label.sk-toggleable__label {background-color: #d4ebff;}#sk-container-id-8 input.sk-hidden--visually {border: 0;clip: rect(1px 1px 1px 1px);clip: rect(1px, 1px, 1px, 1px);height: 1px;margin: -1px;overflow: hidden;padding: 0;position: absolute;width: 1px;}#sk-container-id-8 div.sk-estimator {font-family: monospace;background-color: #f0f8ff;border: 1px dotted black;border-radius: 0.25em;box-sizing: border-box;margin-bottom: 0.5em;}#sk-container-id-8 div.sk-estimator:hover {background-color: #d4ebff;}#sk-container-id-8 div.sk-parallel-item::after {content: \"\";width: 100%;border-bottom: 1px solid gray;flex-grow: 1;}#sk-container-id-8 div.sk-label:hover label.sk-toggleable__label {background-color: #d4ebff;}#sk-container-id-8 div.sk-serial::before {content: \"\";position: absolute;border-left: 1px solid gray;box-sizing: border-box;top: 0;bottom: 0;left: 50%;z-index: 0;}#sk-container-id-8 div.sk-serial {display: flex;flex-direction: column;align-items: center;background-color: white;padding-right: 0.2em;padding-left: 0.2em;position: relative;}#sk-container-id-8 div.sk-item {position: relative;z-index: 1;}#sk-container-id-8 div.sk-parallel {display: flex;align-items: stretch;justify-content: center;background-color: white;position: relative;}#sk-container-id-8 div.sk-item::before, #sk-container-id-8 div.sk-parallel-item::before {content: \"\";position: absolute;border-left: 1px solid gray;box-sizing: border-box;top: 0;bottom: 0;left: 50%;z-index: -1;}#sk-container-id-8 div.sk-parallel-item {display: flex;flex-direction: column;z-index: 1;position: relative;background-color: white;}#sk-container-id-8 div.sk-parallel-item:first-child::after {align-self: flex-end;width: 50%;}#sk-container-id-8 div.sk-parallel-item:last-child::after {align-self: flex-start;width: 50%;}#sk-container-id-8 div.sk-parallel-item:only-child::after {width: 0;}#sk-container-id-8 div.sk-dashed-wrapped {border: 1px dashed gray;margin: 0 0.4em 0.5em 0.4em;box-sizing: border-box;padding-bottom: 0.4em;background-color: white;}#sk-container-id-8 div.sk-label label {font-family: monospace;font-weight: bold;display: inline-block;line-height: 1.2em;}#sk-container-id-8 div.sk-label-container {text-align: center;}#sk-container-id-8 div.sk-container {/* jupyter's `normalize.less` sets `[hidden] { display: none; }` but bootstrap.min.css set `[hidden] { display: none !important; }` so we also need the `!important` here to be able to override the default hidden behavior on the sphinx rendered scikit-learn.org. See: https://github.com/scikit-learn/scikit-learn/issues/21755 */display: inline-block !important;position: relative;}#sk-container-id-8 div.sk-text-repr-fallback {display: none;}</style><div id=\"sk-container-id-8\" class=\"sk-top-container\"><div class=\"sk-text-repr-fallback\"><pre>GaussianNB()</pre><b>In a Jupyter environment, please rerun this cell to show the HTML representation or trust the notebook. <br />On GitHub, the HTML representation is unable to render, please try loading this page with nbviewer.org.</b></div><div class=\"sk-container\" hidden><div class=\"sk-item\"><div class=\"sk-estimator sk-toggleable\"><input class=\"sk-toggleable__control sk-hidden--visually\" id=\"sk-estimator-id-8\" type=\"checkbox\" checked><label for=\"sk-estimator-id-8\" class=\"sk-toggleable__label sk-toggleable__label-arrow\">GaussianNB</label><div class=\"sk-toggleable__content\"><pre>GaussianNB()</pre></div></div></div></div></div>"
      ],
      "text/plain": [
       "GaussianNB()"
      ]
     },
     "execution_count": 65,
     "metadata": {},
     "output_type": "execute_result"
    }
   ],
   "source": [
    "clf.fit(X_train.toarray(), y_train)"
   ]
  },
  {
   "cell_type": "code",
   "execution_count": 66,
   "metadata": {},
   "outputs": [],
   "source": [
    "y_pred = clf.predict(X_val.toarray())"
   ]
  },
  {
   "cell_type": "code",
   "execution_count": 67,
   "metadata": {},
   "outputs": [],
   "source": [
    "def calc_metrics(y_true, y_pred):\n",
    "    return (\n",
    "        accuracy_score(y_true, y_pred),\n",
    "        precision_score(y_true, y_pred),\n",
    "        recall_score(y_true, y_pred),\n",
    "        f1_score(y_true, y_pred),\n",
    "        roc_auc_score(y_true, y_pred)\n",
    "    )"
   ]
  },
  {
   "cell_type": "code",
   "execution_count": 68,
   "metadata": {},
   "outputs": [
    {
     "name": "stdout",
     "output_type": "stream",
     "text": [
      "(0.7616707616707616, 0.5591233435270132, 0.9126455906821963, 0.6934260429835651, 0.8055208427609031)\n"
     ]
    }
   ],
   "source": [
    "print(calc_metrics(y_val, y_pred))"
   ]
  },
  {
   "cell_type": "code",
   "execution_count": 60,
   "metadata": {},
   "outputs": [
    {
     "name": "stdout",
     "output_type": "stream",
     "text": [
      "(0.7619164619164619, 0.5618037135278514, 0.8810316139767055, 0.6861030126336248, 0.7965130175880738)\n"
     ]
    }
   ],
   "source": [
    "print(calc_metrics(y_val, y_pred))"
   ]
  },
  {
   "cell_type": "code",
   "execution_count": 41,
   "metadata": {},
   "outputs": [
    {
     "name": "stdout",
     "output_type": "stream",
     "text": [
      "(0.7788697788697788, 0.5875870069605569, 0.8427620632279534, 0.6924128503075873, 0.7974270567185793)\n"
     ]
    }
   ],
   "source": [
    "print(calc_metrics(y_val, y_pred))"
   ]
  },
  {
   "cell_type": "code",
   "execution_count": null,
   "metadata": {},
   "outputs": [],
   "source": []
  }
 ],
 "metadata": {
  "kernelspec": {
   "display_name": "base",
   "language": "python",
   "name": "python3"
  },
  "language_info": {
   "codemirror_mode": {
    "name": "ipython",
    "version": 3
   },
   "file_extension": ".py",
   "mimetype": "text/x-python",
   "name": "python",
   "nbconvert_exporter": "python",
   "pygments_lexer": "ipython3",
   "version": "3.9.18"
  }
 },
 "nbformat": 4,
 "nbformat_minor": 2
}
