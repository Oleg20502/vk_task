{
  "cells": [
    {
      "cell_type": "code",
      "execution_count": 1,
      "metadata": {
        "colab": {
          "base_uri": "https://localhost:8080/"
        },
        "id": "YlEdzxt7Tt1d",
        "outputId": "fbd1851a-a76d-43d2-d1fb-f31b565be6fa"
      },
      "outputs": [
        {
          "name": "stdout",
          "output_type": "stream",
          "text": [
            "Collecting unidecode\n",
            "  Downloading Unidecode-1.3.8-py3-none-any.whl (235 kB)\n",
            "\u001b[2K     \u001b[90m━━━━━━━━━━━━━━━━━━━━━━━━━━━━━━━━━━━━━━━━\u001b[0m \u001b[32m235.5/235.5 kB\u001b[0m \u001b[31m3.9 MB/s\u001b[0m eta \u001b[36m0:00:00\u001b[0m\n",
            "\u001b[?25hInstalling collected packages: unidecode\n",
            "Successfully installed unidecode-1.3.8\n",
            "Collecting emoji\n",
            "  Downloading emoji-2.11.1-py2.py3-none-any.whl (433 kB)\n",
            "\u001b[2K     \u001b[90m━━━━━━━━━━━━━━━━━━━━━━━━━━━━━━━━━━━━━━━━\u001b[0m \u001b[32m433.8/433.8 kB\u001b[0m \u001b[31m3.4 MB/s\u001b[0m eta \u001b[36m0:00:00\u001b[0m\n",
            "\u001b[?25hInstalling collected packages: emoji\n",
            "Successfully installed emoji-2.11.1\n"
          ]
        }
      ],
      "source": [
        "!pip install unidecode\n",
        "!pip install emoji"
      ]
    },
    {
      "cell_type": "code",
      "execution_count": 199,
      "metadata": {
        "id": "1qK8qE0KTkHG"
      },
      "outputs": [],
      "source": [
        "import numpy as np\n",
        "import pandas as pd\n",
        "import matplotlib.pyplot as plt\n",
        "from IPython.display import clear_output\n",
        "import tqdm\n",
        "import time\n",
        "\n",
        "import re\n",
        "import string\n",
        "from unidecode import unidecode\n",
        "import emoji\n",
        "\n",
        "from sklearn.model_selection import train_test_split\n",
        "from sklearn.feature_extraction.text import TfidfVectorizer\n",
        "from sklearn.naive_bayes import GaussianNB\n",
        "from sklearn.metrics import accuracy_score, precision_score, recall_score, f1_score\n",
        "from sklearn.metrics import roc_auc_score, roc_curve, auc\n",
        "import scikitplot as skplt\n",
        "\n",
        "import torch\n",
        "import torch.nn as nn\n",
        "import torch.nn.functional as F\n",
        "from torch.utils.data import Dataset, DataLoader\n",
        "from torch.nn.utils.rnn import pad_sequence\n",
        "import torchtext.vocab\n",
        "\n",
        "from collections import Counter\n",
        "\n",
        "import nltk\n",
        "from nltk.tokenize import word_tokenize, TweetTokenizer\n",
        "from nltk.corpus import stopwords\n",
        "from nltk.stem import PorterStemmer\n",
        "from nltk.stem import WordNetLemmatizer"
      ]
    },
    {
      "cell_type": "code",
      "execution_count": 3,
      "metadata": {
        "colab": {
          "base_uri": "https://localhost:8080/"
        },
        "id": "lPMwvLeaVGDi",
        "outputId": "09b27dd5-9f4a-48bc-d956-03fb23f33aa8"
      },
      "outputs": [
        {
          "name": "stderr",
          "output_type": "stream",
          "text": [
            "[nltk_data] Downloading package punkt to /root/nltk_data...\n",
            "[nltk_data]   Unzipping tokenizers/punkt.zip.\n",
            "[nltk_data] Downloading package stopwords to /root/nltk_data...\n",
            "[nltk_data]   Unzipping corpora/stopwords.zip.\n",
            "[nltk_data] Downloading package wordnet to /root/nltk_data...\n"
          ]
        },
        {
          "data": {
            "text/plain": [
              "True"
            ]
          },
          "execution_count": 3,
          "metadata": {},
          "output_type": "execute_result"
        }
      ],
      "source": [
        "nltk.download('punkt')\n",
        "nltk.download('stopwords')\n",
        "nltk.download('wordnet')"
      ]
    },
    {
      "cell_type": "markdown",
      "metadata": {
        "id": "DwhXA88mTkHH"
      },
      "source": [
        "## Data loading"
      ]
    },
    {
      "cell_type": "code",
      "execution_count": 206,
      "metadata": {
        "id": "czYz-IQOTkHH"
      },
      "outputs": [],
      "source": [
        "file_train = 'train_spam.csv'\n",
        "\n",
        "data_train_all = pd.read_csv(file_train)"
      ]
    },
    {
      "cell_type": "code",
      "execution_count": 207,
      "metadata": {
        "id": "05YBojiYTkHI"
      },
      "outputs": [],
      "source": [
        "texts_train_all = data_train_all['text']\n",
        "labels_all = data_train_all['text_type']\n",
        "target_all = pd.Categorical(labels_all, categories=['ham', 'spam']).codes"
      ]
    },
    {
      "cell_type": "markdown",
      "metadata": {
        "id": "TyolFVtTTkHI"
      },
      "source": [
        "## Preprocessing"
      ]
    },
    {
      "cell_type": "markdown",
      "metadata": {
        "id": "sJOb-ROATkHI"
      },
      "source": [
        "Словарь строится на основе тренировочных дынных"
      ]
    },
    {
      "cell_type": "code",
      "execution_count": 208,
      "metadata": {
        "id": "Qzho-s5QTkHI"
      },
      "outputs": [],
      "source": [
        "lemmatizer = WordNetLemmatizer()\n",
        "\n",
        "tokenizer = TweetTokenizer()\n",
        "\n",
        "ENGLISH_STOP_WORDS = set(stopwords.words('english'))"
      ]
    },
    {
      "cell_type": "code",
      "execution_count": 209,
      "metadata": {
        "id": "wIo3eGy6TkHI"
      },
      "outputs": [],
      "source": [
        "def remove_hyperlink(words):\n",
        "    return  re.sub(r\"http\\S+\", \"\", words)\n",
        "\n",
        "def to_lower(words):\n",
        "    result = words.lower()\n",
        "    return result\n",
        "\n",
        "def remove_punctuation(words):\n",
        "    # result = word.translate(str.maketrans(dict.fromkeys(string.punctuation)))\n",
        "    punctuation_pattern = r'[^\\w\\s]'\n",
        "    return re.sub(punctuation_pattern, ' ', words)\n",
        "\n",
        "def emoji_to_text(words):\n",
        "    return emoji.demojize(words)\n",
        "\n",
        "def remove_whitespace(words):\n",
        "    result = words.strip()\n",
        "    return result\n",
        "\n",
        "def replace_newline(words):\n",
        "    return words.replace('\\n', '')\n",
        "\n",
        "def remove_number(words, keyword=' NUMBER '):\n",
        "    result = re.sub(r'\\b\\w*\\d\\w*\\b', keyword, words)\n",
        "    return result\n",
        "\n",
        "def remove_currency(words, keyword=' CURRENCY '):\n",
        "    currency_pattern = r'[£$€₹]'\n",
        "    return re.sub(currency_pattern, keyword, words)\n",
        "\n",
        "def remove_stop_words(words):\n",
        "    result = [i for i in words if i not in ENGLISH_STOP_WORDS]\n",
        "    return result\n",
        "\n",
        "def word_lemmatizer(words):\n",
        "    return [lemmatizer.lemmatize(s) for s in words]\n",
        "\n",
        "def join_words(words):\n",
        "    return \" \".join(words)"
      ]
    },
    {
      "cell_type": "code",
      "execution_count": 210,
      "metadata": {
        "id": "sfLeH38GTkHI"
      },
      "outputs": [],
      "source": [
        "def preprocess_pipeline(sentence):\n",
        "    preprocess_utils = [\n",
        "                        remove_hyperlink,\n",
        "                        replace_newline,\n",
        "                        to_lower,\n",
        "                        emoji_to_text,\n",
        "                        remove_currency,\n",
        "                        remove_number,\n",
        "                        # unidecode,   ####\n",
        "                        remove_punctuation,\n",
        "                        remove_whitespace,\n",
        "                        tokenizer.tokenize,\n",
        "                        # remove_stop_words, #####\n",
        "                        word_lemmatizer,   #####\n",
        "                    ]\n",
        "    for func in preprocess_utils:\n",
        "        sentence = func(sentence)\n",
        "    return sentence"
      ]
    },
    {
      "cell_type": "code",
      "execution_count": 211,
      "metadata": {
        "id": "vVH7S9SdTkHJ"
      },
      "outputs": [],
      "source": [
        "data_train_preprocess = [\n",
        "    preprocess_pipeline(sent) for sent in texts_train_all.to_numpy()\n",
        "]"
      ]
    },
    {
      "cell_type": "code",
      "execution_count": 212,
      "metadata": {
        "id": "w7TD-NNlTkHJ"
      },
      "outputs": [],
      "source": [
        "texts_train, texts_val, y_train, y_val = train_test_split(\n",
        "                                        data_train_preprocess,\n",
        "                                        target_all,\n",
        "                                        shuffle=True,\n",
        "                                        random_state=42,\n",
        "                                        stratify=target_all)"
      ]
    },
    {
      "cell_type": "markdown",
      "metadata": {
        "id": "AXQwoPfATkHJ"
      },
      "source": [
        "### Строим словарь"
      ]
    },
    {
      "cell_type": "code",
      "execution_count": 213,
      "metadata": {
        "id": "nnaDy3PHTkHJ"
      },
      "outputs": [],
      "source": [
        "def build_vocab(tokenized_sentences):\n",
        "    counter = Counter()\n",
        "    for sentence in tokenized_sentences:\n",
        "        counter.update(sentence)\n",
        "    vocab = torchtext.vocab.vocab(counter, min_freq=3, specials=('<UNK>', '<SOS>', '<EOS>', '<PAD>'))\n",
        "    vocab.set_default_index(vocab[\"<UNK>\"])\n",
        "    return vocab\n",
        "\n",
        "Vocab = build_vocab(texts_train)\n",
        "\n",
        "VOCAB_SIZE = len(Vocab)\n",
        "PAD_IDX = Vocab['<PAD>']\n",
        "SOS_IDX = Vocab['<SOS>']\n",
        "EOS_IDX = Vocab['<EOS>']\n",
        "UNK_IDX = Vocab['<UNK>']"
      ]
    },
    {
      "cell_type": "code",
      "execution_count": 214,
      "metadata": {
        "colab": {
          "base_uri": "https://localhost:8080/"
        },
        "id": "E8P9GRIWTkHJ",
        "outputId": "32a40e20-d598-4750-e092-ca1741bc53bd"
      },
      "outputs": [
        {
          "name": "stdout",
          "output_type": "stream",
          "text": [
            "13071\n"
          ]
        },
        {
          "data": {
            "text/plain": [
              "3"
            ]
          },
          "execution_count": 214,
          "metadata": {},
          "output_type": "execute_result"
        }
      ],
      "source": [
        "print(VOCAB_SIZE)\n",
        "PAD_IDX"
      ]
    },
    {
      "cell_type": "code",
      "execution_count": 157,
      "metadata": {
        "id": "u--N0lzsTkHK"
      },
      "outputs": [],
      "source": [
        "def generate_batch(data):\n",
        "    features, target = [], []\n",
        "    for text, y in data:\n",
        "        features.append(torch.tensor([Vocab['<SOS>']] + \\\n",
        "                                  Vocab.lookup_indices(text) + \\\n",
        "                                  [Vocab['<EOS>']],\n",
        "                                  dtype=torch.long))\n",
        "        target.append(torch.tensor(y, dtype=torch.long))\n",
        "    features = pad_sequence(features, padding_value=Vocab['<PAD>'], batch_first=True)\n",
        "    target = torch.tensor(target)\n",
        "    return features, target\n",
        "\n",
        "\n",
        "BATCH_SIZE = 64\n",
        "\n",
        "train_loader = DataLoader(list(zip(texts_train, y_train)), batch_size=BATCH_SIZE,\n",
        "                        shuffle=True, collate_fn=generate_batch)\n",
        "val_loader = DataLoader(list(zip(texts_val, y_val)), batch_size=BATCH_SIZE,\n",
        "                        shuffle=True, collate_fn=generate_batch)"
      ]
    },
    {
      "cell_type": "code",
      "execution_count": 158,
      "metadata": {
        "colab": {
          "base_uri": "https://localhost:8080/"
        },
        "id": "SJLY9IGATkHK",
        "outputId": "6ca7d2be-5d17-4684-efc8-cbc457212b3a"
      },
      "outputs": [
        {
          "data": {
            "text/plain": [
              "torch.Size([64])"
            ]
          },
          "execution_count": 158,
          "metadata": {},
          "output_type": "execute_result"
        }
      ],
      "source": [
        "batch = next(iter(train_loader))\n",
        "batch[1].shape"
      ]
    },
    {
      "cell_type": "markdown",
      "metadata": {
        "id": "m6-S00q-TkHK"
      },
      "source": [
        "## Model"
      ]
    },
    {
      "cell_type": "code",
      "execution_count": 159,
      "metadata": {
        "colab": {
          "base_uri": "https://localhost:8080/"
        },
        "id": "QodjEW7OTkHK",
        "outputId": "3b581f4a-36e4-4bdf-ac69-2011a393c303"
      },
      "outputs": [
        {
          "name": "stdout",
          "output_type": "stream",
          "text": [
            "cpu\n"
          ]
        }
      ],
      "source": [
        "torch.manual_seed(42)\n",
        "\n",
        "DEVICE = torch.device('cuda' if torch.cuda.is_available() else 'cpu')\n",
        "print(DEVICE)"
      ]
    },
    {
      "cell_type": "code",
      "execution_count": 160,
      "metadata": {
        "id": "WCry-wUITkHK"
      },
      "outputs": [],
      "source": [
        "class SpamWordRNN(nn.Module):\n",
        "    def __init__(self, num_tokens, embed_size, hidden_size, drop_p=0.5):\n",
        "        super(SpamWordRNN, self).__init__()\n",
        "\n",
        "        self.num_tokens = num_tokens\n",
        "        self.hidden_size = hidden_size\n",
        "        self.emded_size = embed_size\n",
        "\n",
        "        self.embedding = nn.Embedding(num_tokens, embed_size)\n",
        "        self.rnn = nn.GRU(embed_size, hidden_size, batch_first=True)\n",
        "        self.dropout_embed = nn.Dropout(drop_p)\n",
        "        self.dropout_rnn = nn.Dropout(drop_p)\n",
        "        self.out = nn.Linear(hidden_size, 2)\n",
        "\n",
        "    def forward(self, input):\n",
        "        embedded = self.embedding(input)\n",
        "        embedded = self.dropout_embed(embedded)\n",
        "        _, hidden = self.rnn(embedded)\n",
        "        hidden = self.dropout_rnn(hidden[-1])\n",
        "        output = self.out(hidden)\n",
        "        return output\n"
      ]
    },
    {
      "cell_type": "code",
      "execution_count": 161,
      "metadata": {
        "id": "3w_-3-l7TkHL"
      },
      "outputs": [],
      "source": [
        "def train(model, optimizer, iterator, criterion, epoch, n_show = 50):\n",
        "    model.train()\n",
        "\n",
        "    train_loss_history = []\n",
        "    train_loss = 0\n",
        "    current_loss = 0\n",
        "    for i, batch in tqdm.tqdm(enumerate(iterator), unit=\"batch\", total=len(iterator)):\n",
        "        optimizer.zero_grad()\n",
        "\n",
        "        input, target = batch[0].to(DEVICE), batch[1].to(DEVICE)\n",
        "        output = model(input)\n",
        "\n",
        "        loss = criterion(output, target)\n",
        "        loss.backward()\n",
        "        optimizer.step()\n",
        "\n",
        "        current_loss = loss.item()\n",
        "        train_loss += current_loss\n",
        "        train_loss_history.append(current_loss)\n",
        "\n",
        "        # if i % n_show == 0:\n",
        "        #     print(f'\\n Epoch {epoch}, loss {current_loss:.3f}')\n",
        "\n",
        "    return train_loss / len(iterator)"
      ]
    },
    {
      "cell_type": "code",
      "execution_count": 182,
      "metadata": {
        "id": "DR62GVBLTkHL"
      },
      "outputs": [],
      "source": [
        "def evaluate(model, iterator, criterion):\n",
        "    model.eval()\n",
        "\n",
        "    epoch_loss = 0\n",
        "    with torch.no_grad():\n",
        "        for i, batch in enumerate(iterator):\n",
        "            input, target = batch[0].to(DEVICE), batch[1].to(DEVICE)\n",
        "\n",
        "            output = model(input)\n",
        "\n",
        "            loss = criterion(output, target)\n",
        "\n",
        "            epoch_loss += loss.item()\n",
        "    return epoch_loss / len(iterator)\n",
        "\n",
        "\n",
        "def calc_metrics(model, iterator):\n",
        "    model.eval()\n",
        "\n",
        "    y_true = []\n",
        "    y_pred = []\n",
        "    p_pred = []\n",
        "    with torch.no_grad():\n",
        "        for i, (input, target) in enumerate(iterator):\n",
        "            y_true.extend(target.detach().cpu().tolist())\n",
        "            input, target = input.to(DEVICE), target.to(DEVICE)\n",
        "\n",
        "            output = model(input)\n",
        "\n",
        "            prob_pred = F.softmax(output, dim=1)[:, 1].detach().cpu().tolist()\n",
        "            target_pred = torch.argmax(output, dim=1).detach().cpu().tolist()\n",
        "            p_pred.extend(prob_pred)\n",
        "            y_pred.extend(target_pred)\n",
        "\n",
        "    return (\n",
        "        accuracy_score(y_true, y_pred),\n",
        "        precision_score(y_true, y_pred),\n",
        "        recall_score(y_true, y_pred),\n",
        "        f1_score(y_true, y_pred),\n",
        "        roc_auc_score(y_true, p_pred)\n",
        "    )"
      ]
    },
    {
      "cell_type": "code",
      "execution_count": 173,
      "metadata": {
        "id": "v0AkY3JUTkHL"
      },
      "outputs": [],
      "source": [
        "def epoch_time(start_time, end_time):\n",
        "    elapsed_time = end_time - start_time\n",
        "    elapsed_mins = int(elapsed_time / 60)\n",
        "    elapsed_secs = int(elapsed_time - (elapsed_mins * 60))\n",
        "    return elapsed_mins, elapsed_secs\n",
        "\n",
        "def count_parameters(m: torch.nn.Module, only_trainable: bool = True):\n",
        "    \"\"\"\n",
        "    Returns the total number of parameters used by `m` (only counting\n",
        "    shared parameters once); if `only_trainable` is True, then only\n",
        "    includes parameters with `requires_grad = True`\n",
        "    \"\"\"\n",
        "    parameters = list(m.parameters())\n",
        "    if only_trainable:\n",
        "        parameters = [p for p in parameters if p.requires_grad]\n",
        "    unique = {p.data_ptr(): p for p in parameters}.values()\n",
        "    return sum(p.numel() for p in unique)\n",
        "\n",
        "def save_checkpoint(save_path, model, optimizer, epoch, train_history, val_history, roc_auc_val_history):\n",
        "    torch.save({\n",
        "        'model_state_dict': model.state_dict(),\n",
        "        'optimizer_state_dict': optimizer.state_dict(),\n",
        "        'train_history': train_history,\n",
        "        'val_history': val_history,\n",
        "        'roc_auc_val_history': roc_auc_val_history,\n",
        "        'epoch': epoch\n",
        "    }, save_path)\n",
        "\n",
        "def load_checkpoint(load_path, model, optimizer):\n",
        "    checkpoint = torch.load(load_path, map_location=DEVICE)\n",
        "    model.load_state_dict(checkpoint['model_state_dict'])\n",
        "    optimizer.load_state_dict(checkpoint['optimizer_state_dict'])\n",
        "    train_history = checkpoint['train_history']\n",
        "    val_history = checkpoint['val_history']\n",
        "    roc_auc_val_history = checkpoint['roc_auc_val_history']\n",
        "    epoch = checkpoint['epoch']\n",
        "\n",
        "    return model, optimizer, epoch, train_history, val_history, roc_auc_val_history"
      ]
    },
    {
      "cell_type": "code",
      "execution_count": 174,
      "metadata": {
        "id": "OjfIYiNAf90W"
      },
      "outputs": [],
      "source": [
        "new_start = False\n",
        "checkpoint_path = 'checkpoint.pt'\n",
        "\n",
        "EMB_SIZE = 256\n",
        "HID_SIZE = 256\n",
        "DROPOUT = 0.5\n",
        "\n",
        "learning_rate = 0.001"
      ]
    },
    {
      "cell_type": "code",
      "execution_count": 169,
      "metadata": {
        "colab": {
          "base_uri": "https://localhost:8080/"
        },
        "id": "PzxKc3RVTkHL",
        "outputId": "0b88eb33-4235-404f-fa5e-3fbf1d0d466f"
      },
      "outputs": [
        {
          "name": "stdout",
          "output_type": "stream",
          "text": [
            "Resuming from epoch 11\n",
            "Number of parameters: 3741442\n"
          ]
        }
      ],
      "source": [
        "best_val_loss = float('inf')\n",
        "\n",
        "train_history = []\n",
        "val_history = []\n",
        "\n",
        "epoch = 0\n",
        "epoch_history = []\n",
        "\n",
        "accuracy_val = 0\n",
        "precision_val = 0\n",
        "recall_val = 0\n",
        "f1_val = 0\n",
        "roc_auc_val = 0\n",
        "roc_auc_val_history = []\n",
        "\n",
        "model = SpamWordRNN(VOCAB_SIZE, EMB_SIZE, HID_SIZE, DROPOUT).to(DEVICE)\n",
        "\n",
        "criterion = torch.nn.CrossEntropyLoss(ignore_index=PAD_IDX)\n",
        "\n",
        "optimizer = torch.optim.Adam(model.parameters(), lr=learning_rate)\n",
        "\n",
        "if not new_start:\n",
        "    model, optimizer, epoch, mean_rw_history, td_loss_history, initial_state_v_history = \\\n",
        "                                   load_checkpoint(checkpoint_path, model, optimizer)\n",
        "    print(f'Resuming from epoch {epoch}')\n",
        "\n",
        "print(f'Number of parameters: {count_parameters(model)}')"
      ]
    },
    {
      "cell_type": "code",
      "execution_count": 40,
      "metadata": {
        "id": "L9AxiA7LTkHL"
      },
      "outputs": [],
      "source": [
        "N_epochs = 11\n",
        "n_show = 100"
      ]
    },
    {
      "cell_type": "code",
      "execution_count": 41,
      "metadata": {
        "colab": {
          "base_uri": "https://localhost:8080/",
          "height": 372
        },
        "id": "m4YjPV58TkHL",
        "outputId": "a3711ff8-ec43-495c-8822-8ad099926a7d"
      },
      "outputs": [
        {
          "name": "stdout",
          "output_type": "stream",
          "text": [
            "Epoch: 12 | Time: 0m 3s\n",
            "Train loss: 0.048; Val. loss: 0.139\n",
            "Accuracy 0.9622, Precision 0.9695, Recall 0.9002, f1 0.9336, ROC AUC 0.9442\n"
          ]
        },
        {
          "data": {
            "image/png": "[encoded data removed]",
            "text/plain": [
              "<Figure size 1500x400 with 2 Axes>"
            ]
          },
          "metadata": {},
          "output_type": "display_data"
        }
      ],
      "source": [
        "for epoch in range(epoch + 1, N_epochs+1):\n",
        "    start_time = time.time()\n",
        "\n",
        "    train_loss = train(model,\n",
        "                       optimizer,\n",
        "                       train_loader,\n",
        "                       criterion,\n",
        "                       epoch,\n",
        "                       n_show)\n",
        "\n",
        "    val_loss = evaluate(model, val_loader, criterion)\n",
        "\n",
        "    (accuracy_val,\n",
        "    precision_val,\n",
        "    recall_val,\n",
        "    f1_val,\n",
        "    roc_auc_val) = calc_metrics(model, val_loader)\n",
        "    roc_auc_val_history.append(roc_auc_val)\n",
        "\n",
        "    end_time = time.time()\n",
        "    epoch_mins, epoch_secs = epoch_time(start_time, end_time)\n",
        "\n",
        "    if val_loss < best_val_loss and val_loss < 0.13:\n",
        "        best_val_loss = val_loss\n",
        "        save_checkpoint(checkpoint_path, model, optimizer, epoch,\n",
        "                train_history, val_history, roc_auc_val_history)\n",
        "\n",
        "    train_history.append(train_loss)\n",
        "    val_history.append(val_loss)\n",
        "    epoch_history.append(epoch)\n",
        "\n",
        "    clear_output(True)\n",
        "\n",
        "    print(f'Epoch: {epoch+1:02} | Time: {epoch_mins}m {epoch_secs}s')\n",
        "    print(f'Train loss: {train_loss:.3f}; Val. loss: {val_loss:.3f}')\n",
        "    print(f'Accuracy {accuracy_val:.4f}, Precision {precision_val:.4f}, ', end='')\n",
        "    print(f'Recall {recall_val:.4f}, f1 {f1_val:.4f}, ROC AUC {roc_auc_val:.4f}')\n",
        "\n",
        "    plt.figure(figsize=[15, 4])\n",
        "\n",
        "    plt.subplot(1, 2, 1)\n",
        "    plt.title(\"Loss history\")\n",
        "    plt.plot(epoch_history, train_history, color='r', label='Train')\n",
        "    plt.plot(epoch_history, val_history, color='b', label='Val')\n",
        "    plt.legend()\n",
        "    # plt.yscale('log')\n",
        "    plt.grid()\n",
        "\n",
        "    plt.subplot(1, 2, 2)\n",
        "    plt.title(\"ROC AUC history\")\n",
        "    plt.plot(epoch_history, roc_auc_val_history, color='b')\n",
        "    plt.grid()\n",
        "\n",
        "    plt.tight_layout()\n",
        "    plt.show()\n"
      ]
    },
    {
      "cell_type": "code",
      "execution_count": 46,
      "metadata": {
        "id": "yQtcUTy7ZvuD"
      },
      "outputs": [],
      "source": [
        "# save_checkpoint(checkpoint_path, model, optimizer, epoch,\n",
        "#                 train_history, val_history, roc_auc_val_history)"
      ]
    },
    {
      "cell_type": "markdown",
      "metadata": {},
      "source": [
        "### Validation scores"
      ]
    },
    {
      "cell_type": "code",
      "execution_count": 205,
      "metadata": {
        "id": "Q8WWRm9sgTZE"
      },
      "outputs": [
        {
          "name": "stdout",
          "output_type": "stream",
          "text": [
            "Accuracy 0.9622, Precision 0.9695, Recall 0.9002, f1 0.9336, ROC AUC 0.99047\n"
          ]
        }
      ],
      "source": [
        "(accuracy_val,\n",
        "precision_val,\n",
        "recall_val,\n",
        "f1_val,\n",
        "roc_auc_val) = calc_metrics(model, val_loader)\n",
        "\n",
        "print(f'Accuracy {accuracy_val:.4f}, Precision {precision_val:.4f}, ', end='')\n",
        "print(f'Recall {recall_val:.4f}, f1 {f1_val:.4f}, ROC AUC {roc_auc_val:.5f}')"
      ]
    },
    {
      "cell_type": "markdown",
      "metadata": {},
      "source": [
        "### Plot ROC curve"
      ]
    },
    {
      "cell_type": "code",
      "execution_count": 198,
      "metadata": {},
      "outputs": [
        {
          "name": "stderr",
          "output_type": "stream",
          "text": [
            "64it [00:08,  7.80it/s]\n"
          ]
        }
      ],
      "source": [
        "y_true = []\n",
        "y_pred = []\n",
        "p_pred = []\n",
        "with torch.no_grad():\n",
        "    for i, (input, target) in tqdm.tqdm(enumerate(val_loader)):\n",
        "        y_true.extend(target.detach().cpu().tolist())\n",
        "        input, target = input.to(DEVICE), target.to(DEVICE)\n",
        "\n",
        "        output = model(input)\n",
        "\n",
        "        prob_pred = F.softmax(output, dim=1)[:, 1].detach().cpu().tolist()\n",
        "        target_pred = torch.argmax(output, dim=1).detach().cpu().tolist()\n",
        "        p_pred.extend(prob_pred)\n",
        "        y_pred.extend(target_pred)\n",
        "\n",
        "fpr, tpr, threshold = roc_curve(y_true, p_pred)\n",
        "roc_auc = auc(fpr, tpr)"
      ]
    },
    {
      "cell_type": "code",
      "execution_count": 204,
      "metadata": {},
      "outputs": [
        {
          "data": {
            "image/png": "[encoded data removed]",
            "text/plain": [
              "<Figure size 640x480 with 1 Axes>"
            ]
          },
          "metadata": {},
          "output_type": "display_data"
        }
      ],
      "source": [
        "plt.title('Receiver Operating Characteristic')\n",
        "plt.plot(fpr, tpr, 'b', label = f'AUC = {roc_auc:0.5f}')\n",
        "plt.legend(loc = 'lower right')\n",
        "plt.plot([0, 1], [0, 1],'r--')\n",
        "# plt.xlim([0, 1])\n",
        "# plt.ylim([0, 1])\n",
        "plt.ylabel('True Positive Rate')\n",
        "plt.xlabel('False Positive Rate')\n",
        "plt.show()"
      ]
    },
    {
      "cell_type": "code",
      "execution_count": null,
      "metadata": {},
      "outputs": [],
      "source": []
    }
  ],
  "metadata": {
    "accelerator": "GPU",
    "colab": {
      "gpuType": "T4",
      "provenance": []
    },
    "kernelspec": {
      "display_name": "Python 3",
      "name": "python3"
    },
    "language_info": {
      "codemirror_mode": {
        "name": "ipython",
        "version": 3
      },
      "file_extension": ".py",
      "mimetype": "text/x-python",
      "name": "python",
      "nbconvert_exporter": "python",
      "pygments_lexer": "ipython3",
      "version": "3.9.19"
    }
  },
  "nbformat": 4,
  "nbformat_minor": 0
}
