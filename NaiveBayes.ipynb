{
 "cells": [
  {
   "cell_type": "code",
   "execution_count": 24,
   "metadata": {},
   "outputs": [],
   "source": [
    "import numpy as np\n",
    "import pandas as pd\n",
    "import matplotlib.pyplot as plt\n",
    "\n",
    "import re\n",
    "import string\n",
    "from unidecode import unidecode\n",
    "import emoji\n",
    "\n",
    "from sklearn.model_selection import train_test_split\n",
    "from sklearn.feature_extraction.text import TfidfVectorizer\n",
    "from sklearn.naive_bayes import GaussianNB\n",
    "from sklearn.metrics import accuracy_score, precision_score, recall_score, f1_score\n",
    "from sklearn.metrics import roc_auc_score, roc_curve, auc\n",
    "\n",
    "\n",
    "import nltk\n",
    "from nltk.tokenize import word_tokenize, TweetTokenizer\n",
    "from nltk.corpus import stopwords\n",
    "from nltk.stem import PorterStemmer\n",
    "from nltk.stem import WordNetLemmatizer\n",
    "# nltk.download('punkt')\n",
    "# nltk.download('stopwords')\n",
    "# nltk.download('wordnet')"
   ]
  },
  {
   "cell_type": "markdown",
   "metadata": {},
   "source": [
    "## Data loading"
   ]
  },
  {
   "cell_type": "code",
   "execution_count": 2,
   "metadata": {},
   "outputs": [],
   "source": [
    "file_train = 'train_spam.csv'\n",
    "\n",
    "data_train_all = pd.read_csv(file_train)"
   ]
  },
  {
   "cell_type": "code",
   "execution_count": 3,
   "metadata": {},
   "outputs": [],
   "source": [
    "texts_train_all = data_train_all['text'].to_list()\n",
    "labels_all = data_train_all['text_type']\n",
    "target_all = pd.Categorical(labels_all, categories=['ham', 'spam']).codes"
   ]
  },
  {
   "cell_type": "code",
   "execution_count": 4,
   "metadata": {},
   "outputs": [
    {
     "name": "stdout",
     "output_type": "stream",
     "text": [
      "a resume for john lavorato thanks vince i will get moving on it right away molly vince j kaminski 02 21 2001 05 55 pm to molly magee hou ect ect cc vince j kaminski hou ect ect subject a resume for john lavorato molly please make arrangements for the interview with this candidate for a trading position interviews with john lavorato jeff shankman gary hickerson stinson gibner i talked to him in new york and he is considering other opportunities so we have to act fast i think john will like him more than punit thanks\n"
     ]
    }
   ],
   "source": [
    "print(texts_train_all[1])"
   ]
  },
  {
   "cell_type": "markdown",
   "metadata": {},
   "source": [
    "## Preprocessing functions"
   ]
  },
  {
   "cell_type": "code",
   "execution_count": 5,
   "metadata": {},
   "outputs": [],
   "source": [
    "lemmatizer = WordNetLemmatizer()\n",
    "\n",
    "tokenizer = TweetTokenizer()\n",
    "\n",
    "ENGLISH_STOP_WORDS = set(stopwords.words('english'))"
   ]
  },
  {
   "cell_type": "code",
   "execution_count": 6,
   "metadata": {},
   "outputs": [],
   "source": [
    "def to_lower(words):\n",
    "    result = words.lower()\n",
    "    return result\n",
    "\n",
    "\n",
    "def remove_underscore(words):\n",
    "    return re.sub(r'_', ' ', words)\n",
    "\n",
    "def remove_punctuation(words):\n",
    "    result = re.sub(r'[!\"#%&\\'()*+,-./:;<=>?@\\[\\]^`{|}~]', ' ', words) # everything except underscore and $\n",
    "    return result\n",
    "\n",
    "\n",
    "def replace_hyperlink(words, replace=' <HTTP> '):\n",
    "    return re.sub(r'http(?:\\S*|\\b)', replace, words)\n",
    "\n",
    "def remove_hyperlink(words):\n",
    "    return replace_hyperlink(words, '')\n",
    "\n",
    "\n",
    "def emoji_to_text(words):\n",
    "    return emoji.demojize(words)\n",
    "\n",
    "def replace_emoji(words,  replace=' <EMOJI> '):\n",
    "    return emoji.replace_emoji(words, replace=replace)\n",
    "\n",
    "def remove_emoji(words):\n",
    "    return replace_emoji(words, '')\n",
    "\n",
    "\n",
    "def replace_non_ascii_words(words, replace=' <NONASCII> '):\n",
    "    pattern = r'\\b[^\\x00-\\x7F]+\\b'\n",
    "    non_ascii_words = re.sub(pattern, replace, words)\n",
    "    return non_ascii_words\n",
    "\n",
    "def replace_non_ascii(words, replace=' <NONASCII> '):\n",
    "    pattern = r'[^\\x00-\\x7F]'\n",
    "    non_ascii_words = re.sub(pattern, replace, words)\n",
    "    return non_ascii_words\n",
    "\n",
    "def remove_non_ascii(words):\n",
    "    return unidecode(words)\n",
    "\n",
    "\n",
    "def replace_number(words, replace=' <NUMBER> '):\n",
    "    result = re.sub(r'\\w*\\d\\w*', replace, words)\n",
    "    return result\n",
    "\n",
    "def remove_number(words):\n",
    "    return replace_number(words, '')\n",
    "\n",
    "\n",
    "def replace_currency(words, replace=' <CURRENCY> '):\n",
    "    currency_pattern = r'[£$€₹]'\n",
    "    return re.sub(currency_pattern, replace, words)\n",
    "\n",
    "def remove_currency(words):\n",
    "    return replace_currency(words, '')\n",
    "\n",
    "\n",
    "def replace_tag(words, replace=' <TAG> '):\n",
    "    return re.sub(r'\\w*@\\w*', replace, words)\n",
    "\n",
    "def replace_exclamation(words, replace=' <EXCLAMATION> '):\n",
    "    return re.sub(r'!', replace, words)\n",
    "\n",
    "def replace_question(words, replace=' <QUESTION> '):\n",
    "    return re.sub(r'\\?', replace, words)\n",
    "\n",
    "def replace_slash(words, replace=' <SLASH> '):\n",
    "    return re.sub(r'/', replace, words)\n",
    "\n",
    "def replace_colon(words, replace=' <COLON> '):\n",
    "    return re.sub(r':', replace, words)\n",
    "\n",
    "\n",
    "def remove_whitespace(words):\n",
    "    return words.strip()\n",
    "\n",
    "def replace_newline(words):\n",
    "    return words.replace('\\n', ' ')\n",
    "\n",
    "def remove_stop_words(words):\n",
    "    return [i for i in words if i not in ENGLISH_STOP_WORDS]\n",
    "\n",
    "def word_lemmatizer(words):\n",
    "    return [lemmatizer.lemmatize(s) for s in words]"
   ]
  },
  {
   "cell_type": "code",
   "execution_count": 7,
   "metadata": {},
   "outputs": [],
   "source": [
    "def print_tokenized_data(data_tokenized, b=0, e=None):\n",
    "    for sentence in data_tokenized[b:e]:\n",
    "        print(' '.join(sentence))\n",
    "\n",
    "\n",
    "def preprocess_pipeline(sentence, preprocess_utils=None):\n",
    "    if preprocess_utils is None:\n",
    "        preprocess_utils = [\n",
    "            to_lower,\n",
    "            replace_newline,\n",
    "            remove_underscore,\n",
    "            replace_hyperlink,\n",
    "            replace_emoji,\n",
    "            replace_non_ascii_words,\n",
    "            replace_non_ascii,\n",
    "            remove_non_ascii,\n",
    "            remove_punctuation,\n",
    "            remove_whitespace,\n",
    "            tokenizer.tokenize,\n",
    "            remove_stop_words,\n",
    "            word_lemmatizer,\n",
    "        ]\n",
    "    for func in preprocess_utils:\n",
    "        sentence = func(sentence)\n",
    "    return sentence"
   ]
  },
  {
   "cell_type": "code",
   "execution_count": 8,
   "metadata": {},
   "outputs": [],
   "source": [
    "def calc_metrics(model, X_test, y_test):\n",
    "    prob_pred = model.predict_proba(X_test.toarray())\n",
    "    y_pred = np.argmax(prob_pred, axis=1)\n",
    "    p_pred = prob_pred[:, 1]\n",
    "\n",
    "    return (\n",
    "        accuracy_score(y_test, y_pred),\n",
    "        precision_score(y_test, y_pred),\n",
    "        recall_score(y_test, y_pred),\n",
    "        f1_score(y_test, y_pred),\n",
    "        roc_auc_score(y_test, p_pred)\n",
    "    )"
   ]
  },
  {
   "cell_type": "markdown",
   "metadata": {},
   "source": [
    "## Оценим модель"
   ]
  },
  {
   "cell_type": "code",
   "execution_count": 18,
   "metadata": {},
   "outputs": [],
   "source": [
    "def evaluate_model(data_train_tokenized, preprocess_utils, max_features=35000, min_df=1):\n",
    "    # spliting to train and validation\n",
    "    texts_train, texts_val, y_train, y_val = train_test_split(\n",
    "                                        data_train_tokenized,\n",
    "                                        target_all,\n",
    "                                        shuffle=True,\n",
    "                                        random_state=42, \n",
    "                                        stratify=target_all)\n",
    "\n",
    "    texts_train_strings = [\" \".join(sentence) for sentence in texts_train]\n",
    "    texts_val_strings = [\" \".join(sentence) for sentence in texts_val]\n",
    "\n",
    "    # creating TF-IDF features\n",
    "    vectorizer = TfidfVectorizer(lowercase=False, max_features=max_features, min_df=min_df)\n",
    "    vectorizer.fit(texts_train_strings)\n",
    "\n",
    "    X_train = vectorizer.transform(texts_train_strings)\n",
    "    X_val = vectorizer.transform(texts_val_strings)\n",
    "\n",
    "    # Training model\n",
    "    clf = GaussianNB()\n",
    "    clf.fit(X_train.toarray(), y_train)\n",
    "\n",
    "    # Evaluating model\n",
    "    (accuracy_val,\n",
    "    precision_val,\n",
    "    recall_val,\n",
    "    f1_val,\n",
    "    roc_auc_val) = calc_metrics(clf, X_val, y_val)\n",
    "\n",
    "    print(f'Accuracy {accuracy_val:.4f}, Precision {precision_val:.4f}, ', end='')\n",
    "    print(f'Recall {recall_val:.4f}, f1 {f1_val:.4f}, ROC AUC {roc_auc_val:.4f}')\n",
    "\n",
    "    return roc_auc_val, clf, vectorizer\n",
    "    "
   ]
  },
  {
   "cell_type": "markdown",
   "metadata": {},
   "source": [
    "Будем использовать такуюже токенизацию данных как и в ManualFeatures"
   ]
  },
  {
   "cell_type": "code",
   "execution_count": 15,
   "metadata": {},
   "outputs": [],
   "source": [
    "preprocess_utils = [\n",
    "    to_lower,\n",
    "    replace_newline,\n",
    "    replace_hyperlink,\n",
    "    remove_underscore,\n",
    "    replace_currency,\n",
    "    replace_emoji,\n",
    "    replace_non_ascii_words,\n",
    "    replace_non_ascii,\n",
    "    remove_non_ascii,\n",
    "    replace_number,\n",
    "    replace_tag,\n",
    "    replace_exclamation,\n",
    "    replace_question,\n",
    "    replace_slash,\n",
    "    replace_colon,\n",
    "    remove_punctuation,\n",
    "    remove_whitespace,\n",
    "    tokenizer.tokenize,\n",
    "    remove_stop_words,\n",
    "    word_lemmatizer,\n",
    "]\n",
    "\n",
    "data_train_tokenized = [\n",
    "    preprocess_pipeline(sent, preprocess_utils) for sent in texts_train_all\n",
    "]"
   ]
  },
  {
   "cell_type": "code",
   "execution_count": 17,
   "metadata": {},
   "outputs": [
    {
     "name": "stdout",
     "output_type": "stream",
     "text": [
      "max_features = 100\n",
      "Accuracy 0.6686, Precision 0.4698, Recall 0.9509, f1 0.6289, ROC AUC 0.7951\n",
      "\n",
      "max_features = 500\n",
      "Accuracy 0.7211, Precision 0.5151, Recall 0.9517, f1 0.6684, ROC AUC 0.8022\n",
      "\n",
      "max_features = 1000\n",
      "Accuracy 0.7386, Precision 0.5320, Recall 0.9542, f1 0.6831, ROC AUC 0.8082\n",
      "\n",
      "max_features = 5000\n",
      "Accuracy 0.7509, Precision 0.5473, Recall 0.9043, f1 0.6819, ROC AUC 0.7959\n",
      "\n",
      "max_features = 10000\n",
      "Accuracy 0.7459, Precision 0.5442, Recall 0.8611, f1 0.6669, ROC AUC 0.7798\n",
      "\n",
      "max_features = 35000\n",
      "Accuracy 0.7590, Precision 0.5627, Recall 0.8253, f1 0.6691, ROC AUC 0.7782\n",
      "\n"
     ]
    }
   ],
   "source": [
    "max_features_list = [100, 500, 1000, 5000, 10000, 35000]\n",
    "\n",
    "for mf in max_features_list:\n",
    "    print(f'max_features = {mf}')\n",
    "    roc_auc_val, clf, vectorizer = evaluate_model(\n",
    "                                        data_train_tokenized,\n",
    "                                        preprocess_utils,\n",
    "                                        max_features=mf\n",
    "                                    )\n",
    "    print()"
   ]
  },
  {
   "cell_type": "markdown",
   "metadata": {},
   "source": [
    "Видно, что наилучший ROC AUC достигается при max_features порядка 1000. Однако при этом несколько ухудшаются accuracy, presicion и f1 score"
   ]
  },
  {
   "cell_type": "code",
   "execution_count": 23,
   "metadata": {},
   "outputs": [
    {
     "name": "stdout",
     "output_type": "stream",
     "text": [
      "min_df = 50\n",
      "Accuracy 0.7568, Precision 0.5517, Recall 0.9418, f1 0.6958, ROC AUC 0.8186\n",
      "Vocab size 1144\n",
      "\n",
      "min_df = 100\n",
      "Accuracy 0.7504, Precision 0.5455, Recall 0.9285, f1 0.6872, ROC AUC 0.8182\n",
      "Vocab size 536\n",
      "\n",
      "min_df = 200\n",
      "Accuracy 0.7344, Precision 0.5285, Recall 0.9334, f1 0.6749, ROC AUC 0.8272\n",
      "Vocab size 242\n",
      "\n",
      "min_df = 250\n",
      "Accuracy 0.6998, Precision 0.4956, Recall 0.9343, f1 0.6476, ROC AUC 0.8090\n",
      "Vocab size 179\n",
      "\n",
      "min_df = 300\n",
      "Accuracy 0.7015, Precision 0.4971, Recall 0.9301, f1 0.6479, ROC AUC 0.8168\n",
      "Vocab size 134\n",
      "\n"
     ]
    }
   ],
   "source": [
    "min_df_list = [50, 100, 200, 250, 300]\n",
    "\n",
    "for mdf in min_df_list:\n",
    "    print(f'min_df = {mdf}')\n",
    "    roc_auc_val, clf, vectorizer = evaluate_model(\n",
    "                                        data_train_tokenized,\n",
    "                                        preprocess_utils,\n",
    "                                        max_features=None,\n",
    "                                        min_df = mdf\n",
    "                                    )\n",
    "    print(f'Vocab size {len(vectorizer.vocabulary_)}')\n",
    "    print()"
   ]
  },
  {
   "cell_type": "markdown",
   "metadata": {},
   "source": [
    "Ограничение минимальной частоты нахождения слов в текстах позволило. Немного повысить ROC AUC по стравнению с контролем только максимального размера словаря.\n",
    "\n",
    "Максимальный ROC AUC достигается при min_df = 200."
   ]
  },
  {
   "cell_type": "markdown",
   "metadata": {},
   "source": [
    "### Изобразим ROC"
   ]
  },
  {
   "cell_type": "code",
   "execution_count": 25,
   "metadata": {},
   "outputs": [
    {
     "name": "stdout",
     "output_type": "stream",
     "text": [
      "Accuracy 0.7344, Precision 0.5285, Recall 0.9334, f1 0.6749, ROC AUC 0.8272\n"
     ]
    }
   ],
   "source": [
    "roc_auc_val, clf, vectorizer = evaluate_model(\n",
    "                                        data_train_tokenized,\n",
    "                                        preprocess_utils,\n",
    "                                        max_features=None,\n",
    "                                        min_df = 200\n",
    "                                    )\n",
    "\n",
    "texts_train, texts_val, y_train, y_val = train_test_split(\n",
    "                                    data_train_tokenized,\n",
    "                                    target_all,\n",
    "                                    shuffle=True,\n",
    "                                    random_state=42, \n",
    "                                    stratify=target_all)\n",
    "\n",
    "texts_val_strings = [\" \".join(sentence) for sentence in texts_val]\n",
    "\n",
    "X_val = vectorizer.transform(texts_val_strings)\n",
    "\n",
    "prob_pred = clf.predict_proba(X_val.toarray())\n",
    "p_pred = prob_pred[:, 1]"
   ]
  },
  {
   "cell_type": "code",
   "execution_count": 28,
   "metadata": {},
   "outputs": [
    {
     "data": {
      "image/png": "[encoded data removed]",
      "text/plain": [
       "<Figure size 640x480 with 1 Axes>"
      ]
     },
     "metadata": {},
     "output_type": "display_data"
    }
   ],
   "source": [
    "fpr, tpr, threshold = roc_curve(y_val, p_pred)\n",
    "\n",
    "plt.title('Receiver Operating Characteristic')\n",
    "plt.plot(fpr, tpr, 'b', label = f'AUC = {roc_auc_val:0.4f}')\n",
    "plt.legend(loc = 'lower right')\n",
    "plt.plot([0, 1], [0, 1],'r--')\n",
    "# plt.xlim([0, 1])\n",
    "# plt.ylim([0, 1])\n",
    "plt.ylabel('True Positive Rate')\n",
    "plt.xlabel('False Positive Rate')\n",
    "plt.grid()\n",
    "plt.show()"
   ]
  },
  {
   "cell_type": "code",
   "execution_count": null,
   "metadata": {},
   "outputs": [],
   "source": []
  }
 ],
 "metadata": {
  "kernelspec": {
   "display_name": "base",
   "language": "python",
   "name": "python3"
  },
  "language_info": {
   "codemirror_mode": {
    "name": "ipython",
    "version": 3
   },
   "file_extension": ".py",
   "mimetype": "text/x-python",
   "name": "python",
   "nbconvert_exporter": "python",
   "pygments_lexer": "ipython3",
   "version": "3.9.19"
  }
 },
 "nbformat": 4,
 "nbformat_minor": 2
}
