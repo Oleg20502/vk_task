{
 "cells": [
  {
   "cell_type": "code",
   "execution_count": 69,
   "metadata": {},
   "outputs": [],
   "source": [
    "import numpy as np\n",
    "import pandas as pd\n",
    "import matplotlib.pyplot as plt\n",
    "\n",
    "import re\n",
    "import string\n",
    "from unidecode import unidecode\n",
    "import emoji\n",
    "\n",
    "from sklearn.model_selection import train_test_split\n",
    "from sklearn.feature_extraction.text import TfidfVectorizer\n",
    "from sklearn.naive_bayes import GaussianNB\n",
    "from sklearn.metrics import accuracy_score, precision_score, recall_score, f1_score, roc_auc_score\n",
    "\n",
    "\n",
    "import nltk\n",
    "from nltk.tokenize import word_tokenize, TweetTokenizer\n",
    "from nltk.corpus import stopwords\n",
    "from nltk.stem import PorterStemmer\n",
    "from nltk.stem import WordNetLemmatizer\n",
    "# nltk.download('punkt')\n",
    "# nltk.download('stopwords')\n",
    "# nltk.download('wordnet')"
   ]
  },
  {
   "cell_type": "markdown",
   "metadata": {},
   "source": [
    "## Data loading"
   ]
  },
  {
   "cell_type": "code",
   "execution_count": 163,
   "metadata": {},
   "outputs": [],
   "source": [
    "file_train = 'train_spam.csv'\n",
    "\n",
    "data_train_all = pd.read_csv(file_train)"
   ]
  },
  {
   "cell_type": "code",
   "execution_count": 164,
   "metadata": {},
   "outputs": [],
   "source": [
    "texts_train_all = data_train_all['text']\n",
    "labels_all = data_train_all['text_type']\n",
    "target_all = pd.Categorical(labels_all, categories=['ham', 'spam']).codes"
   ]
  },
  {
   "cell_type": "code",
   "execution_count": 165,
   "metadata": {},
   "outputs": [
    {
     "name": "stdout",
     "output_type": "stream",
     "text": [
      "['development of a program in econo physics hello shirley i d understood from yannis that he d proposed a brown bag lunch where i d give a talk and then the discussion about various possibilities would follow i m here until about mid may and then will go on leave in europe for a year i could be available to make trips back and forth from time to time to get things started best regards joe mccauley'\n",
      " 'at 1635465 1635465 pm 1635465 on 1635465 1635465 1635465 mr fork wrote i realize now that after reviewing the past several years of work and career i have been in the wrong business the wrong business this is what i should have been doing url a new manual has been published url or the one i read http http search barnesandnoble com booksearch isbninquiry asp userid 1635465t1635465jtegkqp isbn 1635465 and of course the open source versions url url r a hettinga mailto rah ibuc com the internet bearer underwriting corporation url 1635465 farquhar street boston ma 1635465 usa however it may deserve respect for its usefulness and antiquity predicting the end of the world has not been found agreeable to experience edward gibbon decline and fall of the roman empire'\n",
      " 'url url date not supplied img url jon lebkowsky has posted a little gallery of pictures from my eff austin talk at actlab at the university of texas and a couple shots from the kick ass bbq we ate beforehand note the atkins compliant lunch i had a fantastic time there thanks to the organizers and especially to jon for putting it together it s was especially great to meeet the boing boing readers who came out to the talk link 1635465 discuss 1635465 thanks john 1635465 1635465 url 1635465 url 1635465 url'\n",
      " 'i l cal u later' 'hasnt that been the pattern recently crap weekends'\n",
      " 'interview with the enron research group you are quite welcome kin we wish you the best in reaching your career goals and we look forward to hearing from you in the future regards shirley crenshaw administrative coordinator enron research group kin tso on 11 01 2000 12 52 02 pm to cc subject interview with the enron research group dear shirley thank you so much for your email after carefully considering my career goals i feel the associate program with a rotation in the enron research group is a better fit i am really interested in enron and i would try to contact your colleagues in the associate program about this issue before i schedule an interview with the enron research group i truly apologize for the inconvenience caused and i want to thank you agai'\n",
      " 'energy derivatives conference may 29 toronto amy attached please find a short bio for dr kaminski please let me know if i can help further amy aldous on 03 30 2000 11 24 13 am to vince j uwaterloo ca kaminski enron com cc shirley crenshaw enron com subject energy derivatives conference may 29 toronto dear mr kaminski i have just spoken with phelim boyle who was very pleased to report that you will be speaking at our energy derivatives conference in toronto on may 29 i understand that the title of your presentation is current challenges in pricing and risk management of energy derivatives would you also be available and willing to join a panel discussion question and answer period at the end of the day speakers with tentative titles to f'\n",
      " 'lance cunningham vince i have left a message with teresa and have sent the following terse note to lance to let him know that we are moving as we discussed i asked teresa to offer 90 k 10 k signing bonus regards grantforwarded by grant masson hou ect on 06 30 2000 11 21 am enron north america corp from grant masson 06 30 2000 11 21 am to lbcunningham mail utexas edu cc subject enron lance i am going on vacation tomorrow but i wanted to get in touch with you before i left i have asked hr to extend an offer to you teresa bien should be sending you an offer letter via fedex of course with the july 4 th weekend i m not sure when you will get it if you have questions i suggest that you call vin'\n",
      " 'freeringtone reply real or poly eg real1 1 pushbutton 2 dontcha 3 babygoodbye 4 golddigger 5 webeburnin 1st tone free and 6 more when u join for £3wk'\n",
      " 'yeah i was using one efi for two distros'\n",
      " 'from fork admin url mailto fork admin url on behalf of adam l beberg if the creator didnt say you could have it without paying it s theft so simple hell that s even in all the major holy books ran across a site which claimed to explain the original meaning of the ten commandments it seems some of those meanings have evolved a bit too in particular there was a claim that the commandment on stealing was actually specifically about man stealing selling a free man into slavery certainly the us southerners were particularly sensitive to the term man stealer in a way i didn t understand yep i know he said all holy books no i don t know if this site was blowing hot air it just read like someone had done their homework url'\n",
      " 'url lima peru reuters lina medina s parents thought their 1635465 year old daughter had a huge abdominal tumor and when shamans in their remote village in peru s andes could find no cure her father carried her to hospital just over a month later she gave birth to a boy aged 1635465 years seven months and 1635465 days old when her child was born by caesarean section in may 1635465 medina made medical history and is still the youngest known mother in the world at the time peru s government promised aid that never materialized six decades on medina lives with her husband in a cramped house in a poor crime ridden district of the peruvian capital known as little chicago now 1635465 she keeps herself to herself and has long refused requests to rake up the past gerardo the son she delivered while'\n",
      " 'dunno lei ü all decide lor how abt leona oops i tot ben is going n i msg him'\n",
      " 'xeffects!cool special effects and makeup in the new film xmen: first class! choose a mutant character to see what they look like after they transform:1 mystique2 beast3 azazel4 emma frost1/2/3/4reply within 24 hours to get a photo'\n",
      " 'checking account update dear reader we sometimes approach our analysts for their thoughts on emerging market sectors we re interested in on certain occasions they come to us with intriguing insights of certain aspects of the market that have caught their attention as you know our track record speaks for itself we are happy to bring you another situation with huge upside potential we think this could be the one that when we look back shortly everyone will be saying i should have more for more info click here remember nothing ventured nothing gained'\n",
      " 'sorry ill call later in meeting any thing related to trade please call arul ltgt'\n",
      " 'you are a winner you have been specially selected to receive £1000 cash or a £2000 award speak to a live operator to claim call 087147123779am7pm cost 10p'\n",
      " 'e eirikur hallgrimsson eh mad scientist com writes e gary s news service at url has an article on internet e saturation let me ask you if you were on a rock in the e middle of the atlantic mostly in the dark for half the year e wouldn t you like a bit of internet distraction they ve e already done the obvious and fiber ringed the island there s lots of similar places saskatchewan for example once shared with iceland the distinction of most telephone connections per capita and for a long time shared the internet penetration lead with iceland sask is a land locked massive expanse of ultra flat dust with only two rivers and farm sizes measured in the hundred thousand hectares it s still curious iceland leads maybe there s just a deep cultural curiousity and fascination with watching advertisi'\n",
      " 'are you happy baby are you alright did you take that job i hope your fine i send you a kiss to make you smile from across the sea kiss kiss'\n",
      " 'really ignore ignored worsd']\n"
     ]
    }
   ],
   "source": [
    "print(texts_train_all[300:320].to_numpy())"
   ]
  },
  {
   "cell_type": "markdown",
   "metadata": {},
   "source": [
    "## Preprocessing"
   ]
  },
  {
   "cell_type": "code",
   "execution_count": 166,
   "metadata": {},
   "outputs": [],
   "source": [
    "lemmatizer = WordNetLemmatizer()\n",
    "\n",
    "tokenizer = TweetTokenizer()\n",
    "\n",
    "ENGLISH_STOP_WORDS = set(stopwords.words('english'))"
   ]
  },
  {
   "cell_type": "code",
   "execution_count": 217,
   "metadata": {},
   "outputs": [],
   "source": [
    "def remove_hyperlink(words):\n",
    "    return  re.sub(r\"http\\S+\", \"\", words)\n",
    "\n",
    "def to_lower(words):\n",
    "    result = words.lower()\n",
    "    return result\n",
    "\n",
    "def remove_underscore(words):\n",
    "    return re.sub(r'_', ' ', words)\n",
    "\n",
    "def remove_punctuation(words):\n",
    "    # result = words.translate(str.maketrans(dict.fromkeys(string.punctuation)))\n",
    "    # result = re.sub(r'[^\\w\\s]', ' ', words)\n",
    "    result = re.sub(r'[!\"#%&\\'()*+,-./:;<=>?@\\[\\]^`{|}~]', ' ', words) # everything except underscore\n",
    "    return result\n",
    "\n",
    "def emoji_to_text(words):\n",
    "    return emoji.demojize(words)\n",
    "\n",
    "def replace_emoji(words):\n",
    "    return emoji.replace_emoji(words, replace=' <EMOJI> ')\n",
    "\n",
    "def replace_non_ascii(words, replace=' <NONASCII> '):\n",
    "    pattern = r'\\b[^\\x00-\\x7F]+\\b'\n",
    "    non_ascii_words = re.sub(pattern, replace, words)\n",
    "    return non_ascii_words\n",
    "\n",
    "def remove_whitespace(words):\n",
    "    return words.strip()\n",
    "\n",
    "def replace_newline(words):\n",
    "    return words.replace('\\n', '')\n",
    "\n",
    "def remove_number(words, replace=' <NUMBER> '):\n",
    "    result = re.sub(r'\\b\\w*\\d\\w*\\b', replace, words)\n",
    "    return result\n",
    "\n",
    "def remove_currency(words, replace=' <CURRENCY> '):\n",
    "    currency_pattern = r'[£$€₹]'\n",
    "    return re.sub(currency_pattern, replace, words)\n",
    "\n",
    "def remove_stop_words(words):\n",
    "    result = [i for i in words if i not in ENGLISH_STOP_WORDS]\n",
    "    return result\n",
    "\n",
    "def word_lemmatizer(words):\n",
    "    return [lemmatizer.lemmatize(s) for s in words]"
   ]
  },
  {
   "cell_type": "markdown",
   "metadata": {},
   "source": [
    "Можно добавить обработку !, %, #, @, ?"
   ]
  },
  {
   "cell_type": "code",
   "execution_count": 168,
   "metadata": {},
   "outputs": [],
   "source": [
    "def print_tokenized_data(data_tokenized, b=0, e=None):\n",
    "    for sentence in data_tokenized[b:e]:\n",
    "        print(' '.join(sentence))\n",
    "\n",
    "\n",
    "def preprocess_pipeline(sentence, preprocess_utils=None):\n",
    "    if preprocess_utils is None:\n",
    "        preprocess_utils = [\n",
    "                            remove_hyperlink,\n",
    "                            replace_newline,\n",
    "                            to_lower,\n",
    "                            replace_emoji,          ### или emoji_to_text\n",
    "                            remove_currency,        ### или ничего\n",
    "                            remove_number,          ### или ничего\n",
    "                            replace_non_ascii,      ### или что-то что обрабатывает необычные шрифты (replace_non_ascii, unidecode)\n",
    "                            remove_punctuation,\n",
    "                            remove_whitespace,\n",
    "                            tokenizer.tokenize,\n",
    "                            remove_stop_words,       ###\n",
    "                            word_lemmatizer,         ###\n",
    "                        ]\n",
    "    for func in preprocess_utils:\n",
    "        sentence = func(sentence)\n",
    "    return sentence"
   ]
  },
  {
   "cell_type": "code",
   "execution_count": 169,
   "metadata": {},
   "outputs": [],
   "source": [
    "data_train_tokenized = [\n",
    "    preprocess_pipeline(sent) for sent in texts_train_all.to_numpy()\n",
    "]"
   ]
  },
  {
   "cell_type": "code",
   "execution_count": 170,
   "metadata": {},
   "outputs": [
    {
     "name": "stdout",
     "output_type": "stream",
     "text": [
      "hi building rpm resin webserver basically want install entire tarball diretory tarball includes subdirectory spec install NUMBER name version release rpmbuildroot usr local resin getting install resin NUMBER NUMBER NUMBER bin directory install resin NUMBER NUMBER NUMBER conf directory proper nice way handle seem super human misunderstood c dream theater mark url icq NUMBER jid talios url rpm list mailing list rpm list freshrpms net url\n",
      "main symptom manifestation NUMBER main manifestation NUMBER patient fever dry cough fatigue patient diminished lost sense smell taste first symptom small number patient accompanied nasal congestion runny nose sore throat conjunctivitis myalgia diarrheadefeating NUMBER requires joint effort people india sun pharma best click participate parttime task fighting NUMBER get daily reward\n",
      "would like get free navigation forever map NUMBER country nokia phone learn install\n",
      "prospective NUMBER NUMBER houston visit ehud june NUMBER work want firm vince ehud ronn NUMBER NUMBER NUMBER NUMBER NUMBER NUMBER pm vince j kaminski enron com cc subject prospective NUMBER NUMBER houston visit vince many thanks e mail june NUMBER several trip may NUMBER june NUMBER thank invitation may time acquire option visit date finalization visit timing completed early next month thanks best regard ehud ehud ronn department finance college graduate school business university texas austin austin tx NUMBER NUMBER voice NUMBER NUMBER NUMBER fax NUMBER NUMBER NUMBER internet eronn mail utexas edu\n",
      "url jm url changed removed added status new assigned additional comment jm url NUMBER NUMBER NUMBER NUMBER NUMBER NUMBER use config gradually removed thankfully want see stuff acn avoided different perl version jsut vary much stuff NUMBER perl concept rule could unless perl libdir usr lib NUMBER siteperl NUMBER x x foo perl know existence usr share etc used use usr lib NUMBER storing rule actually much worse need band way tell sa find stuff problem NUMBER try perl url dev null allow bot build think might missing detail\n",
      "coffee mythcoffee drinker prone heart disease NUMBER NUMBER NUMBER NUMBER within NUMBER know fact coffee\n",
      "jay want work first hows NUMBER sound\n",
      "approval reviewer robert jr michael suggested reviewer submitted approval may review modify list reviewer logging pep http pep corp enron com going supervisor service please remember feedback completed robert jr michael approved list\n",
      "project brainstorming paulo april colorado march NUMBER schedule next week talk directly currently eb research helping kevin howard scott yeager indirectly via kevin effort ass value eyeball paulo research complement effort research paulo perform part bigger picture work kevin howard aked stinson support call cell NUMBER NUMBER NUMBER co regard ravi april hodgson NUMBER NUMBER NUMBER NUMBER NUMBER pm stinson gibner hou ect ect enron cc ravi thuraisingham enron communication enron communication vince j kaminski hou ect ect enron subject project brainstorming paulo office frid\n",
      "could seen mei didt recognise face\n",
      "k dahow many page want\n",
      "cant still believe made much process keep believing self think reward risk taking im happy give trial share testimony referral\n",
      "time NUMBER filing unit pat recently talked ordering another filing unit turn need NUMBER filing unit please order size floor ceiling cabinet inside cabinet configured follows NUMBER cabinet NUMBER shelf NUMBER cabinet NUMBER shelf interstore today reconfiguing NUMBER existing cabinet removed NUMBER shelf going use new unit please price NUMBER new unit charge co NUMBER rc NUMBER please let price approximate delivery date also let know need anything else thanks anita\n",
      "NUMBER spirituality rich well poor rich open heart poor give selfconfidence\n",
      "also thk fast xy suggest one u dun wan ok going NUMBER rain leh got gd\n",
      "lost job taught life come end knowing god better plan binary option trade good help family invested mr roberto robinson immediately lost job today far richer used earn still working former company know wasting year working hard job make quick money little investment fund contact mr roberto robinson today start earning massively via link EMOJI EMOJI EMOJI EMOJI EMOJI EMOJI EMOJI EMOJI EMOJI\n",
      "undelivered mail returned sender postfix program host correio quick com br sorry inform message returned could delivered one destination assistance please send mail please include problem report delete text message returned postfix program user unknown command output invalid user specified\n",
      "ok much though hm friday cant wait dunno wot hell im gonna another NUMBER week become slob oh wait already done\n",
      "NONASCII NONASCII NONASCII NONASCII NONASCII NONASCII NONASCII NONASCII NONASCII NONASCII NONASCII NONASCII NONASCII NONASCII NONASCII NONASCII NONASCII NONASCII NONASCII NONASCII NONASCII NONASCII NONASCII NUMBER NONASCII NONASCII NONASCII NONASCII EMOJI EMOJI EMOJI earn home EMOJI EMOJI EMOJI EMOJI\n",
      "boy loved gal propsd bt didnt mind gv lv lttrs bt frnds threw thm boy decided NUMBER aproach gal dt time truck speeding towards gal wn NUMBER hit girld boy ran like hell n saved asked hw cn u run fast boy replied boost secret energy n instantly girl shouted energy n thy lived happily NUMBER drinking boost evrydy moral story hv free msgsd gud NUMBER\n"
     ]
    }
   ],
   "source": [
    "print_tokenized_data(data_train_tokenized, 20, 40)"
   ]
  },
  {
   "cell_type": "code",
   "execution_count": 171,
   "metadata": {},
   "outputs": [
    {
     "name": "stdout",
     "output_type": "stream",
     "text": [
      "['NONASCII', 'NONASCII', 'NONASCII', 'NONASCII', 'NONASCII', 'NONASCII', 'NONASCII', 'NONASCII', 'NONASCII', 'NONASCII', 'NONASCII', 'NONASCII', 'NONASCII', 'NONASCII', 'NONASCII', 'NONASCII', 'NONASCII', 'NONASCII', 'NONASCII', 'NONASCII', 'NONASCII', 'NONASCII', 'NONASCII']\n"
     ]
    }
   ],
   "source": [
    "text = '𝑰𝒕𝒔 𝒕𝒉𝒆 𝒔𝒆𝒄𝒐𝒏𝒅 𝒕𝒊𝒎𝒆 𝒐𝒇 𝒓𝒆𝒄𝒆𝒊𝒗𝒊𝒏𝒈 𝒎𝒚 𝒑𝒓𝒐𝒇𝒊𝒕 𝒇𝒓𝒐𝒎 𝒕𝒉𝒊𝒔 𝒊𝒏𝒗𝒆𝒔𝒕𝒎𝒆𝒏𝒕 𝒑𝒍𝒂𝒕𝒇𝒐𝒓𝒎 𝒂𝒏𝒅 𝑰 𝒏𝒆𝒆𝒅 𝒕𝒐 𝒕𝒆𝒔𝒕𝒊𝒇𝒚 𝒕𝒐 𝒚𝒐𝒖 𝒕𝒉𝒂𝒕 𝑰 𝒋𝒖𝒔𝒕 𝒓𝒆𝒄𝒆𝒊𝒗𝒆𝒅'\n",
    "text = preprocess_pipeline(text)\n",
    "print(text)"
   ]
  },
  {
   "cell_type": "code",
   "execution_count": 172,
   "metadata": {},
   "outputs": [],
   "source": [
    "texts_train, texts_val, y_train, y_val = train_test_split(\n",
    "                                        data_train_tokenized,\n",
    "                                        target_all,\n",
    "                                        shuffle=True,\n",
    "                                        random_state=42, \n",
    "                                        stratify=target_all)"
   ]
  },
  {
   "cell_type": "markdown",
   "metadata": {},
   "source": [
    "## Feature extraction"
   ]
  },
  {
   "cell_type": "code",
   "execution_count": 173,
   "metadata": {},
   "outputs": [
    {
     "data": {
      "text/html": [
       "<style>#sk-container-id-20 {color: black;}#sk-container-id-20 pre{padding: 0;}#sk-container-id-20 div.sk-toggleable {background-color: white;}#sk-container-id-20 label.sk-toggleable__label {cursor: pointer;display: block;width: 100%;margin-bottom: 0;padding: 0.3em;box-sizing: border-box;text-align: center;}#sk-container-id-20 label.sk-toggleable__label-arrow:before {content: \"▸\";float: left;margin-right: 0.25em;color: #696969;}#sk-container-id-20 label.sk-toggleable__label-arrow:hover:before {color: black;}#sk-container-id-20 div.sk-estimator:hover label.sk-toggleable__label-arrow:before {color: black;}#sk-container-id-20 div.sk-toggleable__content {max-height: 0;max-width: 0;overflow: hidden;text-align: left;background-color: #f0f8ff;}#sk-container-id-20 div.sk-toggleable__content pre {margin: 0.2em;color: black;border-radius: 0.25em;background-color: #f0f8ff;}#sk-container-id-20 input.sk-toggleable__control:checked~div.sk-toggleable__content {max-height: 200px;max-width: 100%;overflow: auto;}#sk-container-id-20 input.sk-toggleable__control:checked~label.sk-toggleable__label-arrow:before {content: \"▾\";}#sk-container-id-20 div.sk-estimator input.sk-toggleable__control:checked~label.sk-toggleable__label {background-color: #d4ebff;}#sk-container-id-20 div.sk-label input.sk-toggleable__control:checked~label.sk-toggleable__label {background-color: #d4ebff;}#sk-container-id-20 input.sk-hidden--visually {border: 0;clip: rect(1px 1px 1px 1px);clip: rect(1px, 1px, 1px, 1px);height: 1px;margin: -1px;overflow: hidden;padding: 0;position: absolute;width: 1px;}#sk-container-id-20 div.sk-estimator {font-family: monospace;background-color: #f0f8ff;border: 1px dotted black;border-radius: 0.25em;box-sizing: border-box;margin-bottom: 0.5em;}#sk-container-id-20 div.sk-estimator:hover {background-color: #d4ebff;}#sk-container-id-20 div.sk-parallel-item::after {content: \"\";width: 100%;border-bottom: 1px solid gray;flex-grow: 1;}#sk-container-id-20 div.sk-label:hover label.sk-toggleable__label {background-color: #d4ebff;}#sk-container-id-20 div.sk-serial::before {content: \"\";position: absolute;border-left: 1px solid gray;box-sizing: border-box;top: 0;bottom: 0;left: 50%;z-index: 0;}#sk-container-id-20 div.sk-serial {display: flex;flex-direction: column;align-items: center;background-color: white;padding-right: 0.2em;padding-left: 0.2em;position: relative;}#sk-container-id-20 div.sk-item {position: relative;z-index: 1;}#sk-container-id-20 div.sk-parallel {display: flex;align-items: stretch;justify-content: center;background-color: white;position: relative;}#sk-container-id-20 div.sk-item::before, #sk-container-id-20 div.sk-parallel-item::before {content: \"\";position: absolute;border-left: 1px solid gray;box-sizing: border-box;top: 0;bottom: 0;left: 50%;z-index: -1;}#sk-container-id-20 div.sk-parallel-item {display: flex;flex-direction: column;z-index: 1;position: relative;background-color: white;}#sk-container-id-20 div.sk-parallel-item:first-child::after {align-self: flex-end;width: 50%;}#sk-container-id-20 div.sk-parallel-item:last-child::after {align-self: flex-start;width: 50%;}#sk-container-id-20 div.sk-parallel-item:only-child::after {width: 0;}#sk-container-id-20 div.sk-dashed-wrapped {border: 1px dashed gray;margin: 0 0.4em 0.5em 0.4em;box-sizing: border-box;padding-bottom: 0.4em;background-color: white;}#sk-container-id-20 div.sk-label label {font-family: monospace;font-weight: bold;display: inline-block;line-height: 1.2em;}#sk-container-id-20 div.sk-label-container {text-align: center;}#sk-container-id-20 div.sk-container {/* jupyter's `normalize.less` sets `[hidden] { display: none; }` but bootstrap.min.css set `[hidden] { display: none !important; }` so we also need the `!important` here to be able to override the default hidden behavior on the sphinx rendered scikit-learn.org. See: https://github.com/scikit-learn/scikit-learn/issues/21755 */display: inline-block !important;position: relative;}#sk-container-id-20 div.sk-text-repr-fallback {display: none;}</style><div id=\"sk-container-id-20\" class=\"sk-top-container\"><div class=\"sk-text-repr-fallback\"><pre>TfidfVectorizer(lowercase=False, max_features=40000)</pre><b>In a Jupyter environment, please rerun this cell to show the HTML representation or trust the notebook. <br />On GitHub, the HTML representation is unable to render, please try loading this page with nbviewer.org.</b></div><div class=\"sk-container\" hidden><div class=\"sk-item\"><div class=\"sk-estimator sk-toggleable\"><input class=\"sk-toggleable__control sk-hidden--visually\" id=\"sk-estimator-id-20\" type=\"checkbox\" checked><label for=\"sk-estimator-id-20\" class=\"sk-toggleable__label sk-toggleable__label-arrow\">TfidfVectorizer</label><div class=\"sk-toggleable__content\"><pre>TfidfVectorizer(lowercase=False, max_features=40000)</pre></div></div></div></div></div>"
      ],
      "text/plain": [
       "TfidfVectorizer(lowercase=False, max_features=40000)"
      ]
     },
     "execution_count": 173,
     "metadata": {},
     "output_type": "execute_result"
    }
   ],
   "source": [
    "texts_train_strings = [\" \".join(sentence) for sentence in texts_train]\n",
    "\n",
    "max_features = 40000\n",
    "vectorizer = TfidfVectorizer(lowercase=False, max_features=max_features)\n",
    "vectorizer.fit(texts_train_strings)"
   ]
  },
  {
   "cell_type": "code",
   "execution_count": 174,
   "metadata": {},
   "outputs": [],
   "source": [
    "def convert_to_feature(data):\n",
    "    data_strings = [\" \".join(sentence) for sentence in data]\n",
    "    return vectorizer.transform(data_strings)"
   ]
  },
  {
   "cell_type": "code",
   "execution_count": 175,
   "metadata": {},
   "outputs": [
    {
     "name": "stdout",
     "output_type": "stream",
     "text": [
      "(12208, 33599) (4070, 33599)\n"
     ]
    }
   ],
   "source": [
    "X_train = convert_to_feature(texts_train)\n",
    "X_val = convert_to_feature(texts_val)\n",
    "print(X_train.shape, X_val.shape)"
   ]
  },
  {
   "cell_type": "markdown",
   "metadata": {},
   "source": [
    "## Training naive bayes model"
   ]
  },
  {
   "cell_type": "code",
   "execution_count": 176,
   "metadata": {},
   "outputs": [
    {
     "data": {
      "text/html": [
       "<style>#sk-container-id-21 {color: black;}#sk-container-id-21 pre{padding: 0;}#sk-container-id-21 div.sk-toggleable {background-color: white;}#sk-container-id-21 label.sk-toggleable__label {cursor: pointer;display: block;width: 100%;margin-bottom: 0;padding: 0.3em;box-sizing: border-box;text-align: center;}#sk-container-id-21 label.sk-toggleable__label-arrow:before {content: \"▸\";float: left;margin-right: 0.25em;color: #696969;}#sk-container-id-21 label.sk-toggleable__label-arrow:hover:before {color: black;}#sk-container-id-21 div.sk-estimator:hover label.sk-toggleable__label-arrow:before {color: black;}#sk-container-id-21 div.sk-toggleable__content {max-height: 0;max-width: 0;overflow: hidden;text-align: left;background-color: #f0f8ff;}#sk-container-id-21 div.sk-toggleable__content pre {margin: 0.2em;color: black;border-radius: 0.25em;background-color: #f0f8ff;}#sk-container-id-21 input.sk-toggleable__control:checked~div.sk-toggleable__content {max-height: 200px;max-width: 100%;overflow: auto;}#sk-container-id-21 input.sk-toggleable__control:checked~label.sk-toggleable__label-arrow:before {content: \"▾\";}#sk-container-id-21 div.sk-estimator input.sk-toggleable__control:checked~label.sk-toggleable__label {background-color: #d4ebff;}#sk-container-id-21 div.sk-label input.sk-toggleable__control:checked~label.sk-toggleable__label {background-color: #d4ebff;}#sk-container-id-21 input.sk-hidden--visually {border: 0;clip: rect(1px 1px 1px 1px);clip: rect(1px, 1px, 1px, 1px);height: 1px;margin: -1px;overflow: hidden;padding: 0;position: absolute;width: 1px;}#sk-container-id-21 div.sk-estimator {font-family: monospace;background-color: #f0f8ff;border: 1px dotted black;border-radius: 0.25em;box-sizing: border-box;margin-bottom: 0.5em;}#sk-container-id-21 div.sk-estimator:hover {background-color: #d4ebff;}#sk-container-id-21 div.sk-parallel-item::after {content: \"\";width: 100%;border-bottom: 1px solid gray;flex-grow: 1;}#sk-container-id-21 div.sk-label:hover label.sk-toggleable__label {background-color: #d4ebff;}#sk-container-id-21 div.sk-serial::before {content: \"\";position: absolute;border-left: 1px solid gray;box-sizing: border-box;top: 0;bottom: 0;left: 50%;z-index: 0;}#sk-container-id-21 div.sk-serial {display: flex;flex-direction: column;align-items: center;background-color: white;padding-right: 0.2em;padding-left: 0.2em;position: relative;}#sk-container-id-21 div.sk-item {position: relative;z-index: 1;}#sk-container-id-21 div.sk-parallel {display: flex;align-items: stretch;justify-content: center;background-color: white;position: relative;}#sk-container-id-21 div.sk-item::before, #sk-container-id-21 div.sk-parallel-item::before {content: \"\";position: absolute;border-left: 1px solid gray;box-sizing: border-box;top: 0;bottom: 0;left: 50%;z-index: -1;}#sk-container-id-21 div.sk-parallel-item {display: flex;flex-direction: column;z-index: 1;position: relative;background-color: white;}#sk-container-id-21 div.sk-parallel-item:first-child::after {align-self: flex-end;width: 50%;}#sk-container-id-21 div.sk-parallel-item:last-child::after {align-self: flex-start;width: 50%;}#sk-container-id-21 div.sk-parallel-item:only-child::after {width: 0;}#sk-container-id-21 div.sk-dashed-wrapped {border: 1px dashed gray;margin: 0 0.4em 0.5em 0.4em;box-sizing: border-box;padding-bottom: 0.4em;background-color: white;}#sk-container-id-21 div.sk-label label {font-family: monospace;font-weight: bold;display: inline-block;line-height: 1.2em;}#sk-container-id-21 div.sk-label-container {text-align: center;}#sk-container-id-21 div.sk-container {/* jupyter's `normalize.less` sets `[hidden] { display: none; }` but bootstrap.min.css set `[hidden] { display: none !important; }` so we also need the `!important` here to be able to override the default hidden behavior on the sphinx rendered scikit-learn.org. See: https://github.com/scikit-learn/scikit-learn/issues/21755 */display: inline-block !important;position: relative;}#sk-container-id-21 div.sk-text-repr-fallback {display: none;}</style><div id=\"sk-container-id-21\" class=\"sk-top-container\"><div class=\"sk-text-repr-fallback\"><pre>GaussianNB()</pre><b>In a Jupyter environment, please rerun this cell to show the HTML representation or trust the notebook. <br />On GitHub, the HTML representation is unable to render, please try loading this page with nbviewer.org.</b></div><div class=\"sk-container\" hidden><div class=\"sk-item\"><div class=\"sk-estimator sk-toggleable\"><input class=\"sk-toggleable__control sk-hidden--visually\" id=\"sk-estimator-id-21\" type=\"checkbox\" checked><label for=\"sk-estimator-id-21\" class=\"sk-toggleable__label sk-toggleable__label-arrow\">GaussianNB</label><div class=\"sk-toggleable__content\"><pre>GaussianNB()</pre></div></div></div></div></div>"
      ],
      "text/plain": [
       "GaussianNB()"
      ]
     },
     "execution_count": 176,
     "metadata": {},
     "output_type": "execute_result"
    }
   ],
   "source": [
    "clf = GaussianNB()\n",
    "\n",
    "clf.fit(X_train.toarray(), y_train)"
   ]
  },
  {
   "cell_type": "code",
   "execution_count": 177,
   "metadata": {},
   "outputs": [],
   "source": [
    "def calc_metrics(model, X_test, y_test):\n",
    "    prob_pred = model.predict_proba(X_test.toarray())\n",
    "    y_pred = np.argmax(prob_pred, axis=1)\n",
    "    p_pred = prob_pred[:, 1]\n",
    "\n",
    "    return (\n",
    "        accuracy_score(y_test, y_pred),\n",
    "        precision_score(y_test, y_pred),\n",
    "        recall_score(y_test, y_pred),\n",
    "        f1_score(y_test, y_pred),\n",
    "        roc_auc_score(y_test, p_pred)\n",
    "    )"
   ]
  },
  {
   "cell_type": "code",
   "execution_count": 178,
   "metadata": {},
   "outputs": [
    {
     "name": "stdout",
     "output_type": "stream",
     "text": [
      "Accuracy 0.7609, Precision 0.5652, Recall 0.8253, f1 0.6710, ROC AUC 0.77957\n"
     ]
    }
   ],
   "source": [
    "(accuracy_val,\n",
    "precision_val,\n",
    "recall_val,\n",
    "f1_val,\n",
    "roc_auc_val) = calc_metrics(clf, X_val, y_val)\n",
    "\n",
    "print(f'Accuracy {accuracy_val:.4f}, Precision {precision_val:.4f}, ', end='')\n",
    "print(f'Recall {recall_val:.4f}, f1 {f1_val:.4f}, ROC AUC {roc_auc_val:.5f}')"
   ]
  },
  {
   "cell_type": "markdown",
   "metadata": {},
   "source": [
    "# Testing"
   ]
  },
  {
   "cell_type": "markdown",
   "metadata": {},
   "source": [
    "## Pipeline 1\n",
    "Ничего не делаем c эмоджи, ничего не делаем с currency, ничего не делаем с numbers, ничего не делаем с nonascii"
   ]
  },
  {
   "cell_type": "code",
   "execution_count": 179,
   "metadata": {},
   "outputs": [],
   "source": [
    "preprocess_utils = [\n",
    "                    remove_hyperlink,\n",
    "                    replace_newline,\n",
    "                    to_lower,\n",
    "                    remove_punctuation,\n",
    "                    remove_whitespace,\n",
    "                    tokenizer.tokenize,\n",
    "                    remove_stop_words,       ###\n",
    "                    word_lemmatizer,         ###\n",
    "                ]"
   ]
  },
  {
   "cell_type": "code",
   "execution_count": 180,
   "metadata": {},
   "outputs": [
    {
     "name": "stdout",
     "output_type": "stream",
     "text": [
      "hi building rpm resin webserver basically want install entire tarball diretory tarball includes subdirectory spec install 1635465 name version release rpmbuildroot usr local resin getting install resin 1635465 1635 465 1635465 bin directory install resin 1635465 1635 465 1635465 conf directory proper nice way handle seem super human misunderstood c dream theater mark url icq 1635465 jid talios url rpm list mailing list rpm list freshrpms net url\n",
      "main symptom manifestation covid 19the main manifestation covid 19 patient fever dry cough fatigue patient diminished lost sense smell taste first symptom small number patient accompanied nasal congestion runny nose sore throat conjunctivitis myalgia diarrheadefeating covid 19 requires joint effort people india sun pharma best click participate parttime task fighting covid 19 get daily reward\n",
      "would like get free navigation forever map 75 country nokia phone learn install\n",
      "prospective 6 22 houston visit ehud june 22 work want firm vince ehud ronn 05 25 2000 06 45 49 pm vince j kaminski enron com cc subject prospective 6 22 houston visit vince many thanks e mail june 22 several trip may 25 june 22 thank invitation may time acquire option visit date finalization visit timing completed early next month thanks best regard ehud ehud ronn department finance college graduate school business university texas austin austin tx 78712 1179 voice 512 471 5853 fax 512 471 5073 internet eronn mail utexas edu\n",
      "url jm url changed removed added status new assigned additional comment jm url 1635465 1635 465 1635465 1635465 1635 465 1635465 use config gradually removed thankfully want see stuff acn avoided different perl version jsut vary much stuff 1635465 perl concept rule could unless perl libdir usr lib perl 1635465 siteperl 1635465 x x foo perl know existence usr share etc used use usr lib perl 1635465 storing rule actually much worse need band way tell sa find stuff problem 1635465 try perl url dev null allow bot build think might missing detail\n",
      "coffee mythcoffee drinker prone heart disease 1 true 2 false 12reply within 24hrs know fact coffee\n",
      "jay want work first hows 4 sound\n",
      "approval reviewer robert jr michael suggested reviewer submitted approval may review modify list reviewer logging pep http pep corp enron com going supervisor service please remember feedback completed robert jr michael approved list\n",
      "project brainstorming paulo april colorado march 10 schedule next week talk directly currently eb research helping kevin howard scott yeager indirectly via kevin effort ass value eyeball paulo research complement effort research paulo perform part bigger picture work kevin howard aked stinson support call cell 713 516 5440 co regard ravi april hodgson 03 02 00 07 13 pm stinson gibner hou ect ect enron cc ravi thuraisingham enron communication enron communication vince j kaminski hou ect ect enron subject project brainstorming paulo office frid\n",
      "could seen mei didt recognise face\n",
      "k dahow many page want\n",
      "cant still believe made much process keep believing self think reward risk taking im happy give trial share testimony referral\n",
      "time 2 filing unit pat recently talked ordering another filing unit turn need 2 filing unit please order size floor ceiling cabinet inside cabinet configured follows 1 cabinet 5 shelf 1 cabinet 6 shelf interstore today reconfiguing 2 existing cabinet removed 8 shelf going use new unit please price 2 new unit charge co 0413 rc 107043 please let price approximate delivery date also let know need anything else thanks anita\n",
      "iblong 2u spirituality rich well poor rich open heart poor give selfconfidence\n",
      "also thk fast xy suggest one u dun wan ok going 2 rain leh got gd\n",
      "lost job taught life come end knowing god better plan binary option trade good help family invested mr roberto robinson immediately lost job today far richer used earn still working former company know wasting year working hard job make quick money little investment fund contact mr roberto robinson today start earning massively via link 👇 👇 👇\n",
      "undelivered mail returned sender postfix program host correio quick com br sorry inform message returned could delivered one destination assistance please send mail please include problem report delete text message returned postfix program user unknown command output invalid user specified\n",
      "ok much though hm friday cant wait dunno wot hell im gonna another 3 week become slob oh wait already done\n",
      "𝑰𝒕𝒔 𝒕𝒉𝒆 𝒔𝒆𝒄𝒐𝒏𝒅 𝒕𝒊𝒎𝒆 𝒐𝒇 𝒓𝒆𝒄𝒆𝒊𝒗𝒊𝒏𝒈 𝒎𝒚 𝒑𝒓𝒐𝒇𝒊𝒕 𝒇𝒓𝒐𝒎 𝒕𝒉𝒊𝒔 𝒊𝒏𝒗𝒆𝒔𝒕𝒎𝒆𝒏𝒕 𝒑𝒍𝒂𝒕𝒇𝒐𝒓𝒎 𝒂𝒏𝒅 𝑰 𝒏𝒆𝒆𝒅 𝒕𝒐 𝒕𝒆𝒔𝒕𝒊𝒇𝒚 𝒕𝒐 𝒚𝒐𝒖 𝒕𝒉𝒂𝒕 𝑰 𝒋𝒖𝒔𝒕 𝒓𝒆𝒄𝒆𝒊𝒗𝒆𝒅 10000 𝑱𝒐𝒊𝒏 𝒕𝒐 𝒈𝒆𝒕 𝒔𝒕𝒂𝒓𝒕𝒆𝒅 👇 👇 👇 earn home 📱 📱 📱\n",
      "boy loved gal propsd bt didnt mind gv lv lttrs bt frnds threw thm boy decided 2 aproach gal dt time truck speeding towards gal wn 2 hit girld boy ran like hell n saved asked hw cn u run fast boy replied boost secret energy n instantly girl shouted energy n thy lived happily 2gthr drinking boost evrydy moral story hv free msgsd gud ni8\n"
     ]
    }
   ],
   "source": [
    "data_train_tokenized = [\n",
    "    preprocess_pipeline(sent, preprocess_utils) for sent in texts_train_all.to_numpy()\n",
    "]\n",
    "\n",
    "print_tokenized_data(data_train_tokenized, 20, 40)"
   ]
  },
  {
   "cell_type": "code",
   "execution_count": 181,
   "metadata": {},
   "outputs": [],
   "source": [
    "texts_train, texts_val, y_train, y_val = train_test_split(\n",
    "                                        data_train_tokenized,\n",
    "                                        target_all,\n",
    "                                        shuffle=True,\n",
    "                                        random_state=42, \n",
    "                                        stratify=target_all)\n",
    "\n",
    "texts_train_strings = [\" \".join(sentence) for sentence in texts_train]\n",
    "texts_val_strings = [\" \".join(sentence) for sentence in texts_val]"
   ]
  },
  {
   "cell_type": "code",
   "execution_count": 193,
   "metadata": {},
   "outputs": [
    {
     "data": {
      "text/html": [
       "<style>#sk-container-id-26 {color: black;}#sk-container-id-26 pre{padding: 0;}#sk-container-id-26 div.sk-toggleable {background-color: white;}#sk-container-id-26 label.sk-toggleable__label {cursor: pointer;display: block;width: 100%;margin-bottom: 0;padding: 0.3em;box-sizing: border-box;text-align: center;}#sk-container-id-26 label.sk-toggleable__label-arrow:before {content: \"▸\";float: left;margin-right: 0.25em;color: #696969;}#sk-container-id-26 label.sk-toggleable__label-arrow:hover:before {color: black;}#sk-container-id-26 div.sk-estimator:hover label.sk-toggleable__label-arrow:before {color: black;}#sk-container-id-26 div.sk-toggleable__content {max-height: 0;max-width: 0;overflow: hidden;text-align: left;background-color: #f0f8ff;}#sk-container-id-26 div.sk-toggleable__content pre {margin: 0.2em;color: black;border-radius: 0.25em;background-color: #f0f8ff;}#sk-container-id-26 input.sk-toggleable__control:checked~div.sk-toggleable__content {max-height: 200px;max-width: 100%;overflow: auto;}#sk-container-id-26 input.sk-toggleable__control:checked~label.sk-toggleable__label-arrow:before {content: \"▾\";}#sk-container-id-26 div.sk-estimator input.sk-toggleable__control:checked~label.sk-toggleable__label {background-color: #d4ebff;}#sk-container-id-26 div.sk-label input.sk-toggleable__control:checked~label.sk-toggleable__label {background-color: #d4ebff;}#sk-container-id-26 input.sk-hidden--visually {border: 0;clip: rect(1px 1px 1px 1px);clip: rect(1px, 1px, 1px, 1px);height: 1px;margin: -1px;overflow: hidden;padding: 0;position: absolute;width: 1px;}#sk-container-id-26 div.sk-estimator {font-family: monospace;background-color: #f0f8ff;border: 1px dotted black;border-radius: 0.25em;box-sizing: border-box;margin-bottom: 0.5em;}#sk-container-id-26 div.sk-estimator:hover {background-color: #d4ebff;}#sk-container-id-26 div.sk-parallel-item::after {content: \"\";width: 100%;border-bottom: 1px solid gray;flex-grow: 1;}#sk-container-id-26 div.sk-label:hover label.sk-toggleable__label {background-color: #d4ebff;}#sk-container-id-26 div.sk-serial::before {content: \"\";position: absolute;border-left: 1px solid gray;box-sizing: border-box;top: 0;bottom: 0;left: 50%;z-index: 0;}#sk-container-id-26 div.sk-serial {display: flex;flex-direction: column;align-items: center;background-color: white;padding-right: 0.2em;padding-left: 0.2em;position: relative;}#sk-container-id-26 div.sk-item {position: relative;z-index: 1;}#sk-container-id-26 div.sk-parallel {display: flex;align-items: stretch;justify-content: center;background-color: white;position: relative;}#sk-container-id-26 div.sk-item::before, #sk-container-id-26 div.sk-parallel-item::before {content: \"\";position: absolute;border-left: 1px solid gray;box-sizing: border-box;top: 0;bottom: 0;left: 50%;z-index: -1;}#sk-container-id-26 div.sk-parallel-item {display: flex;flex-direction: column;z-index: 1;position: relative;background-color: white;}#sk-container-id-26 div.sk-parallel-item:first-child::after {align-self: flex-end;width: 50%;}#sk-container-id-26 div.sk-parallel-item:last-child::after {align-self: flex-start;width: 50%;}#sk-container-id-26 div.sk-parallel-item:only-child::after {width: 0;}#sk-container-id-26 div.sk-dashed-wrapped {border: 1px dashed gray;margin: 0 0.4em 0.5em 0.4em;box-sizing: border-box;padding-bottom: 0.4em;background-color: white;}#sk-container-id-26 div.sk-label label {font-family: monospace;font-weight: bold;display: inline-block;line-height: 1.2em;}#sk-container-id-26 div.sk-label-container {text-align: center;}#sk-container-id-26 div.sk-container {/* jupyter's `normalize.less` sets `[hidden] { display: none; }` but bootstrap.min.css set `[hidden] { display: none !important; }` so we also need the `!important` here to be able to override the default hidden behavior on the sphinx rendered scikit-learn.org. See: https://github.com/scikit-learn/scikit-learn/issues/21755 */display: inline-block !important;position: relative;}#sk-container-id-26 div.sk-text-repr-fallback {display: none;}</style><div id=\"sk-container-id-26\" class=\"sk-top-container\"><div class=\"sk-text-repr-fallback\"><pre>TfidfVectorizer(lowercase=False, max_features=35000)</pre><b>In a Jupyter environment, please rerun this cell to show the HTML representation or trust the notebook. <br />On GitHub, the HTML representation is unable to render, please try loading this page with nbviewer.org.</b></div><div class=\"sk-container\" hidden><div class=\"sk-item\"><div class=\"sk-estimator sk-toggleable\"><input class=\"sk-toggleable__control sk-hidden--visually\" id=\"sk-estimator-id-26\" type=\"checkbox\" checked><label for=\"sk-estimator-id-26\" class=\"sk-toggleable__label sk-toggleable__label-arrow\">TfidfVectorizer</label><div class=\"sk-toggleable__content\"><pre>TfidfVectorizer(lowercase=False, max_features=35000)</pre></div></div></div></div></div>"
      ],
      "text/plain": [
       "TfidfVectorizer(lowercase=False, max_features=35000)"
      ]
     },
     "execution_count": 193,
     "metadata": {},
     "output_type": "execute_result"
    }
   ],
   "source": [
    "max_features = 35000\n",
    "\n",
    "vectorizer = TfidfVectorizer(lowercase=False, max_features=max_features)\n",
    "vectorizer.fit(texts_train_strings)"
   ]
  },
  {
   "cell_type": "code",
   "execution_count": 194,
   "metadata": {},
   "outputs": [
    {
     "name": "stdout",
     "output_type": "stream",
     "text": [
      "(12208, 35000) (4070, 35000)\n"
     ]
    }
   ],
   "source": [
    "X_train = vectorizer.transform(texts_train_strings)\n",
    "X_val = vectorizer.transform(texts_val_strings)\n",
    "print(X_train.shape, X_val.shape)"
   ]
  },
  {
   "cell_type": "code",
   "execution_count": 196,
   "metadata": {},
   "outputs": [
    {
     "data": {
      "text/html": [
       "<style>#sk-container-id-27 {color: black;}#sk-container-id-27 pre{padding: 0;}#sk-container-id-27 div.sk-toggleable {background-color: white;}#sk-container-id-27 label.sk-toggleable__label {cursor: pointer;display: block;width: 100%;margin-bottom: 0;padding: 0.3em;box-sizing: border-box;text-align: center;}#sk-container-id-27 label.sk-toggleable__label-arrow:before {content: \"▸\";float: left;margin-right: 0.25em;color: #696969;}#sk-container-id-27 label.sk-toggleable__label-arrow:hover:before {color: black;}#sk-container-id-27 div.sk-estimator:hover label.sk-toggleable__label-arrow:before {color: black;}#sk-container-id-27 div.sk-toggleable__content {max-height: 0;max-width: 0;overflow: hidden;text-align: left;background-color: #f0f8ff;}#sk-container-id-27 div.sk-toggleable__content pre {margin: 0.2em;color: black;border-radius: 0.25em;background-color: #f0f8ff;}#sk-container-id-27 input.sk-toggleable__control:checked~div.sk-toggleable__content {max-height: 200px;max-width: 100%;overflow: auto;}#sk-container-id-27 input.sk-toggleable__control:checked~label.sk-toggleable__label-arrow:before {content: \"▾\";}#sk-container-id-27 div.sk-estimator input.sk-toggleable__control:checked~label.sk-toggleable__label {background-color: #d4ebff;}#sk-container-id-27 div.sk-label input.sk-toggleable__control:checked~label.sk-toggleable__label {background-color: #d4ebff;}#sk-container-id-27 input.sk-hidden--visually {border: 0;clip: rect(1px 1px 1px 1px);clip: rect(1px, 1px, 1px, 1px);height: 1px;margin: -1px;overflow: hidden;padding: 0;position: absolute;width: 1px;}#sk-container-id-27 div.sk-estimator {font-family: monospace;background-color: #f0f8ff;border: 1px dotted black;border-radius: 0.25em;box-sizing: border-box;margin-bottom: 0.5em;}#sk-container-id-27 div.sk-estimator:hover {background-color: #d4ebff;}#sk-container-id-27 div.sk-parallel-item::after {content: \"\";width: 100%;border-bottom: 1px solid gray;flex-grow: 1;}#sk-container-id-27 div.sk-label:hover label.sk-toggleable__label {background-color: #d4ebff;}#sk-container-id-27 div.sk-serial::before {content: \"\";position: absolute;border-left: 1px solid gray;box-sizing: border-box;top: 0;bottom: 0;left: 50%;z-index: 0;}#sk-container-id-27 div.sk-serial {display: flex;flex-direction: column;align-items: center;background-color: white;padding-right: 0.2em;padding-left: 0.2em;position: relative;}#sk-container-id-27 div.sk-item {position: relative;z-index: 1;}#sk-container-id-27 div.sk-parallel {display: flex;align-items: stretch;justify-content: center;background-color: white;position: relative;}#sk-container-id-27 div.sk-item::before, #sk-container-id-27 div.sk-parallel-item::before {content: \"\";position: absolute;border-left: 1px solid gray;box-sizing: border-box;top: 0;bottom: 0;left: 50%;z-index: -1;}#sk-container-id-27 div.sk-parallel-item {display: flex;flex-direction: column;z-index: 1;position: relative;background-color: white;}#sk-container-id-27 div.sk-parallel-item:first-child::after {align-self: flex-end;width: 50%;}#sk-container-id-27 div.sk-parallel-item:last-child::after {align-self: flex-start;width: 50%;}#sk-container-id-27 div.sk-parallel-item:only-child::after {width: 0;}#sk-container-id-27 div.sk-dashed-wrapped {border: 1px dashed gray;margin: 0 0.4em 0.5em 0.4em;box-sizing: border-box;padding-bottom: 0.4em;background-color: white;}#sk-container-id-27 div.sk-label label {font-family: monospace;font-weight: bold;display: inline-block;line-height: 1.2em;}#sk-container-id-27 div.sk-label-container {text-align: center;}#sk-container-id-27 div.sk-container {/* jupyter's `normalize.less` sets `[hidden] { display: none; }` but bootstrap.min.css set `[hidden] { display: none !important; }` so we also need the `!important` here to be able to override the default hidden behavior on the sphinx rendered scikit-learn.org. See: https://github.com/scikit-learn/scikit-learn/issues/21755 */display: inline-block !important;position: relative;}#sk-container-id-27 div.sk-text-repr-fallback {display: none;}</style><div id=\"sk-container-id-27\" class=\"sk-top-container\"><div class=\"sk-text-repr-fallback\"><pre>GaussianNB()</pre><b>In a Jupyter environment, please rerun this cell to show the HTML representation or trust the notebook. <br />On GitHub, the HTML representation is unable to render, please try loading this page with nbviewer.org.</b></div><div class=\"sk-container\" hidden><div class=\"sk-item\"><div class=\"sk-estimator sk-toggleable\"><input class=\"sk-toggleable__control sk-hidden--visually\" id=\"sk-estimator-id-27\" type=\"checkbox\" checked><label for=\"sk-estimator-id-27\" class=\"sk-toggleable__label sk-toggleable__label-arrow\">GaussianNB</label><div class=\"sk-toggleable__content\"><pre>GaussianNB()</pre></div></div></div></div></div>"
      ],
      "text/plain": [
       "GaussianNB()"
      ]
     },
     "execution_count": 196,
     "metadata": {},
     "output_type": "execute_result"
    }
   ],
   "source": [
    "clf = GaussianNB()\n",
    "\n",
    "clf.fit(X_train.toarray(), y_train)"
   ]
  },
  {
   "cell_type": "code",
   "execution_count": 197,
   "metadata": {},
   "outputs": [
    {
     "name": "stdout",
     "output_type": "stream",
     "text": [
      "Accuracy 0.8106, Precision 0.6375, Recall 0.8311, f1 0.7216, ROC AUC 0.81657\n"
     ]
    }
   ],
   "source": [
    "(accuracy_val,\n",
    "precision_val,\n",
    "recall_val,\n",
    "f1_val,\n",
    "roc_auc_val) = calc_metrics(clf, X_val, y_val)\n",
    "\n",
    "print(f'Accuracy {accuracy_val:.4f}, Precision {precision_val:.4f}, ', end='')\n",
    "print(f'Recall {recall_val:.4f}, f1 {f1_val:.4f}, ROC AUC {roc_auc_val:.5f}')"
   ]
  },
  {
   "cell_type": "markdown",
   "metadata": {},
   "source": [
    "## Pipeline 2\n",
    "\n",
    "Переводим эмоджи в текст.\n",
    "\n",
    "Ничего не делаем с currency, ничего не делаем с numbers, ничего не делаем с nonascii.\n",
    "\n",
    "Гипотеза: все должно отаться как с случае 1."
   ]
  },
  {
   "cell_type": "code",
   "execution_count": 218,
   "metadata": {},
   "outputs": [],
   "source": [
    "preprocess_utils = [\n",
    "                    remove_hyperlink,\n",
    "                    replace_newline,\n",
    "                    to_lower,\n",
    "                    remove_underscore,\n",
    "                    emoji_to_text,\n",
    "                    remove_punctuation,\n",
    "                    remove_whitespace,\n",
    "                    tokenizer.tokenize,\n",
    "                    remove_stop_words,       ###\n",
    "                    word_lemmatizer,         ###\n",
    "                ]"
   ]
  },
  {
   "cell_type": "code",
   "execution_count": 219,
   "metadata": {},
   "outputs": [
    {
     "name": "stdout",
     "output_type": "stream",
     "text": [
      "hi building rpm resin webserver basically want install entire tarball diretory tarball includes subdirectory spec install 1635465 name version release rpmbuildroot usr local resin getting install resin 1635465 1635 465 1635465 bin directory install resin 1635465 1635 465 1635465 conf directory proper nice way handle seem super human misunderstood c dream theater mark url icq 1635465 jid talios url rpm list mailing list rpm list freshrpms net url\n",
      "main symptom manifestation covid 19 main manifestation covid 19 patient fever dry cough fatigue patient diminished lost sense smell taste first symptom small number patient accompanied nasal congestion runny nose sore throat conjunctivitis myalgia diarrheadefeating covid 19 requires joint effort people india sun pharma best click participate parttime task fighting covid 19 get daily reward\n",
      "would like get free navigation forever map 75 country nokia phone learn install\n",
      "prospective 6 22 houston visit ehud june 22 work want firm vince ehud ronn 05 25 2000 06 45 49 pm vince j kaminski enron com cc subject prospective 6 22 houston visit vince many thanks e mail june 22 several trip may 25 june 22 thank invitation may time acquire option visit date finalization visit timing completed early next month thanks best regard ehud ehud ronn department finance college graduate school business university texas austin austin tx 78712 1179 voice 512 471 5853 fax 512 471 5073 internet eronn mail utexas edu\n",
      "url jm url changed removed added status new assigned additional comment jm url 1635465 1635 465 1635465 1635465 1635 465 1635465 use config gradually removed thankfully want see stuff acn avoided different perl version jsut vary much stuff 1635465 perl concept rule could unless perl libdir usr lib perl 1635465 siteperl 1635465 x x foo perl know existence usr share etc used use usr lib perl 1635465 storing rule actually much worse need band way tell sa find stuff problem 1635465 try perl url dev null allow bot build think might missing detail\n",
      "coffee mythcoffee drinker prone heart disease 1 true 2 false 1 2reply within 24hrs know fact coffee\n",
      "jay want work first hows 4 sound\n",
      "approval reviewer robert jr michael suggested reviewer submitted approval may review modify list reviewer logging pep http pep corp enron com going supervisor service please remember feedback completed robert jr michael approved list\n",
      "project brainstorming paulo april colorado march 10 schedule next week talk directly currently eb research helping kevin howard scott yeager indirectly via kevin effort ass value eyeball paulo research complement effort research paulo perform part bigger picture work kevin howard aked stinson support call cell 713 516 5440 co regard ravi april hodgson 03 02 00 07 13 pm stinson gibner hou ect ect enron cc ravi thuraisingham enron communication enron communication vince j kaminski hou ect ect enron subject project brainstorming paulo office frid\n",
      "could seen mei didt recognise face\n",
      "k dahow many page want\n",
      "cant still believe made much process keep believing self think reward risk taking im happy give trial share testimony referral\n",
      "time 2 filing unit pat recently talked ordering another filing unit turn need 2 filing unit please order size floor ceiling cabinet inside cabinet configured follows 1 cabinet 5 shelf 1 cabinet 6 shelf interstore today reconfiguing 2 existing cabinet removed 8 shelf going use new unit please price 2 new unit charge co 0413 rc 107043 please let price approximate delivery date also let know need anything else thanks anita\n",
      "iblong 2u spirituality rich well poor rich open heart poor give selfconfidence\n",
      "also thk fast xy suggest one u dun wan ok going 2 rain leh got gd\n",
      "lost job taught life come end knowing god better plan binary option trade good help family invested mr roberto robinson immediately lost job today far richer used earn still working former company know wasting year working hard job make quick money little investment fund contact mr roberto robinson today start earning massively via link backhand_index_pointing_down backhand_index_pointing_down backhand_index_pointing_down backhand_index_pointing_down backhand_index_pointing_down backhand_index_pointing_down backhand_index_pointing_down backhand_index_pointing_down backhand_index_pointing_down\n",
      "undelivered mail returned sender postfix program host correio quick com br sorry inform message returned could delivered one destination assistance please send mail please include problem report delete text message returned postfix program user unknown command output invalid user specified\n",
      "ok much though hm friday cant wait dunno wot hell im gonna another 3 week become slob oh wait already done\n",
      "𝑰𝒕𝒔 𝒕𝒉𝒆 𝒔𝒆𝒄𝒐𝒏𝒅 𝒕𝒊𝒎𝒆 𝒐𝒇 𝒓𝒆𝒄𝒆𝒊𝒗𝒊𝒏𝒈 𝒎𝒚 𝒑𝒓𝒐𝒇𝒊𝒕 𝒇𝒓𝒐𝒎 𝒕𝒉𝒊𝒔 𝒊𝒏𝒗𝒆𝒔𝒕𝒎𝒆𝒏𝒕 𝒑𝒍𝒂𝒕𝒇𝒐𝒓𝒎 𝒂𝒏𝒅 𝑰 𝒏𝒆𝒆𝒅 𝒕𝒐 𝒕𝒆𝒔𝒕𝒊𝒇𝒚 𝒕𝒐 𝒚𝒐𝒖 𝒕𝒉𝒂𝒕 𝑰 𝒋𝒖𝒔𝒕 𝒓𝒆𝒄𝒆𝒊𝒗𝒆𝒅 10000 𝑱𝒐𝒊𝒏 𝒕𝒐 𝒈𝒆𝒕 𝒔𝒕𝒂𝒓𝒕𝒆𝒅 backhand_index_pointing_down backhand_index_pointing_down backhand_index_pointing_down earn home mobile_phone mobile_phone mobile_phone mobile_phone\n",
      "boy loved gal propsd bt didnt mind gv lv lttrs bt frnds threw thm boy decided 2 aproach gal dt time truck speeding towards gal wn 2 hit girld boy ran like hell n saved asked hw cn u run fast boy replied boost secret energy n instantly girl shouted energy n thy lived happily 2gthr drinking boost evrydy moral story hv free msgsd gud ni8\n"
     ]
    }
   ],
   "source": [
    "data_train_tokenized = [\n",
    "    preprocess_pipeline(sent, preprocess_utils) for sent in texts_train_all.to_numpy()\n",
    "]\n",
    "\n",
    "print_tokenized_data(data_train_tokenized, 20, 40)"
   ]
  },
  {
   "cell_type": "code",
   "execution_count": 220,
   "metadata": {},
   "outputs": [],
   "source": [
    "texts_train, texts_val, y_train, y_val = train_test_split(\n",
    "                                        data_train_tokenized,\n",
    "                                        target_all,\n",
    "                                        shuffle=True,\n",
    "                                        random_state=42, \n",
    "                                        stratify=target_all)\n",
    "\n",
    "texts_train_strings = [\" \".join(sentence) for sentence in texts_train]\n",
    "texts_val_strings = [\" \".join(sentence) for sentence in texts_val]"
   ]
  },
  {
   "cell_type": "code",
   "execution_count": 221,
   "metadata": {},
   "outputs": [
    {
     "data": {
      "text/html": [
       "<style>#sk-container-id-31 {color: black;}#sk-container-id-31 pre{padding: 0;}#sk-container-id-31 div.sk-toggleable {background-color: white;}#sk-container-id-31 label.sk-toggleable__label {cursor: pointer;display: block;width: 100%;margin-bottom: 0;padding: 0.3em;box-sizing: border-box;text-align: center;}#sk-container-id-31 label.sk-toggleable__label-arrow:before {content: \"▸\";float: left;margin-right: 0.25em;color: #696969;}#sk-container-id-31 label.sk-toggleable__label-arrow:hover:before {color: black;}#sk-container-id-31 div.sk-estimator:hover label.sk-toggleable__label-arrow:before {color: black;}#sk-container-id-31 div.sk-toggleable__content {max-height: 0;max-width: 0;overflow: hidden;text-align: left;background-color: #f0f8ff;}#sk-container-id-31 div.sk-toggleable__content pre {margin: 0.2em;color: black;border-radius: 0.25em;background-color: #f0f8ff;}#sk-container-id-31 input.sk-toggleable__control:checked~div.sk-toggleable__content {max-height: 200px;max-width: 100%;overflow: auto;}#sk-container-id-31 input.sk-toggleable__control:checked~label.sk-toggleable__label-arrow:before {content: \"▾\";}#sk-container-id-31 div.sk-estimator input.sk-toggleable__control:checked~label.sk-toggleable__label {background-color: #d4ebff;}#sk-container-id-31 div.sk-label input.sk-toggleable__control:checked~label.sk-toggleable__label {background-color: #d4ebff;}#sk-container-id-31 input.sk-hidden--visually {border: 0;clip: rect(1px 1px 1px 1px);clip: rect(1px, 1px, 1px, 1px);height: 1px;margin: -1px;overflow: hidden;padding: 0;position: absolute;width: 1px;}#sk-container-id-31 div.sk-estimator {font-family: monospace;background-color: #f0f8ff;border: 1px dotted black;border-radius: 0.25em;box-sizing: border-box;margin-bottom: 0.5em;}#sk-container-id-31 div.sk-estimator:hover {background-color: #d4ebff;}#sk-container-id-31 div.sk-parallel-item::after {content: \"\";width: 100%;border-bottom: 1px solid gray;flex-grow: 1;}#sk-container-id-31 div.sk-label:hover label.sk-toggleable__label {background-color: #d4ebff;}#sk-container-id-31 div.sk-serial::before {content: \"\";position: absolute;border-left: 1px solid gray;box-sizing: border-box;top: 0;bottom: 0;left: 50%;z-index: 0;}#sk-container-id-31 div.sk-serial {display: flex;flex-direction: column;align-items: center;background-color: white;padding-right: 0.2em;padding-left: 0.2em;position: relative;}#sk-container-id-31 div.sk-item {position: relative;z-index: 1;}#sk-container-id-31 div.sk-parallel {display: flex;align-items: stretch;justify-content: center;background-color: white;position: relative;}#sk-container-id-31 div.sk-item::before, #sk-container-id-31 div.sk-parallel-item::before {content: \"\";position: absolute;border-left: 1px solid gray;box-sizing: border-box;top: 0;bottom: 0;left: 50%;z-index: -1;}#sk-container-id-31 div.sk-parallel-item {display: flex;flex-direction: column;z-index: 1;position: relative;background-color: white;}#sk-container-id-31 div.sk-parallel-item:first-child::after {align-self: flex-end;width: 50%;}#sk-container-id-31 div.sk-parallel-item:last-child::after {align-self: flex-start;width: 50%;}#sk-container-id-31 div.sk-parallel-item:only-child::after {width: 0;}#sk-container-id-31 div.sk-dashed-wrapped {border: 1px dashed gray;margin: 0 0.4em 0.5em 0.4em;box-sizing: border-box;padding-bottom: 0.4em;background-color: white;}#sk-container-id-31 div.sk-label label {font-family: monospace;font-weight: bold;display: inline-block;line-height: 1.2em;}#sk-container-id-31 div.sk-label-container {text-align: center;}#sk-container-id-31 div.sk-container {/* jupyter's `normalize.less` sets `[hidden] { display: none; }` but bootstrap.min.css set `[hidden] { display: none !important; }` so we also need the `!important` here to be able to override the default hidden behavior on the sphinx rendered scikit-learn.org. See: https://github.com/scikit-learn/scikit-learn/issues/21755 */display: inline-block !important;position: relative;}#sk-container-id-31 div.sk-text-repr-fallback {display: none;}</style><div id=\"sk-container-id-31\" class=\"sk-top-container\"><div class=\"sk-text-repr-fallback\"><pre>TfidfVectorizer(lowercase=False, max_features=35000)</pre><b>In a Jupyter environment, please rerun this cell to show the HTML representation or trust the notebook. <br />On GitHub, the HTML representation is unable to render, please try loading this page with nbviewer.org.</b></div><div class=\"sk-container\" hidden><div class=\"sk-item\"><div class=\"sk-estimator sk-toggleable\"><input class=\"sk-toggleable__control sk-hidden--visually\" id=\"sk-estimator-id-31\" type=\"checkbox\" checked><label for=\"sk-estimator-id-31\" class=\"sk-toggleable__label sk-toggleable__label-arrow\">TfidfVectorizer</label><div class=\"sk-toggleable__content\"><pre>TfidfVectorizer(lowercase=False, max_features=35000)</pre></div></div></div></div></div>"
      ],
      "text/plain": [
       "TfidfVectorizer(lowercase=False, max_features=35000)"
      ]
     },
     "execution_count": 221,
     "metadata": {},
     "output_type": "execute_result"
    }
   ],
   "source": [
    "max_features = 35000\n",
    "\n",
    "vectorizer = TfidfVectorizer(lowercase=False, max_features=max_features)\n",
    "vectorizer.fit(texts_train_strings)"
   ]
  },
  {
   "cell_type": "code",
   "execution_count": 222,
   "metadata": {},
   "outputs": [
    {
     "name": "stdout",
     "output_type": "stream",
     "text": [
      "(12208, 35000) (4070, 35000)\n"
     ]
    }
   ],
   "source": [
    "X_train = vectorizer.transform(texts_train_strings)\n",
    "X_val = vectorizer.transform(texts_val_strings)\n",
    "print(X_train.shape, X_val.shape)"
   ]
  },
  {
   "cell_type": "code",
   "execution_count": 223,
   "metadata": {},
   "outputs": [
    {
     "data": {
      "text/html": [
       "<style>#sk-container-id-32 {color: black;}#sk-container-id-32 pre{padding: 0;}#sk-container-id-32 div.sk-toggleable {background-color: white;}#sk-container-id-32 label.sk-toggleable__label {cursor: pointer;display: block;width: 100%;margin-bottom: 0;padding: 0.3em;box-sizing: border-box;text-align: center;}#sk-container-id-32 label.sk-toggleable__label-arrow:before {content: \"▸\";float: left;margin-right: 0.25em;color: #696969;}#sk-container-id-32 label.sk-toggleable__label-arrow:hover:before {color: black;}#sk-container-id-32 div.sk-estimator:hover label.sk-toggleable__label-arrow:before {color: black;}#sk-container-id-32 div.sk-toggleable__content {max-height: 0;max-width: 0;overflow: hidden;text-align: left;background-color: #f0f8ff;}#sk-container-id-32 div.sk-toggleable__content pre {margin: 0.2em;color: black;border-radius: 0.25em;background-color: #f0f8ff;}#sk-container-id-32 input.sk-toggleable__control:checked~div.sk-toggleable__content {max-height: 200px;max-width: 100%;overflow: auto;}#sk-container-id-32 input.sk-toggleable__control:checked~label.sk-toggleable__label-arrow:before {content: \"▾\";}#sk-container-id-32 div.sk-estimator input.sk-toggleable__control:checked~label.sk-toggleable__label {background-color: #d4ebff;}#sk-container-id-32 div.sk-label input.sk-toggleable__control:checked~label.sk-toggleable__label {background-color: #d4ebff;}#sk-container-id-32 input.sk-hidden--visually {border: 0;clip: rect(1px 1px 1px 1px);clip: rect(1px, 1px, 1px, 1px);height: 1px;margin: -1px;overflow: hidden;padding: 0;position: absolute;width: 1px;}#sk-container-id-32 div.sk-estimator {font-family: monospace;background-color: #f0f8ff;border: 1px dotted black;border-radius: 0.25em;box-sizing: border-box;margin-bottom: 0.5em;}#sk-container-id-32 div.sk-estimator:hover {background-color: #d4ebff;}#sk-container-id-32 div.sk-parallel-item::after {content: \"\";width: 100%;border-bottom: 1px solid gray;flex-grow: 1;}#sk-container-id-32 div.sk-label:hover label.sk-toggleable__label {background-color: #d4ebff;}#sk-container-id-32 div.sk-serial::before {content: \"\";position: absolute;border-left: 1px solid gray;box-sizing: border-box;top: 0;bottom: 0;left: 50%;z-index: 0;}#sk-container-id-32 div.sk-serial {display: flex;flex-direction: column;align-items: center;background-color: white;padding-right: 0.2em;padding-left: 0.2em;position: relative;}#sk-container-id-32 div.sk-item {position: relative;z-index: 1;}#sk-container-id-32 div.sk-parallel {display: flex;align-items: stretch;justify-content: center;background-color: white;position: relative;}#sk-container-id-32 div.sk-item::before, #sk-container-id-32 div.sk-parallel-item::before {content: \"\";position: absolute;border-left: 1px solid gray;box-sizing: border-box;top: 0;bottom: 0;left: 50%;z-index: -1;}#sk-container-id-32 div.sk-parallel-item {display: flex;flex-direction: column;z-index: 1;position: relative;background-color: white;}#sk-container-id-32 div.sk-parallel-item:first-child::after {align-self: flex-end;width: 50%;}#sk-container-id-32 div.sk-parallel-item:last-child::after {align-self: flex-start;width: 50%;}#sk-container-id-32 div.sk-parallel-item:only-child::after {width: 0;}#sk-container-id-32 div.sk-dashed-wrapped {border: 1px dashed gray;margin: 0 0.4em 0.5em 0.4em;box-sizing: border-box;padding-bottom: 0.4em;background-color: white;}#sk-container-id-32 div.sk-label label {font-family: monospace;font-weight: bold;display: inline-block;line-height: 1.2em;}#sk-container-id-32 div.sk-label-container {text-align: center;}#sk-container-id-32 div.sk-container {/* jupyter's `normalize.less` sets `[hidden] { display: none; }` but bootstrap.min.css set `[hidden] { display: none !important; }` so we also need the `!important` here to be able to override the default hidden behavior on the sphinx rendered scikit-learn.org. See: https://github.com/scikit-learn/scikit-learn/issues/21755 */display: inline-block !important;position: relative;}#sk-container-id-32 div.sk-text-repr-fallback {display: none;}</style><div id=\"sk-container-id-32\" class=\"sk-top-container\"><div class=\"sk-text-repr-fallback\"><pre>GaussianNB()</pre><b>In a Jupyter environment, please rerun this cell to show the HTML representation or trust the notebook. <br />On GitHub, the HTML representation is unable to render, please try loading this page with nbviewer.org.</b></div><div class=\"sk-container\" hidden><div class=\"sk-item\"><div class=\"sk-estimator sk-toggleable\"><input class=\"sk-toggleable__control sk-hidden--visually\" id=\"sk-estimator-id-32\" type=\"checkbox\" checked><label for=\"sk-estimator-id-32\" class=\"sk-toggleable__label sk-toggleable__label-arrow\">GaussianNB</label><div class=\"sk-toggleable__content\"><pre>GaussianNB()</pre></div></div></div></div></div>"
      ],
      "text/plain": [
       "GaussianNB()"
      ]
     },
     "execution_count": 223,
     "metadata": {},
     "output_type": "execute_result"
    }
   ],
   "source": [
    "clf = GaussianNB()\n",
    "\n",
    "clf.fit(X_train.toarray(), y_train)"
   ]
  },
  {
   "cell_type": "code",
   "execution_count": 224,
   "metadata": {},
   "outputs": [
    {
     "name": "stdout",
     "output_type": "stream",
     "text": [
      "Accuracy 0.8179, Precision 0.6458, Recall 0.8494, f1 0.7337, ROC AUC 0.82690\n"
     ]
    }
   ],
   "source": [
    "(accuracy_val,\n",
    "precision_val,\n",
    "recall_val,\n",
    "f1_val,\n",
    "roc_auc_val) = calc_metrics(clf, X_val, y_val)\n",
    "\n",
    "print(f'Accuracy {accuracy_val:.4f}, Precision {precision_val:.4f}, ', end='')\n",
    "print(f'Recall {recall_val:.4f}, f1 {f1_val:.4f}, ROC AUC {roc_auc_val:.5f}')"
   ]
  },
  {
   "cell_type": "markdown",
   "metadata": {},
   "source": [
    "ROC AUC чуть улучшился по сравнению с 1, как и все остальные метрики. Гипотеза опровергнута. Это странно."
   ]
  },
  {
   "cell_type": "markdown",
   "metadata": {},
   "source": [
    "## Pipeline 3\n",
    "\n",
    "Переводим эмоджи в текст. Переводим нестандартные шрифты в ascii.\n",
    "\n",
    "Ничего не делаем с currency, ничего не делаем с numbers.\n",
    "\n",
    "Гипотеза: должно стать хуже, чем в 2."
   ]
  },
  {
   "cell_type": "code",
   "execution_count": 225,
   "metadata": {},
   "outputs": [],
   "source": [
    "preprocess_utils = [\n",
    "                    remove_hyperlink,\n",
    "                    replace_newline,\n",
    "                    to_lower,\n",
    "                    remove_underscore,\n",
    "                    emoji_to_text,\n",
    "                    unidecode,\n",
    "                    remove_punctuation,\n",
    "                    remove_whitespace,\n",
    "                    tokenizer.tokenize,\n",
    "                    remove_stop_words,       ###\n",
    "                    word_lemmatizer,         ###\n",
    "                ]"
   ]
  },
  {
   "cell_type": "code",
   "execution_count": 226,
   "metadata": {},
   "outputs": [
    {
     "name": "stdout",
     "output_type": "stream",
     "text": [
      "hi building rpm resin webserver basically want install entire tarball diretory tarball includes subdirectory spec install 1635465 name version release rpmbuildroot usr local resin getting install resin 1635465 1635 465 1635465 bin directory install resin 1635465 1635 465 1635465 conf directory proper nice way handle seem super human misunderstood c dream theater mark url icq 1635465 jid talios url rpm list mailing list rpm list freshrpms net url\n",
      "main symptom manifestation covid 19 main manifestation covid 19 patient fever dry cough fatigue patient diminished lost sense smell taste first symptom small number patient accompanied nasal congestion runny nose sore throat conjunctivitis myalgia diarrheadefeating covid 19 requires joint effort people india sun pharma best click participate parttime task fighting covid 19 get daily reward\n",
      "would like get free navigation forever map 75 country nokia phone learn install\n",
      "prospective 6 22 houston visit ehud june 22 work want firm vince ehud ronn 05 25 2000 06 45 49 pm vince j kaminski enron com cc subject prospective 6 22 houston visit vince many thanks e mail june 22 several trip may 25 june 22 thank invitation may time acquire option visit date finalization visit timing completed early next month thanks best regard ehud ehud ronn department finance college graduate school business university texas austin austin tx 78712 1179 voice 512 471 5853 fax 512 471 5073 internet eronn mail utexas edu\n",
      "url jm url changed removed added status new assigned additional comment jm url 1635465 1635 465 1635465 1635465 1635 465 1635465 use config gradually removed thankfully want see stuff acn avoided different perl version jsut vary much stuff 1635465 perl concept rule could unless perl libdir usr lib perl 1635465 siteperl 1635465 x x foo perl know existence usr share etc used use usr lib perl 1635465 storing rule actually much worse need band way tell sa find stuff problem 1635465 try perl url dev null allow bot build think might missing detail\n",
      "coffee mythcoffee drinker prone heart disease 1 true 2 false 1 2reply within 24hrs know fact coffee\n",
      "jay want work first hows 4 sound\n",
      "approval reviewer robert jr michael suggested reviewer submitted approval may review modify list reviewer logging pep http pep corp enron com going supervisor service please remember feedback completed robert jr michael approved list\n",
      "project brainstorming paulo april colorado march 10 schedule next week talk directly currently eb research helping kevin howard scott yeager indirectly via kevin effort ass value eyeball paulo research complement effort research paulo perform part bigger picture work kevin howard aked stinson support call cell 713 516 5440 co regard ravi april hodgson 03 02 00 07 13 pm stinson gibner hou ect ect enron cc ravi thuraisingham enron communication enron communication vince j kaminski hou ect ect enron subject project brainstorming paulo office frid\n",
      "could seen mei didt recognise face\n",
      "k dahow many page want\n",
      "cant still believe made much process keep believing self think reward risk taking im happy give trial share testimony referral\n",
      "time 2 filing unit pat recently talked ordering another filing unit turn need 2 filing unit please order size floor ceiling cabinet inside cabinet configured follows 1 cabinet 5 shelf 1 cabinet 6 shelf interstore today reconfiguing 2 existing cabinet removed 8 shelf going use new unit please price 2 new unit charge co 0413 rc 107043 please let price approximate delivery date also let know need anything else thanks anita\n",
      "iblong 2u spirituality rich well poor rich open heart poor give selfconfidence\n",
      "also thk fast xy suggest one u dun wan ok going 2 rain leh got gd\n",
      "lost job taught life come end knowing god better plan binary option trade good help family invested mr roberto robinson immediately lost job today far richer used earn still working former company know wasting year working hard job make quick money little investment fund contact mr roberto robinson today start earning massively via link backhand_index_pointing_down backhand_index_pointing_down backhand_index_pointing_down backhand_index_pointing_down backhand_index_pointing_down backhand_index_pointing_down backhand_index_pointing_down backhand_index_pointing_down backhand_index_pointing_down\n",
      "undelivered mail returned sender postfix program host correio quick com br sorry inform message returned could delivered one destination assistance please send mail please include problem report delete text message returned postfix program user unknown command output invalid user specified\n",
      "ok much though hm friday cant wait dunno wot hell im gonna another 3 week become slob oh wait already done\n",
      "Its second time receiving profit investment platform I need testify I received 10000 Join get started backhand_index_pointing_down backhand_index_pointing_down backhand_index_pointing_down earn home mobile_phone mobile_phone mobile_phone mobile_phone\n",
      "boy loved gal propsd bt didnt mind gv lv lttrs bt frnds threw thm boy decided 2 aproach gal dt time truck speeding towards gal wn 2 hit girld boy ran like hell n saved asked hw cn u run fast boy replied boost secret energy n instantly girl shouted energy n thy lived happily 2gthr drinking boost evrydy moral story hv free msgsd gud ni8\n"
     ]
    }
   ],
   "source": [
    "data_train_tokenized = [\n",
    "    preprocess_pipeline(sent, preprocess_utils) for sent in texts_train_all.to_numpy()\n",
    "]\n",
    "\n",
    "print_tokenized_data(data_train_tokenized, 20, 40)"
   ]
  },
  {
   "cell_type": "code",
   "execution_count": 227,
   "metadata": {},
   "outputs": [],
   "source": [
    "texts_train, texts_val, y_train, y_val = train_test_split(\n",
    "                                        data_train_tokenized,\n",
    "                                        target_all,\n",
    "                                        shuffle=True,\n",
    "                                        random_state=42, \n",
    "                                        stratify=target_all)\n",
    "\n",
    "texts_train_strings = [\" \".join(sentence) for sentence in texts_train]\n",
    "texts_val_strings = [\" \".join(sentence) for sentence in texts_val]"
   ]
  },
  {
   "cell_type": "code",
   "execution_count": 228,
   "metadata": {},
   "outputs": [
    {
     "data": {
      "text/html": [
       "<style>#sk-container-id-33 {color: black;}#sk-container-id-33 pre{padding: 0;}#sk-container-id-33 div.sk-toggleable {background-color: white;}#sk-container-id-33 label.sk-toggleable__label {cursor: pointer;display: block;width: 100%;margin-bottom: 0;padding: 0.3em;box-sizing: border-box;text-align: center;}#sk-container-id-33 label.sk-toggleable__label-arrow:before {content: \"▸\";float: left;margin-right: 0.25em;color: #696969;}#sk-container-id-33 label.sk-toggleable__label-arrow:hover:before {color: black;}#sk-container-id-33 div.sk-estimator:hover label.sk-toggleable__label-arrow:before {color: black;}#sk-container-id-33 div.sk-toggleable__content {max-height: 0;max-width: 0;overflow: hidden;text-align: left;background-color: #f0f8ff;}#sk-container-id-33 div.sk-toggleable__content pre {margin: 0.2em;color: black;border-radius: 0.25em;background-color: #f0f8ff;}#sk-container-id-33 input.sk-toggleable__control:checked~div.sk-toggleable__content {max-height: 200px;max-width: 100%;overflow: auto;}#sk-container-id-33 input.sk-toggleable__control:checked~label.sk-toggleable__label-arrow:before {content: \"▾\";}#sk-container-id-33 div.sk-estimator input.sk-toggleable__control:checked~label.sk-toggleable__label {background-color: #d4ebff;}#sk-container-id-33 div.sk-label input.sk-toggleable__control:checked~label.sk-toggleable__label {background-color: #d4ebff;}#sk-container-id-33 input.sk-hidden--visually {border: 0;clip: rect(1px 1px 1px 1px);clip: rect(1px, 1px, 1px, 1px);height: 1px;margin: -1px;overflow: hidden;padding: 0;position: absolute;width: 1px;}#sk-container-id-33 div.sk-estimator {font-family: monospace;background-color: #f0f8ff;border: 1px dotted black;border-radius: 0.25em;box-sizing: border-box;margin-bottom: 0.5em;}#sk-container-id-33 div.sk-estimator:hover {background-color: #d4ebff;}#sk-container-id-33 div.sk-parallel-item::after {content: \"\";width: 100%;border-bottom: 1px solid gray;flex-grow: 1;}#sk-container-id-33 div.sk-label:hover label.sk-toggleable__label {background-color: #d4ebff;}#sk-container-id-33 div.sk-serial::before {content: \"\";position: absolute;border-left: 1px solid gray;box-sizing: border-box;top: 0;bottom: 0;left: 50%;z-index: 0;}#sk-container-id-33 div.sk-serial {display: flex;flex-direction: column;align-items: center;background-color: white;padding-right: 0.2em;padding-left: 0.2em;position: relative;}#sk-container-id-33 div.sk-item {position: relative;z-index: 1;}#sk-container-id-33 div.sk-parallel {display: flex;align-items: stretch;justify-content: center;background-color: white;position: relative;}#sk-container-id-33 div.sk-item::before, #sk-container-id-33 div.sk-parallel-item::before {content: \"\";position: absolute;border-left: 1px solid gray;box-sizing: border-box;top: 0;bottom: 0;left: 50%;z-index: -1;}#sk-container-id-33 div.sk-parallel-item {display: flex;flex-direction: column;z-index: 1;position: relative;background-color: white;}#sk-container-id-33 div.sk-parallel-item:first-child::after {align-self: flex-end;width: 50%;}#sk-container-id-33 div.sk-parallel-item:last-child::after {align-self: flex-start;width: 50%;}#sk-container-id-33 div.sk-parallel-item:only-child::after {width: 0;}#sk-container-id-33 div.sk-dashed-wrapped {border: 1px dashed gray;margin: 0 0.4em 0.5em 0.4em;box-sizing: border-box;padding-bottom: 0.4em;background-color: white;}#sk-container-id-33 div.sk-label label {font-family: monospace;font-weight: bold;display: inline-block;line-height: 1.2em;}#sk-container-id-33 div.sk-label-container {text-align: center;}#sk-container-id-33 div.sk-container {/* jupyter's `normalize.less` sets `[hidden] { display: none; }` but bootstrap.min.css set `[hidden] { display: none !important; }` so we also need the `!important` here to be able to override the default hidden behavior on the sphinx rendered scikit-learn.org. See: https://github.com/scikit-learn/scikit-learn/issues/21755 */display: inline-block !important;position: relative;}#sk-container-id-33 div.sk-text-repr-fallback {display: none;}</style><div id=\"sk-container-id-33\" class=\"sk-top-container\"><div class=\"sk-text-repr-fallback\"><pre>TfidfVectorizer(lowercase=False, max_features=35000)</pre><b>In a Jupyter environment, please rerun this cell to show the HTML representation or trust the notebook. <br />On GitHub, the HTML representation is unable to render, please try loading this page with nbviewer.org.</b></div><div class=\"sk-container\" hidden><div class=\"sk-item\"><div class=\"sk-estimator sk-toggleable\"><input class=\"sk-toggleable__control sk-hidden--visually\" id=\"sk-estimator-id-33\" type=\"checkbox\" checked><label for=\"sk-estimator-id-33\" class=\"sk-toggleable__label sk-toggleable__label-arrow\">TfidfVectorizer</label><div class=\"sk-toggleable__content\"><pre>TfidfVectorizer(lowercase=False, max_features=35000)</pre></div></div></div></div></div>"
      ],
      "text/plain": [
       "TfidfVectorizer(lowercase=False, max_features=35000)"
      ]
     },
     "execution_count": 228,
     "metadata": {},
     "output_type": "execute_result"
    }
   ],
   "source": [
    "max_features = 35000\n",
    "\n",
    "vectorizer = TfidfVectorizer(lowercase=False, max_features=max_features)\n",
    "vectorizer.fit(texts_train_strings)"
   ]
  },
  {
   "cell_type": "code",
   "execution_count": 229,
   "metadata": {},
   "outputs": [
    {
     "name": "stdout",
     "output_type": "stream",
     "text": [
      "(12208, 35000) (4070, 35000)\n"
     ]
    }
   ],
   "source": [
    "X_train = vectorizer.transform(texts_train_strings)\n",
    "X_val = vectorizer.transform(texts_val_strings)\n",
    "print(X_train.shape, X_val.shape)"
   ]
  },
  {
   "cell_type": "code",
   "execution_count": 230,
   "metadata": {},
   "outputs": [
    {
     "data": {
      "text/html": [
       "<style>#sk-container-id-34 {color: black;}#sk-container-id-34 pre{padding: 0;}#sk-container-id-34 div.sk-toggleable {background-color: white;}#sk-container-id-34 label.sk-toggleable__label {cursor: pointer;display: block;width: 100%;margin-bottom: 0;padding: 0.3em;box-sizing: border-box;text-align: center;}#sk-container-id-34 label.sk-toggleable__label-arrow:before {content: \"▸\";float: left;margin-right: 0.25em;color: #696969;}#sk-container-id-34 label.sk-toggleable__label-arrow:hover:before {color: black;}#sk-container-id-34 div.sk-estimator:hover label.sk-toggleable__label-arrow:before {color: black;}#sk-container-id-34 div.sk-toggleable__content {max-height: 0;max-width: 0;overflow: hidden;text-align: left;background-color: #f0f8ff;}#sk-container-id-34 div.sk-toggleable__content pre {margin: 0.2em;color: black;border-radius: 0.25em;background-color: #f0f8ff;}#sk-container-id-34 input.sk-toggleable__control:checked~div.sk-toggleable__content {max-height: 200px;max-width: 100%;overflow: auto;}#sk-container-id-34 input.sk-toggleable__control:checked~label.sk-toggleable__label-arrow:before {content: \"▾\";}#sk-container-id-34 div.sk-estimator input.sk-toggleable__control:checked~label.sk-toggleable__label {background-color: #d4ebff;}#sk-container-id-34 div.sk-label input.sk-toggleable__control:checked~label.sk-toggleable__label {background-color: #d4ebff;}#sk-container-id-34 input.sk-hidden--visually {border: 0;clip: rect(1px 1px 1px 1px);clip: rect(1px, 1px, 1px, 1px);height: 1px;margin: -1px;overflow: hidden;padding: 0;position: absolute;width: 1px;}#sk-container-id-34 div.sk-estimator {font-family: monospace;background-color: #f0f8ff;border: 1px dotted black;border-radius: 0.25em;box-sizing: border-box;margin-bottom: 0.5em;}#sk-container-id-34 div.sk-estimator:hover {background-color: #d4ebff;}#sk-container-id-34 div.sk-parallel-item::after {content: \"\";width: 100%;border-bottom: 1px solid gray;flex-grow: 1;}#sk-container-id-34 div.sk-label:hover label.sk-toggleable__label {background-color: #d4ebff;}#sk-container-id-34 div.sk-serial::before {content: \"\";position: absolute;border-left: 1px solid gray;box-sizing: border-box;top: 0;bottom: 0;left: 50%;z-index: 0;}#sk-container-id-34 div.sk-serial {display: flex;flex-direction: column;align-items: center;background-color: white;padding-right: 0.2em;padding-left: 0.2em;position: relative;}#sk-container-id-34 div.sk-item {position: relative;z-index: 1;}#sk-container-id-34 div.sk-parallel {display: flex;align-items: stretch;justify-content: center;background-color: white;position: relative;}#sk-container-id-34 div.sk-item::before, #sk-container-id-34 div.sk-parallel-item::before {content: \"\";position: absolute;border-left: 1px solid gray;box-sizing: border-box;top: 0;bottom: 0;left: 50%;z-index: -1;}#sk-container-id-34 div.sk-parallel-item {display: flex;flex-direction: column;z-index: 1;position: relative;background-color: white;}#sk-container-id-34 div.sk-parallel-item:first-child::after {align-self: flex-end;width: 50%;}#sk-container-id-34 div.sk-parallel-item:last-child::after {align-self: flex-start;width: 50%;}#sk-container-id-34 div.sk-parallel-item:only-child::after {width: 0;}#sk-container-id-34 div.sk-dashed-wrapped {border: 1px dashed gray;margin: 0 0.4em 0.5em 0.4em;box-sizing: border-box;padding-bottom: 0.4em;background-color: white;}#sk-container-id-34 div.sk-label label {font-family: monospace;font-weight: bold;display: inline-block;line-height: 1.2em;}#sk-container-id-34 div.sk-label-container {text-align: center;}#sk-container-id-34 div.sk-container {/* jupyter's `normalize.less` sets `[hidden] { display: none; }` but bootstrap.min.css set `[hidden] { display: none !important; }` so we also need the `!important` here to be able to override the default hidden behavior on the sphinx rendered scikit-learn.org. See: https://github.com/scikit-learn/scikit-learn/issues/21755 */display: inline-block !important;position: relative;}#sk-container-id-34 div.sk-text-repr-fallback {display: none;}</style><div id=\"sk-container-id-34\" class=\"sk-top-container\"><div class=\"sk-text-repr-fallback\"><pre>GaussianNB()</pre><b>In a Jupyter environment, please rerun this cell to show the HTML representation or trust the notebook. <br />On GitHub, the HTML representation is unable to render, please try loading this page with nbviewer.org.</b></div><div class=\"sk-container\" hidden><div class=\"sk-item\"><div class=\"sk-estimator sk-toggleable\"><input class=\"sk-toggleable__control sk-hidden--visually\" id=\"sk-estimator-id-34\" type=\"checkbox\" checked><label for=\"sk-estimator-id-34\" class=\"sk-toggleable__label sk-toggleable__label-arrow\">GaussianNB</label><div class=\"sk-toggleable__content\"><pre>GaussianNB()</pre></div></div></div></div></div>"
      ],
      "text/plain": [
       "GaussianNB()"
      ]
     },
     "execution_count": 230,
     "metadata": {},
     "output_type": "execute_result"
    }
   ],
   "source": [
    "clf = GaussianNB()\n",
    "\n",
    "clf.fit(X_train.toarray(), y_train)"
   ]
  },
  {
   "cell_type": "code",
   "execution_count": 231,
   "metadata": {},
   "outputs": [
    {
     "name": "stdout",
     "output_type": "stream",
     "text": [
      "Accuracy 0.7769, Precision 0.5828, Recall 0.8611, f1 0.6951, ROC AUC 0.80123\n"
     ]
    }
   ],
   "source": [
    "(accuracy_val,\n",
    "precision_val,\n",
    "recall_val,\n",
    "f1_val,\n",
    "roc_auc_val) = calc_metrics(clf, X_val, y_val)\n",
    "\n",
    "print(f'Accuracy {accuracy_val:.4f}, Precision {precision_val:.4f}, ', end='')\n",
    "print(f'Recall {recall_val:.4f}, f1 {f1_val:.4f}, ROC AUC {roc_auc_val:.5f}')"
   ]
  },
  {
   "cell_type": "markdown",
   "metadata": {},
   "source": [
    "Стало сильно хуже, чем 1 и 2. Гипотеза верна."
   ]
  },
  {
   "cell_type": "markdown",
   "metadata": {},
   "source": [
    "## Pipeline 4\n",
    "\n",
    "Заменям все эмоджи на EMOJI.\n",
    "\n",
    "Ничего не делаем с currency, ничего не делаем с numbers, ничего не делаем с nonascii.\n",
    "\n",
    "Гипотеза: все должно стать лучше, чем в 1 и 2."
   ]
  },
  {
   "cell_type": "code",
   "execution_count": 232,
   "metadata": {},
   "outputs": [],
   "source": [
    "preprocess_utils = [\n",
    "                    remove_hyperlink,\n",
    "                    replace_newline,\n",
    "                    to_lower,\n",
    "                    remove_underscore,\n",
    "                    replace_emoji,\n",
    "                    remove_punctuation,\n",
    "                    remove_whitespace,\n",
    "                    tokenizer.tokenize,\n",
    "                    remove_stop_words,\n",
    "                    word_lemmatizer,\n",
    "                ]"
   ]
  },
  {
   "cell_type": "code",
   "execution_count": 233,
   "metadata": {},
   "outputs": [
    {
     "name": "stdout",
     "output_type": "stream",
     "text": [
      "hi building rpm resin webserver basically want install entire tarball diretory tarball includes subdirectory spec install 1635465 name version release rpmbuildroot usr local resin getting install resin 1635465 1635 465 1635465 bin directory install resin 1635465 1635 465 1635465 conf directory proper nice way handle seem super human misunderstood c dream theater mark url icq 1635465 jid talios url rpm list mailing list rpm list freshrpms net url\n",
      "main symptom manifestation covid 19 main manifestation covid 19 patient fever dry cough fatigue patient diminished lost sense smell taste first symptom small number patient accompanied nasal congestion runny nose sore throat conjunctivitis myalgia diarrheadefeating covid 19 requires joint effort people india sun pharma best click participate parttime task fighting covid 19 get daily reward\n",
      "would like get free navigation forever map 75 country nokia phone learn install\n",
      "prospective 6 22 houston visit ehud june 22 work want firm vince ehud ronn 05 25 2000 06 45 49 pm vince j kaminski enron com cc subject prospective 6 22 houston visit vince many thanks e mail june 22 several trip may 25 june 22 thank invitation may time acquire option visit date finalization visit timing completed early next month thanks best regard ehud ehud ronn department finance college graduate school business university texas austin austin tx 78712 1179 voice 512 471 5853 fax 512 471 5073 internet eronn mail utexas edu\n",
      "url jm url changed removed added status new assigned additional comment jm url 1635465 1635 465 1635465 1635465 1635 465 1635465 use config gradually removed thankfully want see stuff acn avoided different perl version jsut vary much stuff 1635465 perl concept rule could unless perl libdir usr lib perl 1635465 siteperl 1635465 x x foo perl know existence usr share etc used use usr lib perl 1635465 storing rule actually much worse need band way tell sa find stuff problem 1635465 try perl url dev null allow bot build think might missing detail\n",
      "coffee mythcoffee drinker prone heart disease 1 true 2 false 1 2reply within 24hrs know fact coffee\n",
      "jay want work first hows 4 sound\n",
      "approval reviewer robert jr michael suggested reviewer submitted approval may review modify list reviewer logging pep http pep corp enron com going supervisor service please remember feedback completed robert jr michael approved list\n",
      "project brainstorming paulo april colorado march 10 schedule next week talk directly currently eb research helping kevin howard scott yeager indirectly via kevin effort ass value eyeball paulo research complement effort research paulo perform part bigger picture work kevin howard aked stinson support call cell 713 516 5440 co regard ravi april hodgson 03 02 00 07 13 pm stinson gibner hou ect ect enron cc ravi thuraisingham enron communication enron communication vince j kaminski hou ect ect enron subject project brainstorming paulo office frid\n",
      "could seen mei didt recognise face\n",
      "k dahow many page want\n",
      "cant still believe made much process keep believing self think reward risk taking im happy give trial share testimony referral\n",
      "time 2 filing unit pat recently talked ordering another filing unit turn need 2 filing unit please order size floor ceiling cabinet inside cabinet configured follows 1 cabinet 5 shelf 1 cabinet 6 shelf interstore today reconfiguing 2 existing cabinet removed 8 shelf going use new unit please price 2 new unit charge co 0413 rc 107043 please let price approximate delivery date also let know need anything else thanks anita\n",
      "iblong 2u spirituality rich well poor rich open heart poor give selfconfidence\n",
      "also thk fast xy suggest one u dun wan ok going 2 rain leh got gd\n",
      "lost job taught life come end knowing god better plan binary option trade good help family invested mr roberto robinson immediately lost job today far richer used earn still working former company know wasting year working hard job make quick money little investment fund contact mr roberto robinson today start earning massively via link EMOJI EMOJI EMOJI EMOJI EMOJI EMOJI EMOJI EMOJI EMOJI\n",
      "undelivered mail returned sender postfix program host correio quick com br sorry inform message returned could delivered one destination assistance please send mail please include problem report delete text message returned postfix program user unknown command output invalid user specified\n",
      "ok much though hm friday cant wait dunno wot hell im gonna another 3 week become slob oh wait already done\n",
      "𝑰𝒕𝒔 𝒕𝒉𝒆 𝒔𝒆𝒄𝒐𝒏𝒅 𝒕𝒊𝒎𝒆 𝒐𝒇 𝒓𝒆𝒄𝒆𝒊𝒗𝒊𝒏𝒈 𝒎𝒚 𝒑𝒓𝒐𝒇𝒊𝒕 𝒇𝒓𝒐𝒎 𝒕𝒉𝒊𝒔 𝒊𝒏𝒗𝒆𝒔𝒕𝒎𝒆𝒏𝒕 𝒑𝒍𝒂𝒕𝒇𝒐𝒓𝒎 𝒂𝒏𝒅 𝑰 𝒏𝒆𝒆𝒅 𝒕𝒐 𝒕𝒆𝒔𝒕𝒊𝒇𝒚 𝒕𝒐 𝒚𝒐𝒖 𝒕𝒉𝒂𝒕 𝑰 𝒋𝒖𝒔𝒕 𝒓𝒆𝒄𝒆𝒊𝒗𝒆𝒅 10000 𝑱𝒐𝒊𝒏 𝒕𝒐 𝒈𝒆𝒕 𝒔𝒕𝒂𝒓𝒕𝒆𝒅 EMOJI EMOJI EMOJI earn home EMOJI EMOJI EMOJI EMOJI\n",
      "boy loved gal propsd bt didnt mind gv lv lttrs bt frnds threw thm boy decided 2 aproach gal dt time truck speeding towards gal wn 2 hit girld boy ran like hell n saved asked hw cn u run fast boy replied boost secret energy n instantly girl shouted energy n thy lived happily 2gthr drinking boost evrydy moral story hv free msgsd gud ni8\n"
     ]
    }
   ],
   "source": [
    "data_train_tokenized = [\n",
    "    preprocess_pipeline(sent, preprocess_utils) for sent in texts_train_all.to_numpy()\n",
    "]\n",
    "\n",
    "print_tokenized_data(data_train_tokenized, 20, 40)"
   ]
  },
  {
   "cell_type": "code",
   "execution_count": 234,
   "metadata": {},
   "outputs": [],
   "source": [
    "texts_train, texts_val, y_train, y_val = train_test_split(\n",
    "                                        data_train_tokenized,\n",
    "                                        target_all,\n",
    "                                        shuffle=True,\n",
    "                                        random_state=42, \n",
    "                                        stratify=target_all)\n",
    "\n",
    "texts_train_strings = [\" \".join(sentence) for sentence in texts_train]\n",
    "texts_val_strings = [\" \".join(sentence) for sentence in texts_val]"
   ]
  },
  {
   "cell_type": "code",
   "execution_count": 235,
   "metadata": {},
   "outputs": [
    {
     "data": {
      "text/html": [
       "<style>#sk-container-id-35 {color: black;}#sk-container-id-35 pre{padding: 0;}#sk-container-id-35 div.sk-toggleable {background-color: white;}#sk-container-id-35 label.sk-toggleable__label {cursor: pointer;display: block;width: 100%;margin-bottom: 0;padding: 0.3em;box-sizing: border-box;text-align: center;}#sk-container-id-35 label.sk-toggleable__label-arrow:before {content: \"▸\";float: left;margin-right: 0.25em;color: #696969;}#sk-container-id-35 label.sk-toggleable__label-arrow:hover:before {color: black;}#sk-container-id-35 div.sk-estimator:hover label.sk-toggleable__label-arrow:before {color: black;}#sk-container-id-35 div.sk-toggleable__content {max-height: 0;max-width: 0;overflow: hidden;text-align: left;background-color: #f0f8ff;}#sk-container-id-35 div.sk-toggleable__content pre {margin: 0.2em;color: black;border-radius: 0.25em;background-color: #f0f8ff;}#sk-container-id-35 input.sk-toggleable__control:checked~div.sk-toggleable__content {max-height: 200px;max-width: 100%;overflow: auto;}#sk-container-id-35 input.sk-toggleable__control:checked~label.sk-toggleable__label-arrow:before {content: \"▾\";}#sk-container-id-35 div.sk-estimator input.sk-toggleable__control:checked~label.sk-toggleable__label {background-color: #d4ebff;}#sk-container-id-35 div.sk-label input.sk-toggleable__control:checked~label.sk-toggleable__label {background-color: #d4ebff;}#sk-container-id-35 input.sk-hidden--visually {border: 0;clip: rect(1px 1px 1px 1px);clip: rect(1px, 1px, 1px, 1px);height: 1px;margin: -1px;overflow: hidden;padding: 0;position: absolute;width: 1px;}#sk-container-id-35 div.sk-estimator {font-family: monospace;background-color: #f0f8ff;border: 1px dotted black;border-radius: 0.25em;box-sizing: border-box;margin-bottom: 0.5em;}#sk-container-id-35 div.sk-estimator:hover {background-color: #d4ebff;}#sk-container-id-35 div.sk-parallel-item::after {content: \"\";width: 100%;border-bottom: 1px solid gray;flex-grow: 1;}#sk-container-id-35 div.sk-label:hover label.sk-toggleable__label {background-color: #d4ebff;}#sk-container-id-35 div.sk-serial::before {content: \"\";position: absolute;border-left: 1px solid gray;box-sizing: border-box;top: 0;bottom: 0;left: 50%;z-index: 0;}#sk-container-id-35 div.sk-serial {display: flex;flex-direction: column;align-items: center;background-color: white;padding-right: 0.2em;padding-left: 0.2em;position: relative;}#sk-container-id-35 div.sk-item {position: relative;z-index: 1;}#sk-container-id-35 div.sk-parallel {display: flex;align-items: stretch;justify-content: center;background-color: white;position: relative;}#sk-container-id-35 div.sk-item::before, #sk-container-id-35 div.sk-parallel-item::before {content: \"\";position: absolute;border-left: 1px solid gray;box-sizing: border-box;top: 0;bottom: 0;left: 50%;z-index: -1;}#sk-container-id-35 div.sk-parallel-item {display: flex;flex-direction: column;z-index: 1;position: relative;background-color: white;}#sk-container-id-35 div.sk-parallel-item:first-child::after {align-self: flex-end;width: 50%;}#sk-container-id-35 div.sk-parallel-item:last-child::after {align-self: flex-start;width: 50%;}#sk-container-id-35 div.sk-parallel-item:only-child::after {width: 0;}#sk-container-id-35 div.sk-dashed-wrapped {border: 1px dashed gray;margin: 0 0.4em 0.5em 0.4em;box-sizing: border-box;padding-bottom: 0.4em;background-color: white;}#sk-container-id-35 div.sk-label label {font-family: monospace;font-weight: bold;display: inline-block;line-height: 1.2em;}#sk-container-id-35 div.sk-label-container {text-align: center;}#sk-container-id-35 div.sk-container {/* jupyter's `normalize.less` sets `[hidden] { display: none; }` but bootstrap.min.css set `[hidden] { display: none !important; }` so we also need the `!important` here to be able to override the default hidden behavior on the sphinx rendered scikit-learn.org. See: https://github.com/scikit-learn/scikit-learn/issues/21755 */display: inline-block !important;position: relative;}#sk-container-id-35 div.sk-text-repr-fallback {display: none;}</style><div id=\"sk-container-id-35\" class=\"sk-top-container\"><div class=\"sk-text-repr-fallback\"><pre>TfidfVectorizer(lowercase=False, max_features=35000)</pre><b>In a Jupyter environment, please rerun this cell to show the HTML representation or trust the notebook. <br />On GitHub, the HTML representation is unable to render, please try loading this page with nbviewer.org.</b></div><div class=\"sk-container\" hidden><div class=\"sk-item\"><div class=\"sk-estimator sk-toggleable\"><input class=\"sk-toggleable__control sk-hidden--visually\" id=\"sk-estimator-id-35\" type=\"checkbox\" checked><label for=\"sk-estimator-id-35\" class=\"sk-toggleable__label sk-toggleable__label-arrow\">TfidfVectorizer</label><div class=\"sk-toggleable__content\"><pre>TfidfVectorizer(lowercase=False, max_features=35000)</pre></div></div></div></div></div>"
      ],
      "text/plain": [
       "TfidfVectorizer(lowercase=False, max_features=35000)"
      ]
     },
     "execution_count": 235,
     "metadata": {},
     "output_type": "execute_result"
    }
   ],
   "source": [
    "max_features = 35000\n",
    "\n",
    "vectorizer = TfidfVectorizer(lowercase=False, max_features=max_features)\n",
    "vectorizer.fit(texts_train_strings)"
   ]
  },
  {
   "cell_type": "code",
   "execution_count": 236,
   "metadata": {},
   "outputs": [
    {
     "name": "stdout",
     "output_type": "stream",
     "text": [
      "(12208, 35000) (4070, 35000)\n"
     ]
    }
   ],
   "source": [
    "X_train = vectorizer.transform(texts_train_strings)\n",
    "X_val = vectorizer.transform(texts_val_strings)\n",
    "print(X_train.shape, X_val.shape)"
   ]
  },
  {
   "cell_type": "code",
   "execution_count": 237,
   "metadata": {},
   "outputs": [
    {
     "data": {
      "text/html": [
       "<style>#sk-container-id-36 {color: black;}#sk-container-id-36 pre{padding: 0;}#sk-container-id-36 div.sk-toggleable {background-color: white;}#sk-container-id-36 label.sk-toggleable__label {cursor: pointer;display: block;width: 100%;margin-bottom: 0;padding: 0.3em;box-sizing: border-box;text-align: center;}#sk-container-id-36 label.sk-toggleable__label-arrow:before {content: \"▸\";float: left;margin-right: 0.25em;color: #696969;}#sk-container-id-36 label.sk-toggleable__label-arrow:hover:before {color: black;}#sk-container-id-36 div.sk-estimator:hover label.sk-toggleable__label-arrow:before {color: black;}#sk-container-id-36 div.sk-toggleable__content {max-height: 0;max-width: 0;overflow: hidden;text-align: left;background-color: #f0f8ff;}#sk-container-id-36 div.sk-toggleable__content pre {margin: 0.2em;color: black;border-radius: 0.25em;background-color: #f0f8ff;}#sk-container-id-36 input.sk-toggleable__control:checked~div.sk-toggleable__content {max-height: 200px;max-width: 100%;overflow: auto;}#sk-container-id-36 input.sk-toggleable__control:checked~label.sk-toggleable__label-arrow:before {content: \"▾\";}#sk-container-id-36 div.sk-estimator input.sk-toggleable__control:checked~label.sk-toggleable__label {background-color: #d4ebff;}#sk-container-id-36 div.sk-label input.sk-toggleable__control:checked~label.sk-toggleable__label {background-color: #d4ebff;}#sk-container-id-36 input.sk-hidden--visually {border: 0;clip: rect(1px 1px 1px 1px);clip: rect(1px, 1px, 1px, 1px);height: 1px;margin: -1px;overflow: hidden;padding: 0;position: absolute;width: 1px;}#sk-container-id-36 div.sk-estimator {font-family: monospace;background-color: #f0f8ff;border: 1px dotted black;border-radius: 0.25em;box-sizing: border-box;margin-bottom: 0.5em;}#sk-container-id-36 div.sk-estimator:hover {background-color: #d4ebff;}#sk-container-id-36 div.sk-parallel-item::after {content: \"\";width: 100%;border-bottom: 1px solid gray;flex-grow: 1;}#sk-container-id-36 div.sk-label:hover label.sk-toggleable__label {background-color: #d4ebff;}#sk-container-id-36 div.sk-serial::before {content: \"\";position: absolute;border-left: 1px solid gray;box-sizing: border-box;top: 0;bottom: 0;left: 50%;z-index: 0;}#sk-container-id-36 div.sk-serial {display: flex;flex-direction: column;align-items: center;background-color: white;padding-right: 0.2em;padding-left: 0.2em;position: relative;}#sk-container-id-36 div.sk-item {position: relative;z-index: 1;}#sk-container-id-36 div.sk-parallel {display: flex;align-items: stretch;justify-content: center;background-color: white;position: relative;}#sk-container-id-36 div.sk-item::before, #sk-container-id-36 div.sk-parallel-item::before {content: \"\";position: absolute;border-left: 1px solid gray;box-sizing: border-box;top: 0;bottom: 0;left: 50%;z-index: -1;}#sk-container-id-36 div.sk-parallel-item {display: flex;flex-direction: column;z-index: 1;position: relative;background-color: white;}#sk-container-id-36 div.sk-parallel-item:first-child::after {align-self: flex-end;width: 50%;}#sk-container-id-36 div.sk-parallel-item:last-child::after {align-self: flex-start;width: 50%;}#sk-container-id-36 div.sk-parallel-item:only-child::after {width: 0;}#sk-container-id-36 div.sk-dashed-wrapped {border: 1px dashed gray;margin: 0 0.4em 0.5em 0.4em;box-sizing: border-box;padding-bottom: 0.4em;background-color: white;}#sk-container-id-36 div.sk-label label {font-family: monospace;font-weight: bold;display: inline-block;line-height: 1.2em;}#sk-container-id-36 div.sk-label-container {text-align: center;}#sk-container-id-36 div.sk-container {/* jupyter's `normalize.less` sets `[hidden] { display: none; }` but bootstrap.min.css set `[hidden] { display: none !important; }` so we also need the `!important` here to be able to override the default hidden behavior on the sphinx rendered scikit-learn.org. See: https://github.com/scikit-learn/scikit-learn/issues/21755 */display: inline-block !important;position: relative;}#sk-container-id-36 div.sk-text-repr-fallback {display: none;}</style><div id=\"sk-container-id-36\" class=\"sk-top-container\"><div class=\"sk-text-repr-fallback\"><pre>GaussianNB()</pre><b>In a Jupyter environment, please rerun this cell to show the HTML representation or trust the notebook. <br />On GitHub, the HTML representation is unable to render, please try loading this page with nbviewer.org.</b></div><div class=\"sk-container\" hidden><div class=\"sk-item\"><div class=\"sk-estimator sk-toggleable\"><input class=\"sk-toggleable__control sk-hidden--visually\" id=\"sk-estimator-id-36\" type=\"checkbox\" checked><label for=\"sk-estimator-id-36\" class=\"sk-toggleable__label sk-toggleable__label-arrow\">GaussianNB</label><div class=\"sk-toggleable__content\"><pre>GaussianNB()</pre></div></div></div></div></div>"
      ],
      "text/plain": [
       "GaussianNB()"
      ]
     },
     "execution_count": 237,
     "metadata": {},
     "output_type": "execute_result"
    }
   ],
   "source": [
    "clf = GaussianNB()\n",
    "\n",
    "clf.fit(X_train.toarray(), y_train)"
   ]
  },
  {
   "cell_type": "code",
   "execution_count": 238,
   "metadata": {},
   "outputs": [
    {
     "name": "stdout",
     "output_type": "stream",
     "text": [
      "Accuracy 0.8059, Precision 0.6314, Recall 0.8236, f1 0.7148, ROC AUC 0.81139\n"
     ]
    }
   ],
   "source": [
    "(accuracy_val,\n",
    "precision_val,\n",
    "recall_val,\n",
    "f1_val,\n",
    "roc_auc_val) = calc_metrics(clf, X_val, y_val)\n",
    "\n",
    "print(f'Accuracy {accuracy_val:.4f}, Precision {precision_val:.4f}, ', end='')\n",
    "print(f'Recall {recall_val:.4f}, f1 {f1_val:.4f}, ROC AUC {roc_auc_val:.5f}')"
   ]
  },
  {
   "cell_type": "markdown",
   "metadata": {},
   "source": [
    "Стало хуже. Гипотеза опровергнута."
   ]
  },
  {
   "cell_type": "markdown",
   "metadata": {},
   "source": [
    "## Pipeline 5.\n",
    "\n",
    "Заменям все эмоджи на EMOJI. Заменяем нестандартные шрифты на NONASCII.\n",
    "\n",
    "Ничего не делаем с currency, ничего не делаем с numbers.\n",
    "\n",
    "Гипотеза: все должно стать лучше, чем в 1 и 2."
   ]
  },
  {
   "cell_type": "code",
   "execution_count": 239,
   "metadata": {},
   "outputs": [],
   "source": [
    "preprocess_utils = [\n",
    "                    remove_hyperlink,\n",
    "                    replace_newline,\n",
    "                    to_lower,\n",
    "                    remove_underscore,\n",
    "                    replace_emoji,\n",
    "                    replace_non_ascii,\n",
    "                    remove_punctuation,\n",
    "                    remove_whitespace,\n",
    "                    tokenizer.tokenize,\n",
    "                    remove_stop_words,\n",
    "                    word_lemmatizer,\n",
    "                ]"
   ]
  },
  {
   "cell_type": "code",
   "execution_count": 240,
   "metadata": {},
   "outputs": [
    {
     "name": "stdout",
     "output_type": "stream",
     "text": [
      "hi building rpm resin webserver basically want install entire tarball diretory tarball includes subdirectory spec install 1635465 name version release rpmbuildroot usr local resin getting install resin 1635465 1635 465 1635465 bin directory install resin 1635465 1635 465 1635465 conf directory proper nice way handle seem super human misunderstood c dream theater mark url icq 1635465 jid talios url rpm list mailing list rpm list freshrpms net url\n",
      "main symptom manifestation covid 19 main manifestation covid 19 patient fever dry cough fatigue patient diminished lost sense smell taste first symptom small number patient accompanied nasal congestion runny nose sore throat conjunctivitis myalgia diarrheadefeating covid 19 requires joint effort people india sun pharma best click participate parttime task fighting covid 19 get daily reward\n",
      "would like get free navigation forever map 75 country nokia phone learn install\n",
      "prospective 6 22 houston visit ehud june 22 work want firm vince ehud ronn 05 25 2000 06 45 49 pm vince j kaminski enron com cc subject prospective 6 22 houston visit vince many thanks e mail june 22 several trip may 25 june 22 thank invitation may time acquire option visit date finalization visit timing completed early next month thanks best regard ehud ehud ronn department finance college graduate school business university texas austin austin tx 78712 1179 voice 512 471 5853 fax 512 471 5073 internet eronn mail utexas edu\n",
      "url jm url changed removed added status new assigned additional comment jm url 1635465 1635 465 1635465 1635465 1635 465 1635465 use config gradually removed thankfully want see stuff acn avoided different perl version jsut vary much stuff 1635465 perl concept rule could unless perl libdir usr lib perl 1635465 siteperl 1635465 x x foo perl know existence usr share etc used use usr lib perl 1635465 storing rule actually much worse need band way tell sa find stuff problem 1635465 try perl url dev null allow bot build think might missing detail\n",
      "coffee mythcoffee drinker prone heart disease 1 true 2 false 1 2reply within 24hrs know fact coffee\n",
      "jay want work first hows 4 sound\n",
      "approval reviewer robert jr michael suggested reviewer submitted approval may review modify list reviewer logging pep http pep corp enron com going supervisor service please remember feedback completed robert jr michael approved list\n",
      "project brainstorming paulo april colorado march 10 schedule next week talk directly currently eb research helping kevin howard scott yeager indirectly via kevin effort ass value eyeball paulo research complement effort research paulo perform part bigger picture work kevin howard aked stinson support call cell 713 516 5440 co regard ravi april hodgson 03 02 00 07 13 pm stinson gibner hou ect ect enron cc ravi thuraisingham enron communication enron communication vince j kaminski hou ect ect enron subject project brainstorming paulo office frid\n",
      "could seen mei didt recognise face\n",
      "k dahow many page want\n",
      "cant still believe made much process keep believing self think reward risk taking im happy give trial share testimony referral\n",
      "time 2 filing unit pat recently talked ordering another filing unit turn need 2 filing unit please order size floor ceiling cabinet inside cabinet configured follows 1 cabinet 5 shelf 1 cabinet 6 shelf interstore today reconfiguing 2 existing cabinet removed 8 shelf going use new unit please price 2 new unit charge co 0413 rc 107043 please let price approximate delivery date also let know need anything else thanks anita\n",
      "iblong 2u spirituality rich well poor rich open heart poor give selfconfidence\n",
      "also thk fast xy suggest one u dun wan ok going 2 rain leh got gd\n",
      "lost job taught life come end knowing god better plan binary option trade good help family invested mr roberto robinson immediately lost job today far richer used earn still working former company know wasting year working hard job make quick money little investment fund contact mr roberto robinson today start earning massively via link EMOJI EMOJI EMOJI EMOJI EMOJI EMOJI EMOJI EMOJI EMOJI\n",
      "undelivered mail returned sender postfix program host correio quick com br sorry inform message returned could delivered one destination assistance please send mail please include problem report delete text message returned postfix program user unknown command output invalid user specified\n",
      "ok much though hm friday cant wait dunno wot hell im gonna another 3 week become slob oh wait already done\n",
      "NONASCII NONASCII NONASCII NONASCII NONASCII NONASCII NONASCII NONASCII NONASCII NONASCII NONASCII NONASCII NONASCII NONASCII NONASCII NONASCII NONASCII NONASCII NONASCII NONASCII NONASCII NONASCII NONASCII 10000 NONASCII NONASCII NONASCII NONASCII EMOJI EMOJI EMOJI earn home EMOJI EMOJI EMOJI EMOJI\n",
      "boy loved gal propsd bt didnt mind gv lv lttrs bt frnds threw thm boy decided 2 aproach gal dt time truck speeding towards gal wn 2 hit girld boy ran like hell n saved asked hw cn u run fast boy replied boost secret energy n instantly girl shouted energy n thy lived happily 2gthr drinking boost evrydy moral story hv free msgsd gud ni8\n"
     ]
    }
   ],
   "source": [
    "data_train_tokenized = [\n",
    "    preprocess_pipeline(sent, preprocess_utils) for sent in texts_train_all.to_numpy()\n",
    "]\n",
    "\n",
    "print_tokenized_data(data_train_tokenized, 20, 40)"
   ]
  },
  {
   "cell_type": "code",
   "execution_count": 241,
   "metadata": {},
   "outputs": [],
   "source": [
    "texts_train, texts_val, y_train, y_val = train_test_split(\n",
    "                                        data_train_tokenized,\n",
    "                                        target_all,\n",
    "                                        shuffle=True,\n",
    "                                        random_state=42, \n",
    "                                        stratify=target_all)\n",
    "\n",
    "texts_train_strings = [\" \".join(sentence) for sentence in texts_train]\n",
    "texts_val_strings = [\" \".join(sentence) for sentence in texts_val]"
   ]
  },
  {
   "cell_type": "code",
   "execution_count": 242,
   "metadata": {},
   "outputs": [
    {
     "data": {
      "text/html": [
       "<style>#sk-container-id-37 {color: black;}#sk-container-id-37 pre{padding: 0;}#sk-container-id-37 div.sk-toggleable {background-color: white;}#sk-container-id-37 label.sk-toggleable__label {cursor: pointer;display: block;width: 100%;margin-bottom: 0;padding: 0.3em;box-sizing: border-box;text-align: center;}#sk-container-id-37 label.sk-toggleable__label-arrow:before {content: \"▸\";float: left;margin-right: 0.25em;color: #696969;}#sk-container-id-37 label.sk-toggleable__label-arrow:hover:before {color: black;}#sk-container-id-37 div.sk-estimator:hover label.sk-toggleable__label-arrow:before {color: black;}#sk-container-id-37 div.sk-toggleable__content {max-height: 0;max-width: 0;overflow: hidden;text-align: left;background-color: #f0f8ff;}#sk-container-id-37 div.sk-toggleable__content pre {margin: 0.2em;color: black;border-radius: 0.25em;background-color: #f0f8ff;}#sk-container-id-37 input.sk-toggleable__control:checked~div.sk-toggleable__content {max-height: 200px;max-width: 100%;overflow: auto;}#sk-container-id-37 input.sk-toggleable__control:checked~label.sk-toggleable__label-arrow:before {content: \"▾\";}#sk-container-id-37 div.sk-estimator input.sk-toggleable__control:checked~label.sk-toggleable__label {background-color: #d4ebff;}#sk-container-id-37 div.sk-label input.sk-toggleable__control:checked~label.sk-toggleable__label {background-color: #d4ebff;}#sk-container-id-37 input.sk-hidden--visually {border: 0;clip: rect(1px 1px 1px 1px);clip: rect(1px, 1px, 1px, 1px);height: 1px;margin: -1px;overflow: hidden;padding: 0;position: absolute;width: 1px;}#sk-container-id-37 div.sk-estimator {font-family: monospace;background-color: #f0f8ff;border: 1px dotted black;border-radius: 0.25em;box-sizing: border-box;margin-bottom: 0.5em;}#sk-container-id-37 div.sk-estimator:hover {background-color: #d4ebff;}#sk-container-id-37 div.sk-parallel-item::after {content: \"\";width: 100%;border-bottom: 1px solid gray;flex-grow: 1;}#sk-container-id-37 div.sk-label:hover label.sk-toggleable__label {background-color: #d4ebff;}#sk-container-id-37 div.sk-serial::before {content: \"\";position: absolute;border-left: 1px solid gray;box-sizing: border-box;top: 0;bottom: 0;left: 50%;z-index: 0;}#sk-container-id-37 div.sk-serial {display: flex;flex-direction: column;align-items: center;background-color: white;padding-right: 0.2em;padding-left: 0.2em;position: relative;}#sk-container-id-37 div.sk-item {position: relative;z-index: 1;}#sk-container-id-37 div.sk-parallel {display: flex;align-items: stretch;justify-content: center;background-color: white;position: relative;}#sk-container-id-37 div.sk-item::before, #sk-container-id-37 div.sk-parallel-item::before {content: \"\";position: absolute;border-left: 1px solid gray;box-sizing: border-box;top: 0;bottom: 0;left: 50%;z-index: -1;}#sk-container-id-37 div.sk-parallel-item {display: flex;flex-direction: column;z-index: 1;position: relative;background-color: white;}#sk-container-id-37 div.sk-parallel-item:first-child::after {align-self: flex-end;width: 50%;}#sk-container-id-37 div.sk-parallel-item:last-child::after {align-self: flex-start;width: 50%;}#sk-container-id-37 div.sk-parallel-item:only-child::after {width: 0;}#sk-container-id-37 div.sk-dashed-wrapped {border: 1px dashed gray;margin: 0 0.4em 0.5em 0.4em;box-sizing: border-box;padding-bottom: 0.4em;background-color: white;}#sk-container-id-37 div.sk-label label {font-family: monospace;font-weight: bold;display: inline-block;line-height: 1.2em;}#sk-container-id-37 div.sk-label-container {text-align: center;}#sk-container-id-37 div.sk-container {/* jupyter's `normalize.less` sets `[hidden] { display: none; }` but bootstrap.min.css set `[hidden] { display: none !important; }` so we also need the `!important` here to be able to override the default hidden behavior on the sphinx rendered scikit-learn.org. See: https://github.com/scikit-learn/scikit-learn/issues/21755 */display: inline-block !important;position: relative;}#sk-container-id-37 div.sk-text-repr-fallback {display: none;}</style><div id=\"sk-container-id-37\" class=\"sk-top-container\"><div class=\"sk-text-repr-fallback\"><pre>TfidfVectorizer(lowercase=False, max_features=35000)</pre><b>In a Jupyter environment, please rerun this cell to show the HTML representation or trust the notebook. <br />On GitHub, the HTML representation is unable to render, please try loading this page with nbviewer.org.</b></div><div class=\"sk-container\" hidden><div class=\"sk-item\"><div class=\"sk-estimator sk-toggleable\"><input class=\"sk-toggleable__control sk-hidden--visually\" id=\"sk-estimator-id-37\" type=\"checkbox\" checked><label for=\"sk-estimator-id-37\" class=\"sk-toggleable__label sk-toggleable__label-arrow\">TfidfVectorizer</label><div class=\"sk-toggleable__content\"><pre>TfidfVectorizer(lowercase=False, max_features=35000)</pre></div></div></div></div></div>"
      ],
      "text/plain": [
       "TfidfVectorizer(lowercase=False, max_features=35000)"
      ]
     },
     "execution_count": 242,
     "metadata": {},
     "output_type": "execute_result"
    }
   ],
   "source": [
    "max_features = 35000\n",
    "\n",
    "vectorizer = TfidfVectorizer(lowercase=False, max_features=max_features)\n",
    "vectorizer.fit(texts_train_strings)"
   ]
  },
  {
   "cell_type": "code",
   "execution_count": 243,
   "metadata": {},
   "outputs": [
    {
     "name": "stdout",
     "output_type": "stream",
     "text": [
      "(12208, 35000) (4070, 35000)\n"
     ]
    }
   ],
   "source": [
    "X_train = vectorizer.transform(texts_train_strings)\n",
    "X_val = vectorizer.transform(texts_val_strings)\n",
    "print(X_train.shape, X_val.shape)"
   ]
  },
  {
   "cell_type": "code",
   "execution_count": 244,
   "metadata": {},
   "outputs": [
    {
     "data": {
      "text/html": [
       "<style>#sk-container-id-38 {color: black;}#sk-container-id-38 pre{padding: 0;}#sk-container-id-38 div.sk-toggleable {background-color: white;}#sk-container-id-38 label.sk-toggleable__label {cursor: pointer;display: block;width: 100%;margin-bottom: 0;padding: 0.3em;box-sizing: border-box;text-align: center;}#sk-container-id-38 label.sk-toggleable__label-arrow:before {content: \"▸\";float: left;margin-right: 0.25em;color: #696969;}#sk-container-id-38 label.sk-toggleable__label-arrow:hover:before {color: black;}#sk-container-id-38 div.sk-estimator:hover label.sk-toggleable__label-arrow:before {color: black;}#sk-container-id-38 div.sk-toggleable__content {max-height: 0;max-width: 0;overflow: hidden;text-align: left;background-color: #f0f8ff;}#sk-container-id-38 div.sk-toggleable__content pre {margin: 0.2em;color: black;border-radius: 0.25em;background-color: #f0f8ff;}#sk-container-id-38 input.sk-toggleable__control:checked~div.sk-toggleable__content {max-height: 200px;max-width: 100%;overflow: auto;}#sk-container-id-38 input.sk-toggleable__control:checked~label.sk-toggleable__label-arrow:before {content: \"▾\";}#sk-container-id-38 div.sk-estimator input.sk-toggleable__control:checked~label.sk-toggleable__label {background-color: #d4ebff;}#sk-container-id-38 div.sk-label input.sk-toggleable__control:checked~label.sk-toggleable__label {background-color: #d4ebff;}#sk-container-id-38 input.sk-hidden--visually {border: 0;clip: rect(1px 1px 1px 1px);clip: rect(1px, 1px, 1px, 1px);height: 1px;margin: -1px;overflow: hidden;padding: 0;position: absolute;width: 1px;}#sk-container-id-38 div.sk-estimator {font-family: monospace;background-color: #f0f8ff;border: 1px dotted black;border-radius: 0.25em;box-sizing: border-box;margin-bottom: 0.5em;}#sk-container-id-38 div.sk-estimator:hover {background-color: #d4ebff;}#sk-container-id-38 div.sk-parallel-item::after {content: \"\";width: 100%;border-bottom: 1px solid gray;flex-grow: 1;}#sk-container-id-38 div.sk-label:hover label.sk-toggleable__label {background-color: #d4ebff;}#sk-container-id-38 div.sk-serial::before {content: \"\";position: absolute;border-left: 1px solid gray;box-sizing: border-box;top: 0;bottom: 0;left: 50%;z-index: 0;}#sk-container-id-38 div.sk-serial {display: flex;flex-direction: column;align-items: center;background-color: white;padding-right: 0.2em;padding-left: 0.2em;position: relative;}#sk-container-id-38 div.sk-item {position: relative;z-index: 1;}#sk-container-id-38 div.sk-parallel {display: flex;align-items: stretch;justify-content: center;background-color: white;position: relative;}#sk-container-id-38 div.sk-item::before, #sk-container-id-38 div.sk-parallel-item::before {content: \"\";position: absolute;border-left: 1px solid gray;box-sizing: border-box;top: 0;bottom: 0;left: 50%;z-index: -1;}#sk-container-id-38 div.sk-parallel-item {display: flex;flex-direction: column;z-index: 1;position: relative;background-color: white;}#sk-container-id-38 div.sk-parallel-item:first-child::after {align-self: flex-end;width: 50%;}#sk-container-id-38 div.sk-parallel-item:last-child::after {align-self: flex-start;width: 50%;}#sk-container-id-38 div.sk-parallel-item:only-child::after {width: 0;}#sk-container-id-38 div.sk-dashed-wrapped {border: 1px dashed gray;margin: 0 0.4em 0.5em 0.4em;box-sizing: border-box;padding-bottom: 0.4em;background-color: white;}#sk-container-id-38 div.sk-label label {font-family: monospace;font-weight: bold;display: inline-block;line-height: 1.2em;}#sk-container-id-38 div.sk-label-container {text-align: center;}#sk-container-id-38 div.sk-container {/* jupyter's `normalize.less` sets `[hidden] { display: none; }` but bootstrap.min.css set `[hidden] { display: none !important; }` so we also need the `!important` here to be able to override the default hidden behavior on the sphinx rendered scikit-learn.org. See: https://github.com/scikit-learn/scikit-learn/issues/21755 */display: inline-block !important;position: relative;}#sk-container-id-38 div.sk-text-repr-fallback {display: none;}</style><div id=\"sk-container-id-38\" class=\"sk-top-container\"><div class=\"sk-text-repr-fallback\"><pre>GaussianNB()</pre><b>In a Jupyter environment, please rerun this cell to show the HTML representation or trust the notebook. <br />On GitHub, the HTML representation is unable to render, please try loading this page with nbviewer.org.</b></div><div class=\"sk-container\" hidden><div class=\"sk-item\"><div class=\"sk-estimator sk-toggleable\"><input class=\"sk-toggleable__control sk-hidden--visually\" id=\"sk-estimator-id-38\" type=\"checkbox\" checked><label for=\"sk-estimator-id-38\" class=\"sk-toggleable__label sk-toggleable__label-arrow\">GaussianNB</label><div class=\"sk-toggleable__content\"><pre>GaussianNB()</pre></div></div></div></div></div>"
      ],
      "text/plain": [
       "GaussianNB()"
      ]
     },
     "execution_count": 244,
     "metadata": {},
     "output_type": "execute_result"
    }
   ],
   "source": [
    "clf = GaussianNB()\n",
    "\n",
    "clf.fit(X_train.toarray(), y_train)"
   ]
  },
  {
   "cell_type": "code",
   "execution_count": 245,
   "metadata": {},
   "outputs": [
    {
     "name": "stdout",
     "output_type": "stream",
     "text": [
      "Accuracy 0.7676, Precision 0.5729, Recall 0.8369, f1 0.6802, ROC AUC 0.78769\n"
     ]
    }
   ],
   "source": [
    "(accuracy_val,\n",
    "precision_val,\n",
    "recall_val,\n",
    "f1_val,\n",
    "roc_auc_val) = calc_metrics(clf, X_val, y_val)\n",
    "\n",
    "print(f'Accuracy {accuracy_val:.4f}, Precision {precision_val:.4f}, ', end='')\n",
    "print(f'Recall {recall_val:.4f}, f1 {f1_val:.4f}, ROC AUC {roc_auc_val:.5f}')"
   ]
  },
  {
   "cell_type": "markdown",
   "metadata": {},
   "source": [
    "Стало значительно хуже."
   ]
  },
  {
   "cell_type": "markdown",
   "metadata": {},
   "source": [
    "## Pipeline 6\n",
    "\n",
    "Переводим эмоджи в текст. Переводим все числа в NUMBERS.\n",
    "\n",
    "Ничего не делаем с currency, ничего не делаем с nonascii.\n",
    "\n",
    "Гипотеза: должно стать лучше случая 2."
   ]
  },
  {
   "cell_type": "code",
   "execution_count": 246,
   "metadata": {},
   "outputs": [],
   "source": [
    "preprocess_utils = [\n",
    "                    remove_hyperlink,\n",
    "                    replace_newline,\n",
    "                    to_lower,\n",
    "                    remove_underscore,\n",
    "                    emoji_to_text,\n",
    "                    remove_number,\n",
    "                    remove_punctuation,\n",
    "                    remove_whitespace,\n",
    "                    tokenizer.tokenize,\n",
    "                    remove_stop_words,       ###\n",
    "                    word_lemmatizer,         ###\n",
    "                ]"
   ]
  },
  {
   "cell_type": "code",
   "execution_count": 247,
   "metadata": {},
   "outputs": [
    {
     "name": "stdout",
     "output_type": "stream",
     "text": [
      "hi building rpm resin webserver basically want install entire tarball diretory tarball includes subdirectory spec install NUMBER name version release rpmbuildroot usr local resin getting install resin NUMBER NUMBER NUMBER bin directory install resin NUMBER NUMBER NUMBER conf directory proper nice way handle seem super human misunderstood c dream theater mark url icq NUMBER jid talios url rpm list mailing list rpm list freshrpms net url\n",
      "main symptom manifestation NUMBER main manifestation NUMBER patient fever dry cough fatigue patient diminished lost sense smell taste first symptom small number patient accompanied nasal congestion runny nose sore throat conjunctivitis myalgia diarrheadefeating NUMBER requires joint effort people india sun pharma best click participate parttime task fighting NUMBER get daily reward\n",
      "would like get free navigation forever map NUMBER country nokia phone learn install\n",
      "prospective NUMBER NUMBER houston visit ehud june NUMBER work want firm vince ehud ronn NUMBER NUMBER NUMBER NUMBER NUMBER NUMBER pm vince j kaminski enron com cc subject prospective NUMBER NUMBER houston visit vince many thanks e mail june NUMBER several trip may NUMBER june NUMBER thank invitation may time acquire option visit date finalization visit timing completed early next month thanks best regard ehud ehud ronn department finance college graduate school business university texas austin austin tx NUMBER NUMBER voice NUMBER NUMBER NUMBER fax NUMBER NUMBER NUMBER internet eronn mail utexas edu\n",
      "url jm url changed removed added status new assigned additional comment jm url NUMBER NUMBER NUMBER NUMBER NUMBER NUMBER use config gradually removed thankfully want see stuff acn avoided different perl version jsut vary much stuff NUMBER perl concept rule could unless perl libdir usr lib NUMBER siteperl NUMBER x x foo perl know existence usr share etc used use usr lib NUMBER storing rule actually much worse need band way tell sa find stuff problem NUMBER try perl url dev null allow bot build think might missing detail\n",
      "coffee mythcoffee drinker prone heart disease NUMBER NUMBER NUMBER NUMBER within NUMBER know fact coffee\n",
      "jay want work first hows NUMBER sound\n",
      "approval reviewer robert jr michael suggested reviewer submitted approval may review modify list reviewer logging pep http pep corp enron com going supervisor service please remember feedback completed robert jr michael approved list\n",
      "project brainstorming paulo april colorado march NUMBER schedule next week talk directly currently eb research helping kevin howard scott yeager indirectly via kevin effort ass value eyeball paulo research complement effort research paulo perform part bigger picture work kevin howard aked stinson support call cell NUMBER NUMBER NUMBER co regard ravi april hodgson NUMBER NUMBER NUMBER NUMBER NUMBER pm stinson gibner hou ect ect enron cc ravi thuraisingham enron communication enron communication vince j kaminski hou ect ect enron subject project brainstorming paulo office frid\n",
      "could seen mei didt recognise face\n",
      "k dahow many page want\n",
      "cant still believe made much process keep believing self think reward risk taking im happy give trial share testimony referral\n",
      "time NUMBER filing unit pat recently talked ordering another filing unit turn need NUMBER filing unit please order size floor ceiling cabinet inside cabinet configured follows NUMBER cabinet NUMBER shelf NUMBER cabinet NUMBER shelf interstore today reconfiguing NUMBER existing cabinet removed NUMBER shelf going use new unit please price NUMBER new unit charge co NUMBER rc NUMBER please let price approximate delivery date also let know need anything else thanks anita\n",
      "NUMBER spirituality rich well poor rich open heart poor give selfconfidence\n",
      "also thk fast xy suggest one u dun wan ok going NUMBER rain leh got gd\n",
      "lost job taught life come end knowing god better plan binary option trade good help family invested mr roberto robinson immediately lost job today far richer used earn still working former company know wasting year working hard job make quick money little investment fund contact mr roberto robinson today start earning massively via link backhand_index_pointing_down backhand_index_pointing_down backhand_index_pointing_down backhand_index_pointing_down backhand_index_pointing_down backhand_index_pointing_down backhand_index_pointing_down backhand_index_pointing_down backhand_index_pointing_down\n",
      "undelivered mail returned sender postfix program host correio quick com br sorry inform message returned could delivered one destination assistance please send mail please include problem report delete text message returned postfix program user unknown command output invalid user specified\n",
      "ok much though hm friday cant wait dunno wot hell im gonna another NUMBER week become slob oh wait already done\n",
      "𝑰𝒕𝒔 𝒕𝒉𝒆 𝒔𝒆𝒄𝒐𝒏𝒅 𝒕𝒊𝒎𝒆 𝒐𝒇 𝒓𝒆𝒄𝒆𝒊𝒗𝒊𝒏𝒈 𝒎𝒚 𝒑𝒓𝒐𝒇𝒊𝒕 𝒇𝒓𝒐𝒎 𝒕𝒉𝒊𝒔 𝒊𝒏𝒗𝒆𝒔𝒕𝒎𝒆𝒏𝒕 𝒑𝒍𝒂𝒕𝒇𝒐𝒓𝒎 𝒂𝒏𝒅 𝑰 𝒏𝒆𝒆𝒅 𝒕𝒐 𝒕𝒆𝒔𝒕𝒊𝒇𝒚 𝒕𝒐 𝒚𝒐𝒖 𝒕𝒉𝒂𝒕 𝑰 𝒋𝒖𝒔𝒕 𝒓𝒆𝒄𝒆𝒊𝒗𝒆𝒅 NUMBER 𝑱𝒐𝒊𝒏 𝒕𝒐 𝒈𝒆𝒕 𝒔𝒕𝒂𝒓𝒕𝒆𝒅 backhand_index_pointing_down backhand_index_pointing_down backhand_index_pointing_down earn home mobile_phone mobile_phone mobile_phone mobile_phone\n",
      "boy loved gal propsd bt didnt mind gv lv lttrs bt frnds threw thm boy decided NUMBER aproach gal dt time truck speeding towards gal wn NUMBER hit girld boy ran like hell n saved asked hw cn u run fast boy replied boost secret energy n instantly girl shouted energy n thy lived happily NUMBER drinking boost evrydy moral story hv free msgsd gud NUMBER\n"
     ]
    }
   ],
   "source": [
    "data_train_tokenized = [\n",
    "    preprocess_pipeline(sent, preprocess_utils) for sent in texts_train_all.to_numpy()\n",
    "]\n",
    "\n",
    "print_tokenized_data(data_train_tokenized, 20, 40)"
   ]
  },
  {
   "cell_type": "code",
   "execution_count": 248,
   "metadata": {},
   "outputs": [],
   "source": [
    "texts_train, texts_val, y_train, y_val = train_test_split(\n",
    "                                        data_train_tokenized,\n",
    "                                        target_all,\n",
    "                                        shuffle=True,\n",
    "                                        random_state=42, \n",
    "                                        stratify=target_all)\n",
    "\n",
    "texts_train_strings = [\" \".join(sentence) for sentence in texts_train]\n",
    "texts_val_strings = [\" \".join(sentence) for sentence in texts_val]"
   ]
  },
  {
   "cell_type": "code",
   "execution_count": 249,
   "metadata": {},
   "outputs": [
    {
     "data": {
      "text/html": [
       "<style>#sk-container-id-39 {color: black;}#sk-container-id-39 pre{padding: 0;}#sk-container-id-39 div.sk-toggleable {background-color: white;}#sk-container-id-39 label.sk-toggleable__label {cursor: pointer;display: block;width: 100%;margin-bottom: 0;padding: 0.3em;box-sizing: border-box;text-align: center;}#sk-container-id-39 label.sk-toggleable__label-arrow:before {content: \"▸\";float: left;margin-right: 0.25em;color: #696969;}#sk-container-id-39 label.sk-toggleable__label-arrow:hover:before {color: black;}#sk-container-id-39 div.sk-estimator:hover label.sk-toggleable__label-arrow:before {color: black;}#sk-container-id-39 div.sk-toggleable__content {max-height: 0;max-width: 0;overflow: hidden;text-align: left;background-color: #f0f8ff;}#sk-container-id-39 div.sk-toggleable__content pre {margin: 0.2em;color: black;border-radius: 0.25em;background-color: #f0f8ff;}#sk-container-id-39 input.sk-toggleable__control:checked~div.sk-toggleable__content {max-height: 200px;max-width: 100%;overflow: auto;}#sk-container-id-39 input.sk-toggleable__control:checked~label.sk-toggleable__label-arrow:before {content: \"▾\";}#sk-container-id-39 div.sk-estimator input.sk-toggleable__control:checked~label.sk-toggleable__label {background-color: #d4ebff;}#sk-container-id-39 div.sk-label input.sk-toggleable__control:checked~label.sk-toggleable__label {background-color: #d4ebff;}#sk-container-id-39 input.sk-hidden--visually {border: 0;clip: rect(1px 1px 1px 1px);clip: rect(1px, 1px, 1px, 1px);height: 1px;margin: -1px;overflow: hidden;padding: 0;position: absolute;width: 1px;}#sk-container-id-39 div.sk-estimator {font-family: monospace;background-color: #f0f8ff;border: 1px dotted black;border-radius: 0.25em;box-sizing: border-box;margin-bottom: 0.5em;}#sk-container-id-39 div.sk-estimator:hover {background-color: #d4ebff;}#sk-container-id-39 div.sk-parallel-item::after {content: \"\";width: 100%;border-bottom: 1px solid gray;flex-grow: 1;}#sk-container-id-39 div.sk-label:hover label.sk-toggleable__label {background-color: #d4ebff;}#sk-container-id-39 div.sk-serial::before {content: \"\";position: absolute;border-left: 1px solid gray;box-sizing: border-box;top: 0;bottom: 0;left: 50%;z-index: 0;}#sk-container-id-39 div.sk-serial {display: flex;flex-direction: column;align-items: center;background-color: white;padding-right: 0.2em;padding-left: 0.2em;position: relative;}#sk-container-id-39 div.sk-item {position: relative;z-index: 1;}#sk-container-id-39 div.sk-parallel {display: flex;align-items: stretch;justify-content: center;background-color: white;position: relative;}#sk-container-id-39 div.sk-item::before, #sk-container-id-39 div.sk-parallel-item::before {content: \"\";position: absolute;border-left: 1px solid gray;box-sizing: border-box;top: 0;bottom: 0;left: 50%;z-index: -1;}#sk-container-id-39 div.sk-parallel-item {display: flex;flex-direction: column;z-index: 1;position: relative;background-color: white;}#sk-container-id-39 div.sk-parallel-item:first-child::after {align-self: flex-end;width: 50%;}#sk-container-id-39 div.sk-parallel-item:last-child::after {align-self: flex-start;width: 50%;}#sk-container-id-39 div.sk-parallel-item:only-child::after {width: 0;}#sk-container-id-39 div.sk-dashed-wrapped {border: 1px dashed gray;margin: 0 0.4em 0.5em 0.4em;box-sizing: border-box;padding-bottom: 0.4em;background-color: white;}#sk-container-id-39 div.sk-label label {font-family: monospace;font-weight: bold;display: inline-block;line-height: 1.2em;}#sk-container-id-39 div.sk-label-container {text-align: center;}#sk-container-id-39 div.sk-container {/* jupyter's `normalize.less` sets `[hidden] { display: none; }` but bootstrap.min.css set `[hidden] { display: none !important; }` so we also need the `!important` here to be able to override the default hidden behavior on the sphinx rendered scikit-learn.org. See: https://github.com/scikit-learn/scikit-learn/issues/21755 */display: inline-block !important;position: relative;}#sk-container-id-39 div.sk-text-repr-fallback {display: none;}</style><div id=\"sk-container-id-39\" class=\"sk-top-container\"><div class=\"sk-text-repr-fallback\"><pre>TfidfVectorizer(lowercase=False, max_features=35000)</pre><b>In a Jupyter environment, please rerun this cell to show the HTML representation or trust the notebook. <br />On GitHub, the HTML representation is unable to render, please try loading this page with nbviewer.org.</b></div><div class=\"sk-container\" hidden><div class=\"sk-item\"><div class=\"sk-estimator sk-toggleable\"><input class=\"sk-toggleable__control sk-hidden--visually\" id=\"sk-estimator-id-39\" type=\"checkbox\" checked><label for=\"sk-estimator-id-39\" class=\"sk-toggleable__label sk-toggleable__label-arrow\">TfidfVectorizer</label><div class=\"sk-toggleable__content\"><pre>TfidfVectorizer(lowercase=False, max_features=35000)</pre></div></div></div></div></div>"
      ],
      "text/plain": [
       "TfidfVectorizer(lowercase=False, max_features=35000)"
      ]
     },
     "execution_count": 249,
     "metadata": {},
     "output_type": "execute_result"
    }
   ],
   "source": [
    "max_features = 35000\n",
    "\n",
    "vectorizer = TfidfVectorizer(lowercase=False, max_features=max_features)\n",
    "vectorizer.fit(texts_train_strings)"
   ]
  },
  {
   "cell_type": "code",
   "execution_count": 250,
   "metadata": {},
   "outputs": [
    {
     "name": "stdout",
     "output_type": "stream",
     "text": [
      "(12208, 35000) (4070, 35000)\n"
     ]
    }
   ],
   "source": [
    "X_train = vectorizer.transform(texts_train_strings)\n",
    "X_val = vectorizer.transform(texts_val_strings)\n",
    "print(X_train.shape, X_val.shape)"
   ]
  },
  {
   "cell_type": "code",
   "execution_count": 251,
   "metadata": {},
   "outputs": [
    {
     "data": {
      "text/html": [
       "<style>#sk-container-id-40 {color: black;}#sk-container-id-40 pre{padding: 0;}#sk-container-id-40 div.sk-toggleable {background-color: white;}#sk-container-id-40 label.sk-toggleable__label {cursor: pointer;display: block;width: 100%;margin-bottom: 0;padding: 0.3em;box-sizing: border-box;text-align: center;}#sk-container-id-40 label.sk-toggleable__label-arrow:before {content: \"▸\";float: left;margin-right: 0.25em;color: #696969;}#sk-container-id-40 label.sk-toggleable__label-arrow:hover:before {color: black;}#sk-container-id-40 div.sk-estimator:hover label.sk-toggleable__label-arrow:before {color: black;}#sk-container-id-40 div.sk-toggleable__content {max-height: 0;max-width: 0;overflow: hidden;text-align: left;background-color: #f0f8ff;}#sk-container-id-40 div.sk-toggleable__content pre {margin: 0.2em;color: black;border-radius: 0.25em;background-color: #f0f8ff;}#sk-container-id-40 input.sk-toggleable__control:checked~div.sk-toggleable__content {max-height: 200px;max-width: 100%;overflow: auto;}#sk-container-id-40 input.sk-toggleable__control:checked~label.sk-toggleable__label-arrow:before {content: \"▾\";}#sk-container-id-40 div.sk-estimator input.sk-toggleable__control:checked~label.sk-toggleable__label {background-color: #d4ebff;}#sk-container-id-40 div.sk-label input.sk-toggleable__control:checked~label.sk-toggleable__label {background-color: #d4ebff;}#sk-container-id-40 input.sk-hidden--visually {border: 0;clip: rect(1px 1px 1px 1px);clip: rect(1px, 1px, 1px, 1px);height: 1px;margin: -1px;overflow: hidden;padding: 0;position: absolute;width: 1px;}#sk-container-id-40 div.sk-estimator {font-family: monospace;background-color: #f0f8ff;border: 1px dotted black;border-radius: 0.25em;box-sizing: border-box;margin-bottom: 0.5em;}#sk-container-id-40 div.sk-estimator:hover {background-color: #d4ebff;}#sk-container-id-40 div.sk-parallel-item::after {content: \"\";width: 100%;border-bottom: 1px solid gray;flex-grow: 1;}#sk-container-id-40 div.sk-label:hover label.sk-toggleable__label {background-color: #d4ebff;}#sk-container-id-40 div.sk-serial::before {content: \"\";position: absolute;border-left: 1px solid gray;box-sizing: border-box;top: 0;bottom: 0;left: 50%;z-index: 0;}#sk-container-id-40 div.sk-serial {display: flex;flex-direction: column;align-items: center;background-color: white;padding-right: 0.2em;padding-left: 0.2em;position: relative;}#sk-container-id-40 div.sk-item {position: relative;z-index: 1;}#sk-container-id-40 div.sk-parallel {display: flex;align-items: stretch;justify-content: center;background-color: white;position: relative;}#sk-container-id-40 div.sk-item::before, #sk-container-id-40 div.sk-parallel-item::before {content: \"\";position: absolute;border-left: 1px solid gray;box-sizing: border-box;top: 0;bottom: 0;left: 50%;z-index: -1;}#sk-container-id-40 div.sk-parallel-item {display: flex;flex-direction: column;z-index: 1;position: relative;background-color: white;}#sk-container-id-40 div.sk-parallel-item:first-child::after {align-self: flex-end;width: 50%;}#sk-container-id-40 div.sk-parallel-item:last-child::after {align-self: flex-start;width: 50%;}#sk-container-id-40 div.sk-parallel-item:only-child::after {width: 0;}#sk-container-id-40 div.sk-dashed-wrapped {border: 1px dashed gray;margin: 0 0.4em 0.5em 0.4em;box-sizing: border-box;padding-bottom: 0.4em;background-color: white;}#sk-container-id-40 div.sk-label label {font-family: monospace;font-weight: bold;display: inline-block;line-height: 1.2em;}#sk-container-id-40 div.sk-label-container {text-align: center;}#sk-container-id-40 div.sk-container {/* jupyter's `normalize.less` sets `[hidden] { display: none; }` but bootstrap.min.css set `[hidden] { display: none !important; }` so we also need the `!important` here to be able to override the default hidden behavior on the sphinx rendered scikit-learn.org. See: https://github.com/scikit-learn/scikit-learn/issues/21755 */display: inline-block !important;position: relative;}#sk-container-id-40 div.sk-text-repr-fallback {display: none;}</style><div id=\"sk-container-id-40\" class=\"sk-top-container\"><div class=\"sk-text-repr-fallback\"><pre>GaussianNB()</pre><b>In a Jupyter environment, please rerun this cell to show the HTML representation or trust the notebook. <br />On GitHub, the HTML representation is unable to render, please try loading this page with nbviewer.org.</b></div><div class=\"sk-container\" hidden><div class=\"sk-item\"><div class=\"sk-estimator sk-toggleable\"><input class=\"sk-toggleable__control sk-hidden--visually\" id=\"sk-estimator-id-40\" type=\"checkbox\" checked><label for=\"sk-estimator-id-40\" class=\"sk-toggleable__label sk-toggleable__label-arrow\">GaussianNB</label><div class=\"sk-toggleable__content\"><pre>GaussianNB()</pre></div></div></div></div></div>"
      ],
      "text/plain": [
       "GaussianNB()"
      ]
     },
     "execution_count": 251,
     "metadata": {},
     "output_type": "execute_result"
    }
   ],
   "source": [
    "clf = GaussianNB()\n",
    "\n",
    "clf.fit(X_train.toarray(), y_train)"
   ]
  },
  {
   "cell_type": "code",
   "execution_count": 252,
   "metadata": {},
   "outputs": [
    {
     "name": "stdout",
     "output_type": "stream",
     "text": [
      "Accuracy 0.7843, Precision 0.5954, Recall 0.8411, f1 0.6972, ROC AUC 0.80059\n"
     ]
    }
   ],
   "source": [
    "(accuracy_val,\n",
    "precision_val,\n",
    "recall_val,\n",
    "f1_val,\n",
    "roc_auc_val) = calc_metrics(clf, X_val, y_val)\n",
    "\n",
    "print(f'Accuracy {accuracy_val:.4f}, Precision {precision_val:.4f}, ', end='')\n",
    "print(f'Recall {recall_val:.4f}, f1 {f1_val:.4f}, ROC AUC {roc_auc_val:.5f}')"
   ]
  },
  {
   "cell_type": "markdown",
   "metadata": {},
   "source": [
    "Стало хуже 2. Гипотеза опровергнута."
   ]
  },
  {
   "cell_type": "markdown",
   "metadata": {},
   "source": [
    "## Pipeline 7\n",
    "\n",
    "Переводим эмоджи в текст. Переводим все числа в NUMBERS. Переводим символы валют в CURRANCY.\n",
    "\n",
    "Ничего не делаем с nonascii.\n",
    "\n",
    "Гипотеза: должно стать лучше случая 2."
   ]
  },
  {
   "cell_type": "code",
   "execution_count": 253,
   "metadata": {},
   "outputs": [],
   "source": [
    "preprocess_utils = [\n",
    "                    remove_hyperlink,\n",
    "                    replace_newline,\n",
    "                    to_lower,\n",
    "                    remove_underscore,\n",
    "                    emoji_to_text,\n",
    "                    remove_number,\n",
    "                    remove_currency,\n",
    "                    remove_punctuation,\n",
    "                    remove_whitespace,\n",
    "                    tokenizer.tokenize,\n",
    "                    remove_stop_words,       ###\n",
    "                    word_lemmatizer,         ###\n",
    "                ]"
   ]
  },
  {
   "cell_type": "code",
   "execution_count": 254,
   "metadata": {},
   "outputs": [
    {
     "name": "stdout",
     "output_type": "stream",
     "text": [
      "hi building rpm resin webserver basically want install entire tarball diretory tarball includes subdirectory spec install NUMBER name version release rpmbuildroot usr local resin getting install resin NUMBER NUMBER NUMBER bin directory install resin NUMBER NUMBER NUMBER conf directory proper nice way handle seem super human misunderstood c dream theater mark url icq NUMBER jid talios url rpm list mailing list rpm list freshrpms net url\n",
      "main symptom manifestation NUMBER main manifestation NUMBER patient fever dry cough fatigue patient diminished lost sense smell taste first symptom small number patient accompanied nasal congestion runny nose sore throat conjunctivitis myalgia diarrheadefeating NUMBER requires joint effort people india sun pharma best click participate parttime task fighting NUMBER get daily reward\n",
      "would like get free navigation forever map NUMBER country nokia phone learn install\n",
      "prospective NUMBER NUMBER houston visit ehud june NUMBER work want firm vince ehud ronn NUMBER NUMBER NUMBER NUMBER NUMBER NUMBER pm vince j kaminski enron com cc subject prospective NUMBER NUMBER houston visit vince many thanks e mail june NUMBER several trip may NUMBER june NUMBER thank invitation may time acquire option visit date finalization visit timing completed early next month thanks best regard ehud ehud ronn department finance college graduate school business university texas austin austin tx NUMBER NUMBER voice NUMBER NUMBER NUMBER fax NUMBER NUMBER NUMBER internet eronn mail utexas edu\n",
      "url jm url changed removed added status new assigned additional comment jm url NUMBER NUMBER NUMBER NUMBER NUMBER NUMBER use config gradually removed thankfully want see stuff acn avoided different perl version jsut vary much stuff NUMBER perl concept rule could unless perl libdir usr lib NUMBER siteperl NUMBER x x foo perl know existence usr share etc used use usr lib NUMBER storing rule actually much worse need band way tell sa find stuff problem NUMBER try perl url dev null allow bot build think might missing detail\n",
      "coffee mythcoffee drinker prone heart disease NUMBER NUMBER NUMBER NUMBER within NUMBER know fact coffee\n",
      "jay want work first hows NUMBER sound\n",
      "approval reviewer robert jr michael suggested reviewer submitted approval may review modify list reviewer logging pep http pep corp enron com going supervisor service please remember feedback completed robert jr michael approved list\n",
      "project brainstorming paulo april colorado march NUMBER schedule next week talk directly currently eb research helping kevin howard scott yeager indirectly via kevin effort ass value eyeball paulo research complement effort research paulo perform part bigger picture work kevin howard aked stinson support call cell NUMBER NUMBER NUMBER co regard ravi april hodgson NUMBER NUMBER NUMBER NUMBER NUMBER pm stinson gibner hou ect ect enron cc ravi thuraisingham enron communication enron communication vince j kaminski hou ect ect enron subject project brainstorming paulo office frid\n",
      "could seen mei didt recognise face\n",
      "k dahow many page want\n",
      "cant still believe made much process keep believing self think reward risk taking im happy give trial share testimony referral\n",
      "time NUMBER filing unit pat recently talked ordering another filing unit turn need NUMBER filing unit please order size floor ceiling cabinet inside cabinet configured follows NUMBER cabinet NUMBER shelf NUMBER cabinet NUMBER shelf interstore today reconfiguing NUMBER existing cabinet removed NUMBER shelf going use new unit please price NUMBER new unit charge co NUMBER rc NUMBER please let price approximate delivery date also let know need anything else thanks anita\n",
      "NUMBER spirituality rich well poor rich open heart poor give selfconfidence\n",
      "also thk fast xy suggest one u dun wan ok going NUMBER rain leh got gd\n",
      "lost job taught life come end knowing god better plan binary option trade good help family invested mr roberto robinson immediately lost job today far richer used earn still working former company know wasting year working hard job make quick money little investment fund contact mr roberto robinson today start earning massively via link backhand_index_pointing_down backhand_index_pointing_down backhand_index_pointing_down backhand_index_pointing_down backhand_index_pointing_down backhand_index_pointing_down backhand_index_pointing_down backhand_index_pointing_down backhand_index_pointing_down\n",
      "undelivered mail returned sender postfix program host correio quick com br sorry inform message returned could delivered one destination assistance please send mail please include problem report delete text message returned postfix program user unknown command output invalid user specified\n",
      "ok much though hm friday cant wait dunno wot hell im gonna another NUMBER week become slob oh wait already done\n",
      "𝑰𝒕𝒔 𝒕𝒉𝒆 𝒔𝒆𝒄𝒐𝒏𝒅 𝒕𝒊𝒎𝒆 𝒐𝒇 𝒓𝒆𝒄𝒆𝒊𝒗𝒊𝒏𝒈 𝒎𝒚 𝒑𝒓𝒐𝒇𝒊𝒕 𝒇𝒓𝒐𝒎 𝒕𝒉𝒊𝒔 𝒊𝒏𝒗𝒆𝒔𝒕𝒎𝒆𝒏𝒕 𝒑𝒍𝒂𝒕𝒇𝒐𝒓𝒎 𝒂𝒏𝒅 𝑰 𝒏𝒆𝒆𝒅 𝒕𝒐 𝒕𝒆𝒔𝒕𝒊𝒇𝒚 𝒕𝒐 𝒚𝒐𝒖 𝒕𝒉𝒂𝒕 𝑰 𝒋𝒖𝒔𝒕 𝒓𝒆𝒄𝒆𝒊𝒗𝒆𝒅 NUMBER 𝑱𝒐𝒊𝒏 𝒕𝒐 𝒈𝒆𝒕 𝒔𝒕𝒂𝒓𝒕𝒆𝒅 backhand_index_pointing_down backhand_index_pointing_down backhand_index_pointing_down earn home mobile_phone mobile_phone mobile_phone mobile_phone\n",
      "boy loved gal propsd bt didnt mind gv lv lttrs bt frnds threw thm boy decided NUMBER aproach gal dt time truck speeding towards gal wn NUMBER hit girld boy ran like hell n saved asked hw cn u run fast boy replied boost secret energy n instantly girl shouted energy n thy lived happily NUMBER drinking boost evrydy moral story hv free msgsd gud NUMBER\n"
     ]
    }
   ],
   "source": [
    "data_train_tokenized = [\n",
    "    preprocess_pipeline(sent, preprocess_utils) for sent in texts_train_all.to_numpy()\n",
    "]\n",
    "\n",
    "print_tokenized_data(data_train_tokenized, 20, 40)"
   ]
  },
  {
   "cell_type": "code",
   "execution_count": 255,
   "metadata": {},
   "outputs": [],
   "source": [
    "texts_train, texts_val, y_train, y_val = train_test_split(\n",
    "                                        data_train_tokenized,\n",
    "                                        target_all,\n",
    "                                        shuffle=True,\n",
    "                                        random_state=42, \n",
    "                                        stratify=target_all)\n",
    "\n",
    "texts_train_strings = [\" \".join(sentence) for sentence in texts_train]\n",
    "texts_val_strings = [\" \".join(sentence) for sentence in texts_val]"
   ]
  },
  {
   "cell_type": "code",
   "execution_count": 256,
   "metadata": {},
   "outputs": [
    {
     "data": {
      "text/html": [
       "<style>#sk-container-id-41 {color: black;}#sk-container-id-41 pre{padding: 0;}#sk-container-id-41 div.sk-toggleable {background-color: white;}#sk-container-id-41 label.sk-toggleable__label {cursor: pointer;display: block;width: 100%;margin-bottom: 0;padding: 0.3em;box-sizing: border-box;text-align: center;}#sk-container-id-41 label.sk-toggleable__label-arrow:before {content: \"▸\";float: left;margin-right: 0.25em;color: #696969;}#sk-container-id-41 label.sk-toggleable__label-arrow:hover:before {color: black;}#sk-container-id-41 div.sk-estimator:hover label.sk-toggleable__label-arrow:before {color: black;}#sk-container-id-41 div.sk-toggleable__content {max-height: 0;max-width: 0;overflow: hidden;text-align: left;background-color: #f0f8ff;}#sk-container-id-41 div.sk-toggleable__content pre {margin: 0.2em;color: black;border-radius: 0.25em;background-color: #f0f8ff;}#sk-container-id-41 input.sk-toggleable__control:checked~div.sk-toggleable__content {max-height: 200px;max-width: 100%;overflow: auto;}#sk-container-id-41 input.sk-toggleable__control:checked~label.sk-toggleable__label-arrow:before {content: \"▾\";}#sk-container-id-41 div.sk-estimator input.sk-toggleable__control:checked~label.sk-toggleable__label {background-color: #d4ebff;}#sk-container-id-41 div.sk-label input.sk-toggleable__control:checked~label.sk-toggleable__label {background-color: #d4ebff;}#sk-container-id-41 input.sk-hidden--visually {border: 0;clip: rect(1px 1px 1px 1px);clip: rect(1px, 1px, 1px, 1px);height: 1px;margin: -1px;overflow: hidden;padding: 0;position: absolute;width: 1px;}#sk-container-id-41 div.sk-estimator {font-family: monospace;background-color: #f0f8ff;border: 1px dotted black;border-radius: 0.25em;box-sizing: border-box;margin-bottom: 0.5em;}#sk-container-id-41 div.sk-estimator:hover {background-color: #d4ebff;}#sk-container-id-41 div.sk-parallel-item::after {content: \"\";width: 100%;border-bottom: 1px solid gray;flex-grow: 1;}#sk-container-id-41 div.sk-label:hover label.sk-toggleable__label {background-color: #d4ebff;}#sk-container-id-41 div.sk-serial::before {content: \"\";position: absolute;border-left: 1px solid gray;box-sizing: border-box;top: 0;bottom: 0;left: 50%;z-index: 0;}#sk-container-id-41 div.sk-serial {display: flex;flex-direction: column;align-items: center;background-color: white;padding-right: 0.2em;padding-left: 0.2em;position: relative;}#sk-container-id-41 div.sk-item {position: relative;z-index: 1;}#sk-container-id-41 div.sk-parallel {display: flex;align-items: stretch;justify-content: center;background-color: white;position: relative;}#sk-container-id-41 div.sk-item::before, #sk-container-id-41 div.sk-parallel-item::before {content: \"\";position: absolute;border-left: 1px solid gray;box-sizing: border-box;top: 0;bottom: 0;left: 50%;z-index: -1;}#sk-container-id-41 div.sk-parallel-item {display: flex;flex-direction: column;z-index: 1;position: relative;background-color: white;}#sk-container-id-41 div.sk-parallel-item:first-child::after {align-self: flex-end;width: 50%;}#sk-container-id-41 div.sk-parallel-item:last-child::after {align-self: flex-start;width: 50%;}#sk-container-id-41 div.sk-parallel-item:only-child::after {width: 0;}#sk-container-id-41 div.sk-dashed-wrapped {border: 1px dashed gray;margin: 0 0.4em 0.5em 0.4em;box-sizing: border-box;padding-bottom: 0.4em;background-color: white;}#sk-container-id-41 div.sk-label label {font-family: monospace;font-weight: bold;display: inline-block;line-height: 1.2em;}#sk-container-id-41 div.sk-label-container {text-align: center;}#sk-container-id-41 div.sk-container {/* jupyter's `normalize.less` sets `[hidden] { display: none; }` but bootstrap.min.css set `[hidden] { display: none !important; }` so we also need the `!important` here to be able to override the default hidden behavior on the sphinx rendered scikit-learn.org. See: https://github.com/scikit-learn/scikit-learn/issues/21755 */display: inline-block !important;position: relative;}#sk-container-id-41 div.sk-text-repr-fallback {display: none;}</style><div id=\"sk-container-id-41\" class=\"sk-top-container\"><div class=\"sk-text-repr-fallback\"><pre>TfidfVectorizer(lowercase=False, max_features=35000)</pre><b>In a Jupyter environment, please rerun this cell to show the HTML representation or trust the notebook. <br />On GitHub, the HTML representation is unable to render, please try loading this page with nbviewer.org.</b></div><div class=\"sk-container\" hidden><div class=\"sk-item\"><div class=\"sk-estimator sk-toggleable\"><input class=\"sk-toggleable__control sk-hidden--visually\" id=\"sk-estimator-id-41\" type=\"checkbox\" checked><label for=\"sk-estimator-id-41\" class=\"sk-toggleable__label sk-toggleable__label-arrow\">TfidfVectorizer</label><div class=\"sk-toggleable__content\"><pre>TfidfVectorizer(lowercase=False, max_features=35000)</pre></div></div></div></div></div>"
      ],
      "text/plain": [
       "TfidfVectorizer(lowercase=False, max_features=35000)"
      ]
     },
     "execution_count": 256,
     "metadata": {},
     "output_type": "execute_result"
    }
   ],
   "source": [
    "max_features = 35000\n",
    "\n",
    "vectorizer = TfidfVectorizer(lowercase=False, max_features=max_features)\n",
    "vectorizer.fit(texts_train_strings)"
   ]
  },
  {
   "cell_type": "code",
   "execution_count": 257,
   "metadata": {},
   "outputs": [
    {
     "name": "stdout",
     "output_type": "stream",
     "text": [
      "(12208, 35000) (4070, 35000)\n"
     ]
    }
   ],
   "source": [
    "X_train = vectorizer.transform(texts_train_strings)\n",
    "X_val = vectorizer.transform(texts_val_strings)\n",
    "print(X_train.shape, X_val.shape)"
   ]
  },
  {
   "cell_type": "code",
   "execution_count": 258,
   "metadata": {},
   "outputs": [
    {
     "data": {
      "text/html": [
       "<style>#sk-container-id-42 {color: black;}#sk-container-id-42 pre{padding: 0;}#sk-container-id-42 div.sk-toggleable {background-color: white;}#sk-container-id-42 label.sk-toggleable__label {cursor: pointer;display: block;width: 100%;margin-bottom: 0;padding: 0.3em;box-sizing: border-box;text-align: center;}#sk-container-id-42 label.sk-toggleable__label-arrow:before {content: \"▸\";float: left;margin-right: 0.25em;color: #696969;}#sk-container-id-42 label.sk-toggleable__label-arrow:hover:before {color: black;}#sk-container-id-42 div.sk-estimator:hover label.sk-toggleable__label-arrow:before {color: black;}#sk-container-id-42 div.sk-toggleable__content {max-height: 0;max-width: 0;overflow: hidden;text-align: left;background-color: #f0f8ff;}#sk-container-id-42 div.sk-toggleable__content pre {margin: 0.2em;color: black;border-radius: 0.25em;background-color: #f0f8ff;}#sk-container-id-42 input.sk-toggleable__control:checked~div.sk-toggleable__content {max-height: 200px;max-width: 100%;overflow: auto;}#sk-container-id-42 input.sk-toggleable__control:checked~label.sk-toggleable__label-arrow:before {content: \"▾\";}#sk-container-id-42 div.sk-estimator input.sk-toggleable__control:checked~label.sk-toggleable__label {background-color: #d4ebff;}#sk-container-id-42 div.sk-label input.sk-toggleable__control:checked~label.sk-toggleable__label {background-color: #d4ebff;}#sk-container-id-42 input.sk-hidden--visually {border: 0;clip: rect(1px 1px 1px 1px);clip: rect(1px, 1px, 1px, 1px);height: 1px;margin: -1px;overflow: hidden;padding: 0;position: absolute;width: 1px;}#sk-container-id-42 div.sk-estimator {font-family: monospace;background-color: #f0f8ff;border: 1px dotted black;border-radius: 0.25em;box-sizing: border-box;margin-bottom: 0.5em;}#sk-container-id-42 div.sk-estimator:hover {background-color: #d4ebff;}#sk-container-id-42 div.sk-parallel-item::after {content: \"\";width: 100%;border-bottom: 1px solid gray;flex-grow: 1;}#sk-container-id-42 div.sk-label:hover label.sk-toggleable__label {background-color: #d4ebff;}#sk-container-id-42 div.sk-serial::before {content: \"\";position: absolute;border-left: 1px solid gray;box-sizing: border-box;top: 0;bottom: 0;left: 50%;z-index: 0;}#sk-container-id-42 div.sk-serial {display: flex;flex-direction: column;align-items: center;background-color: white;padding-right: 0.2em;padding-left: 0.2em;position: relative;}#sk-container-id-42 div.sk-item {position: relative;z-index: 1;}#sk-container-id-42 div.sk-parallel {display: flex;align-items: stretch;justify-content: center;background-color: white;position: relative;}#sk-container-id-42 div.sk-item::before, #sk-container-id-42 div.sk-parallel-item::before {content: \"\";position: absolute;border-left: 1px solid gray;box-sizing: border-box;top: 0;bottom: 0;left: 50%;z-index: -1;}#sk-container-id-42 div.sk-parallel-item {display: flex;flex-direction: column;z-index: 1;position: relative;background-color: white;}#sk-container-id-42 div.sk-parallel-item:first-child::after {align-self: flex-end;width: 50%;}#sk-container-id-42 div.sk-parallel-item:last-child::after {align-self: flex-start;width: 50%;}#sk-container-id-42 div.sk-parallel-item:only-child::after {width: 0;}#sk-container-id-42 div.sk-dashed-wrapped {border: 1px dashed gray;margin: 0 0.4em 0.5em 0.4em;box-sizing: border-box;padding-bottom: 0.4em;background-color: white;}#sk-container-id-42 div.sk-label label {font-family: monospace;font-weight: bold;display: inline-block;line-height: 1.2em;}#sk-container-id-42 div.sk-label-container {text-align: center;}#sk-container-id-42 div.sk-container {/* jupyter's `normalize.less` sets `[hidden] { display: none; }` but bootstrap.min.css set `[hidden] { display: none !important; }` so we also need the `!important` here to be able to override the default hidden behavior on the sphinx rendered scikit-learn.org. See: https://github.com/scikit-learn/scikit-learn/issues/21755 */display: inline-block !important;position: relative;}#sk-container-id-42 div.sk-text-repr-fallback {display: none;}</style><div id=\"sk-container-id-42\" class=\"sk-top-container\"><div class=\"sk-text-repr-fallback\"><pre>GaussianNB()</pre><b>In a Jupyter environment, please rerun this cell to show the HTML representation or trust the notebook. <br />On GitHub, the HTML representation is unable to render, please try loading this page with nbviewer.org.</b></div><div class=\"sk-container\" hidden><div class=\"sk-item\"><div class=\"sk-estimator sk-toggleable\"><input class=\"sk-toggleable__control sk-hidden--visually\" id=\"sk-estimator-id-42\" type=\"checkbox\" checked><label for=\"sk-estimator-id-42\" class=\"sk-toggleable__label sk-toggleable__label-arrow\">GaussianNB</label><div class=\"sk-toggleable__content\"><pre>GaussianNB()</pre></div></div></div></div></div>"
      ],
      "text/plain": [
       "GaussianNB()"
      ]
     },
     "execution_count": 258,
     "metadata": {},
     "output_type": "execute_result"
    }
   ],
   "source": [
    "clf = GaussianNB()\n",
    "\n",
    "clf.fit(X_train.toarray(), y_train)"
   ]
  },
  {
   "cell_type": "code",
   "execution_count": 259,
   "metadata": {},
   "outputs": [
    {
     "name": "stdout",
     "output_type": "stream",
     "text": [
      "Accuracy 0.7862, Precision 0.5978, Recall 0.8444, f1 0.7000, ROC AUC 0.80300\n"
     ]
    }
   ],
   "source": [
    "(accuracy_val,\n",
    "precision_val,\n",
    "recall_val,\n",
    "f1_val,\n",
    "roc_auc_val) = calc_metrics(clf, X_val, y_val)\n",
    "\n",
    "print(f'Accuracy {accuracy_val:.4f}, Precision {precision_val:.4f}, ', end='')\n",
    "print(f'Recall {recall_val:.4f}, f1 {f1_val:.4f}, ROC AUC {roc_auc_val:.5f}')"
   ]
  },
  {
   "cell_type": "markdown",
   "metadata": {},
   "source": [
    "Примерно как предыдущий случай 6. Гипотеза опровергнута."
   ]
  },
  {
   "cell_type": "code",
   "execution_count": null,
   "metadata": {},
   "outputs": [],
   "source": []
  }
 ],
 "metadata": {
  "kernelspec": {
   "display_name": "base",
   "language": "python",
   "name": "python3"
  },
  "language_info": {
   "codemirror_mode": {
    "name": "ipython",
    "version": 3
   },
   "file_extension": ".py",
   "mimetype": "text/x-python",
   "name": "python",
   "nbconvert_exporter": "python",
   "pygments_lexer": "ipython3",
   "version": "3.9.18"
  }
 },
 "nbformat": 4,
 "nbformat_minor": 2
}
